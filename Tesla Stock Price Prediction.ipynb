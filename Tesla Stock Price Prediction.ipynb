{
 "cells": [
  {
   "cell_type": "code",
   "execution_count": 1,
   "id": "66e200dc",
   "metadata": {},
   "outputs": [],
   "source": [
    "import numpy as np\n",
    "import pandas as pd\n",
    "import plotly.graph_objects as go\n",
    "import matplotlib.pyplot as plt"
   ]
  },
  {
   "cell_type": "code",
   "execution_count": 2,
   "id": "b0c7dc41",
   "metadata": {},
   "outputs": [
    {
     "data": {
      "text/html": [
       "<div>\n",
       "<style scoped>\n",
       "    .dataframe tbody tr th:only-of-type {\n",
       "        vertical-align: middle;\n",
       "    }\n",
       "\n",
       "    .dataframe tbody tr th {\n",
       "        vertical-align: top;\n",
       "    }\n",
       "\n",
       "    .dataframe thead th {\n",
       "        text-align: right;\n",
       "    }\n",
       "</style>\n",
       "<table border=\"1\" class=\"dataframe\">\n",
       "  <thead>\n",
       "    <tr style=\"text-align: right;\">\n",
       "      <th></th>\n",
       "      <th>Date</th>\n",
       "      <th>Open</th>\n",
       "      <th>High</th>\n",
       "      <th>Low</th>\n",
       "      <th>Close</th>\n",
       "      <th>Adj Close</th>\n",
       "      <th>Volume</th>\n",
       "    </tr>\n",
       "  </thead>\n",
       "  <tbody>\n",
       "    <tr>\n",
       "      <th>0</th>\n",
       "      <td>2021-08-19</td>\n",
       "      <td>678.210022</td>\n",
       "      <td>686.549988</td>\n",
       "      <td>667.590027</td>\n",
       "      <td>673.469971</td>\n",
       "      <td>673.469971</td>\n",
       "      <td>14313500</td>\n",
       "    </tr>\n",
       "    <tr>\n",
       "      <th>1</th>\n",
       "      <td>2021-08-20</td>\n",
       "      <td>682.849976</td>\n",
       "      <td>692.130005</td>\n",
       "      <td>673.700012</td>\n",
       "      <td>680.260010</td>\n",
       "      <td>680.260010</td>\n",
       "      <td>14841900</td>\n",
       "    </tr>\n",
       "    <tr>\n",
       "      <th>2</th>\n",
       "      <td>2021-08-23</td>\n",
       "      <td>685.440002</td>\n",
       "      <td>712.130005</td>\n",
       "      <td>680.750000</td>\n",
       "      <td>706.299988</td>\n",
       "      <td>706.299988</td>\n",
       "      <td>20264900</td>\n",
       "    </tr>\n",
       "    <tr>\n",
       "      <th>3</th>\n",
       "      <td>2021-08-24</td>\n",
       "      <td>710.679993</td>\n",
       "      <td>715.219971</td>\n",
       "      <td>702.640015</td>\n",
       "      <td>708.489990</td>\n",
       "      <td>708.489990</td>\n",
       "      <td>13083100</td>\n",
       "    </tr>\n",
       "    <tr>\n",
       "      <th>4</th>\n",
       "      <td>2021-08-25</td>\n",
       "      <td>707.030029</td>\n",
       "      <td>716.969971</td>\n",
       "      <td>704.000000</td>\n",
       "      <td>711.200012</td>\n",
       "      <td>711.200012</td>\n",
       "      <td>12645600</td>\n",
       "    </tr>\n",
       "  </tbody>\n",
       "</table>\n",
       "</div>"
      ],
      "text/plain": [
       "         Date        Open        High         Low       Close   Adj Close  \\\n",
       "0  2021-08-19  678.210022  686.549988  667.590027  673.469971  673.469971   \n",
       "1  2021-08-20  682.849976  692.130005  673.700012  680.260010  680.260010   \n",
       "2  2021-08-23  685.440002  712.130005  680.750000  706.299988  706.299988   \n",
       "3  2021-08-24  710.679993  715.219971  702.640015  708.489990  708.489990   \n",
       "4  2021-08-25  707.030029  716.969971  704.000000  711.200012  711.200012   \n",
       "\n",
       "     Volume  \n",
       "0  14313500  \n",
       "1  14841900  \n",
       "2  20264900  \n",
       "3  13083100  \n",
       "4  12645600  "
      ]
     },
     "execution_count": 2,
     "metadata": {},
     "output_type": "execute_result"
    }
   ],
   "source": [
    "data = pd.read_csv(\"TSLA.csv\")\n",
    "data.head()"
   ]
  },
  {
   "cell_type": "code",
   "execution_count": 3,
   "id": "38074d9e",
   "metadata": {},
   "outputs": [
    {
     "data": {
      "image/png": "[encoded data removed]",
      "text/plain": [
       "<Figure size 432x288 with 1 Axes>"
      ]
     },
     "metadata": {
      "needs_background": "light"
     },
     "output_type": "display_data"
    }
   ],
   "source": [
    "close = data['Close']\n",
    "ax = close.plot(title='Tesla')\n",
    "ax.set_xlabel('Date')\n",
    "ax.set_ylabel('Close')\n",
    "plt.show()"
   ]
  },
  {
   "cell_type": "code",
   "execution_count": 4,
   "id": "6181eca1",
   "metadata": {},
   "outputs": [
    {
     "name": "stdout",
     "output_type": "stream",
     "text": [
      "               Open      High       Low     Close  Adj Close    Volume\n",
      "Open       1.000000  0.992451  0.988228  0.976073   0.976073  0.068182\n",
      "High       0.992451  1.000000  0.989317  0.988586   0.988586  0.122757\n",
      "Low        0.988228  0.989317  1.000000  0.991355   0.991355  0.011679\n",
      "Close      0.976073  0.988586  0.991355  1.000000   1.000000  0.067907\n",
      "Adj Close  0.976073  0.988586  0.991355  1.000000   1.000000  0.067907\n",
      "Volume     0.068182  0.122757  0.011679  0.067907   0.067907  1.000000\n"
     ]
    }
   ],
   "source": [
    "print(data.corr())"
   ]
  },
  {
   "cell_type": "code",
   "execution_count": 5,
   "id": "d47cf6f6",
   "metadata": {},
   "outputs": [],
   "source": [
    "from autots import AutoTS"
   ]
  },
  {
   "cell_type": "code",
   "execution_count": 6,
   "id": "6c9ae8ce",
   "metadata": {},
   "outputs": [
    {
     "name": "stdout",
     "output_type": "stream",
     "text": [
      "Inferred frequency is: B\n",
      "Model Number: 1 with model AverageValueNaive in generation 0 of 10\n",
      "Model Number: 2 with model AverageValueNaive in generation 0 of 10\n",
      "Model Number: 3 with model AverageValueNaive in generation 0 of 10\n",
      "Model Number: 4 with model DatepartRegression in generation 0 of 10\n",
      "Model Number: 5 with model DatepartRegression in generation 0 of 10\n",
      "Model Number: 6 with model DatepartRegression in generation 0 of 10\n"
     ]
    },
    {
     "name": "stderr",
     "output_type": "stream",
     "text": [
      "C:\\Users\\darkp\\anaconda3\\lib\\site-packages\\sklearn\\svm\\_base.py:1206: ConvergenceWarning: Liblinear failed to converge, increase the number of iterations.\n",
      "  warnings.warn(\n"
     ]
    },
    {
     "name": "stdout",
     "output_type": "stream",
     "text": [
      "Model Number: 7 with model DatepartRegression in generation 0 of 10\n",
      "Template Eval Error: ImportError('Tensorflow not available, install with pip install tensorflow.') in model 7: DatepartRegression\n",
      "Model Number: 8 with model ETS in generation 0 of 10\n",
      "Model Number: 9 with model ETS in generation 0 of 10\n"
     ]
    },
    {
     "name": "stderr",
     "output_type": "stream",
     "text": [
      "C:\\Users\\darkp\\anaconda3\\lib\\site-packages\\sklearn\\neural_network\\_multilayer_perceptron.py:549: ConvergenceWarning: lbfgs failed to converge (status=1):\n",
      "STOP: TOTAL NO. of ITERATIONS REACHED LIMIT.\n",
      "\n",
      "Increase the number of iterations (max_iter) or scale the data as shown in:\n",
      "    https://scikit-learn.org/stable/modules/preprocessing.html\n",
      "  self.n_iter_ = _check_optimize_result(\"lbfgs\", opt_res, self.max_iter)\n"
     ]
    },
    {
     "name": "stdout",
     "output_type": "stream",
     "text": [
      "Model Number: 10 with model GLM in generation 0 of 10\n",
      "Template Eval Error: TypeError(\"ufunc 'isfinite' not supported for the input types, and the inputs could not be safely coerced to any supported types according to the casting rule ''safe''\") in model 10: GLM\n",
      "Model Number: 11 with model GLM in generation 0 of 10\n",
      "Model Number: 12 with model GLS in generation 0 of 10\n",
      "Model Number: 13 with model GLS in generation 0 of 10\n",
      "Model Number: 14 with model GluonTS in generation 0 of 10\n",
      "Template Eval Error: ImportError('GluonTS installation not found or installed version is incompatible with AutoTS.') in model 14: GluonTS\n",
      "Model Number: 15 with model GluonTS in generation 0 of 10\n",
      "Template Eval Error: ImportError('GluonTS installation not found or installed version is incompatible with AutoTS.') in model 15: GluonTS\n",
      "Model Number: 16 with model GluonTS in generation 0 of 10\n",
      "Template Eval Error: ImportError('GluonTS installation not found or installed version is incompatible with AutoTS.') in model 16: GluonTS\n",
      "Model Number: 17 with model GluonTS in generation 0 of 10\n",
      "Template Eval Error: ImportError('GluonTS installation not found or installed version is incompatible with AutoTS.') in model 17: GluonTS\n",
      "Model Number: 18 with model GluonTS in generation 0 of 10\n",
      "Template Eval Error: ImportError('GluonTS installation not found or installed version is incompatible with AutoTS.') in model 18: GluonTS\n",
      "Model Number: 19 with model LastValueNaive in generation 0 of 10\n",
      "Model Number: 20 with model LastValueNaive in generation 0 of 10\n",
      "Model Number: 21 with model LastValueNaive in generation 0 of 10\n",
      "Model Number: 22 with model LastValueNaive in generation 0 of 10\n",
      "Model Number: 23 with model SeasonalNaive in generation 0 of 10\n",
      "Model Number: 24 with model SeasonalNaive in generation 0 of 10\n",
      "Model Number: 25 with model SeasonalNaive in generation 0 of 10\n",
      "Model Number: 26 with model UnobservedComponents in generation 0 of 10\n",
      "Model Number: 27 with model UnobservedComponents in generation 0 of 10\n",
      "Model Number: 28 with model UnobservedComponents in generation 0 of 10\n",
      "Model Number: 29 with model VAR in generation 0 of 10\n",
      "Template Eval Error: ValueError('Only gave one variable to VAR') in model 29: VAR\n",
      "Model Number: 30 with model VAR in generation 0 of 10\n",
      "Template Eval Error: ValueError('Only gave one variable to VAR') in model 30: VAR\n",
      "Model Number: 31 with model VECM in generation 0 of 10\n",
      "Template Eval Error: ValueError('Only gave one variable to VECM') in model 31: VECM\n",
      "Model Number: 32 with model VECM in generation 0 of 10\n",
      "Template Eval Error: ValueError('Only gave one variable to VECM') in model 32: VECM\n",
      "Model Number: 33 with model WindowRegression in generation 0 of 10\n",
      "Model Number: 34 with model ConstantNaive in generation 0 of 10\n"
     ]
    },
    {
     "name": "stderr",
     "output_type": "stream",
     "text": [
      "C:\\Users\\darkp\\anaconda3\\lib\\site-packages\\sklearn\\neural_network\\_multilayer_perceptron.py:549: ConvergenceWarning: lbfgs failed to converge (status=1):\n",
      "STOP: TOTAL NO. of ITERATIONS REACHED LIMIT.\n",
      "\n",
      "Increase the number of iterations (max_iter) or scale the data as shown in:\n",
      "    https://scikit-learn.org/stable/modules/preprocessing.html\n",
      "  self.n_iter_ = _check_optimize_result(\"lbfgs\", opt_res, self.max_iter)\n"
     ]
    },
    {
     "name": "stdout",
     "output_type": "stream",
     "text": [
      "Model Number: 35 with model FBProphet in generation 0 of 10\n",
      "Template Eval Error: ModuleNotFoundError(\"No module named 'fbprophet'\") in model 35: FBProphet\n",
      "Model Number: 36 with model GluonTS in generation 0 of 10\n",
      "Template Eval Error: ImportError('GluonTS installation not found or installed version is incompatible with AutoTS.') in model 36: GluonTS\n",
      "Model Number: 37 with model MultivariateRegression in generation 0 of 10\n"
     ]
    },
    {
     "name": "stderr",
     "output_type": "stream",
     "text": [
      "[Parallel(n_jobs=-2)]: Using backend ThreadingBackend with 7 concurrent workers.\n",
      "[Parallel(n_jobs=-2)]: Done  36 tasks      | elapsed:    0.0s\n",
      "[Parallel(n_jobs=-2)]: Done 186 tasks      | elapsed:    0.1s\n",
      "[Parallel(n_jobs=-2)]: Done 200 out of 200 | elapsed:    0.1s finished\n",
      "[Parallel(n_jobs=7)]: Using backend ThreadingBackend with 7 concurrent workers.\n",
      "[Parallel(n_jobs=7)]: Done  36 tasks      | elapsed:    0.0s\n",
      "[Parallel(n_jobs=7)]: Done 186 tasks      | elapsed:    0.0s\n",
      "[Parallel(n_jobs=7)]: Done 200 out of 200 | elapsed:    0.0s finished\n",
      "[Parallel(n_jobs=7)]: Using backend ThreadingBackend with 7 concurrent workers.\n",
      "[Parallel(n_jobs=7)]: Done  36 tasks      | elapsed:    0.0s\n",
      "[Parallel(n_jobs=7)]: Done 186 tasks      | elapsed:    0.0s\n",
      "[Parallel(n_jobs=7)]: Done 200 out of 200 | elapsed:    0.0s finished\n",
      "[Parallel(n_jobs=7)]: Using backend ThreadingBackend with 7 concurrent workers.\n",
      "[Parallel(n_jobs=7)]: Done  36 tasks      | elapsed:    0.0s\n",
      "[Parallel(n_jobs=7)]: Done 186 tasks      | elapsed:    0.0s\n",
      "[Parallel(n_jobs=7)]: Done 200 out of 200 | elapsed:    0.0s finished\n",
      "[Parallel(n_jobs=7)]: Using backend ThreadingBackend with 7 concurrent workers.\n",
      "[Parallel(n_jobs=7)]: Done  36 tasks      | elapsed:    0.0s\n",
      "[Parallel(n_jobs=7)]: Done 186 tasks      | elapsed:    0.0s\n",
      "[Parallel(n_jobs=7)]: Done 200 out of 200 | elapsed:    0.0s finished\n"
     ]
    },
    {
     "name": "stdout",
     "output_type": "stream",
     "text": [
      "Model Number: 38 with model MultivariateRegression in generation 0 of 10\n",
      "Template Eval Error: ValueError(\"regression_type='User' but not future_regressor supplied.\") in model 38: MultivariateRegression\n",
      "Model Number: 39 with model DatepartRegression in generation 0 of 10\n",
      "Template Eval Error: ValueError(\"regression_type='User' but no future_regressor passed\") in model 39: DatepartRegression\n",
      "Model Number: 40 with model SeasonalNaive in generation 0 of 10\n"
     ]
    },
    {
     "name": "stderr",
     "output_type": "stream",
     "text": [
      "[Parallel(n_jobs=7)]: Using backend ThreadingBackend with 7 concurrent workers.\n",
      "[Parallel(n_jobs=7)]: Done  36 tasks      | elapsed:    0.0s\n",
      "[Parallel(n_jobs=7)]: Done 186 tasks      | elapsed:    0.0s\n",
      "[Parallel(n_jobs=7)]: Done 200 out of 200 | elapsed:    0.0s finished\n"
     ]
    },
    {
     "name": "stdout",
     "output_type": "stream",
     "text": [
      "Model Number: 41 with model DatepartRegression in generation 0 of 10\n",
      "Model Number: 42 with model UnobservedComponents in generation 0 of 10\n",
      "Model Number: 43 with model UnobservedComponents in generation 0 of 10\n",
      "Model Number: 44 with model ETS in generation 0 of 10\n",
      "Model Number: 45 with model VECM in generation 0 of 10\n",
      "Template Eval Error: ValueError('Only gave one variable to VECM') in model 45: VECM\n",
      "Model Number: 46 with model ARDL in generation 0 of 10\n",
      "Template Eval Error: ImportError(\"cannot import name 'ARDL' from 'statsmodels.tsa.api' (C:\\\\Users\\\\darkp\\\\anaconda3\\\\lib\\\\site-packages\\\\statsmodels\\\\tsa\\\\api.py)\") in model 46: ARDL\n",
      "Model Number: 47 with model MultivariateMotif in generation 0 of 10\n",
      "Model Number: 48 with model MultivariateMotif in generation 0 of 10\n",
      "Model Number: 49 with model UnivariateMotif in generation 0 of 10\n",
      "Model Number: 50 with model UnivariateMotif in generation 0 of 10\n",
      "Model Number: 51 with model SectionalMotif in generation 0 of 10\n",
      "Model Number: 52 with model SectionalMotif in generation 0 of 10\n",
      "Model Number: 53 with model MultivariateRegression in generation 0 of 10\n",
      "Model Number: 54 with model FBProphet in generation 0 of 10\n",
      "Template Eval Error: ModuleNotFoundError(\"No module named 'fbprophet'\") in model 54: FBProphet\n",
      "Model Number: 55 with model SeasonalNaive in generation 0 of 10\n",
      "Model Number: 56 with model DatepartRegression in generation 0 of 10\n"
     ]
    },
    {
     "name": "stderr",
     "output_type": "stream",
     "text": [
      "[Parallel(n_jobs=-2)]: Using backend ThreadingBackend with 7 concurrent workers.\n",
      "[Parallel(n_jobs=-2)]: Done  36 tasks      | elapsed:    0.0s\n",
      "[Parallel(n_jobs=-2)]: Done 100 out of 100 | elapsed:    0.0s finished\n",
      "[Parallel(n_jobs=7)]: Using backend ThreadingBackend with 7 concurrent workers.\n",
      "[Parallel(n_jobs=7)]: Done  36 tasks      | elapsed:    0.0s\n",
      "[Parallel(n_jobs=7)]: Done 100 out of 100 | elapsed:    0.0s finished\n"
     ]
    },
    {
     "name": "stdout",
     "output_type": "stream",
     "text": [
      "Model Number: 57 with model NVAR in generation 0 of 10\n",
      "Model Number: 58 with model Theta in generation 0 of 10\n",
      "Model Number: 59 with model UnivariateRegression in generation 0 of 10\n",
      "Template Eval Error: ValueError(\"Input contains NaN, infinity or a value too large for dtype('float32').\") in model 59: UnivariateRegression\n",
      "Model Number: 60 with model ConstantNaive in generation 0 of 10\n",
      "Model Number: 61 with model LastValueNaive in generation 0 of 10\n",
      "Model Number: 62 with model AverageValueNaive in generation 0 of 10\n",
      "Model Number: 63 with model GLS in generation 0 of 10\n",
      "Model Number: 64 with model SeasonalNaive in generation 0 of 10\n",
      "Model Number: 65 with model GLM in generation 0 of 10\n",
      "Template Eval Error: ValueError('regression_type=user and no future_regressor passed') in model 65: GLM\n",
      "Model Number: 66 with model ETS in generation 0 of 10\n",
      "Model Number: 67 with model FBProphet in generation 0 of 10\n",
      "Template Eval Error: ModuleNotFoundError(\"No module named 'fbprophet'\") in model 67: FBProphet\n",
      "Model Number: 68 with model GluonTS in generation 0 of 10\n",
      "Template Eval Error: ImportError('GluonTS installation not found or installed version is incompatible with AutoTS.') in model 68: GluonTS\n",
      "Model Number: 69 with model UnobservedComponents in generation 0 of 10\n",
      "Model Number: 70 with model VAR in generation 0 of 10\n",
      "Template Eval Error: ValueError('Only gave one variable to VAR') in model 70: VAR\n",
      "Model Number: 71 with model VECM in generation 0 of 10\n",
      "Template Eval Error: ValueError('Only gave one variable to VECM') in model 71: VECM\n",
      "Model Number: 72 with model WindowRegression in generation 0 of 10\n",
      "Template Eval Error: ModuleNotFoundError(\"No module named 'lightgbm'\") in model 72: WindowRegression\n",
      "Model Number: 73 with model DatepartRegression in generation 0 of 10\n",
      "Template Eval Error: ValueError(\"regression_type='User' but no future_regressor passed\") in model 73: DatepartRegression\n",
      "Model Number: 74 with model UnivariateRegression in generation 0 of 10\n",
      "Model Number: 75 with model MultivariateRegression in generation 0 of 10\n",
      "Template Eval Error: ValueError(\"regression_type='User' but not future_regressor supplied.\") in model 75: MultivariateRegression\n",
      "Model Number: 76 with model UnivariateMotif in generation 0 of 10\n",
      "Model Number: 77 with model MultivariateMotif in generation 0 of 10\n",
      "Model Number: 78 with model SectionalMotif in generation 0 of 10\n",
      "Template Eval Error: ValueError('Model SectionalMotif returned NaN for one or more series. fail_on_forecast_nan=True') in model 78: SectionalMotif\n",
      "Model Number: 79 with model NVAR in generation 0 of 10\n",
      "Model Number: 80 with model Theta in generation 0 of 10\n"
     ]
    },
    {
     "name": "stderr",
     "output_type": "stream",
     "text": [
      "C:\\Users\\darkp\\anaconda3\\lib\\site-packages\\autots\\tools\\percentile.py:47: RuntimeWarning: All-NaN slice encountered\n",
      "  max_val = np.nanmax(arr)\n"
     ]
    },
    {
     "name": "stdout",
     "output_type": "stream",
     "text": [
      "Model Number: 81 with model ARDL in generation 0 of 10\n",
      "Template Eval Error: ImportError(\"cannot import name 'ARDL' from 'statsmodels.tsa.api' (C:\\\\Users\\\\darkp\\\\anaconda3\\\\lib\\\\site-packages\\\\statsmodels\\\\tsa\\\\api.py)\") in model 81: ARDL\n",
      "Model Number: 82 with model VAR in generation 0 of 10\n",
      "Template Eval Error: ValueError('Only gave one variable to VAR') in model 82: VAR\n",
      "Model Number: 83 with model WindowRegression in generation 0 of 10\n",
      "Model Number: 84 with model GLM in generation 0 of 10\n",
      "Template Eval Error: TypeError(\"ufunc 'isfinite' not supported for the input types, and the inputs could not be safely coerced to any supported types according to the casting rule ''safe''\") in model 84: GLM\n",
      "Model Number: 85 with model NVAR in generation 0 of 10\n",
      "Model Number: 86 with model LastValueNaive in generation 0 of 10\n",
      "Model Number: 87 with model LastValueNaive in generation 0 of 10\n",
      "Model Number: 88 with model LastValueNaive in generation 0 of 10\n",
      "Model Number: 89 with model LastValueNaive in generation 0 of 10\n",
      "Model Number: 90 with model UnivariateMotif in generation 0 of 10\n",
      "Model Number: 91 with model GLM in generation 0 of 10\n",
      "Template Eval Error: TypeError(\"ufunc 'isfinite' not supported for the input types, and the inputs could not be safely coerced to any supported types according to the casting rule ''safe''\") in model 91: GLM\n",
      "Model Number: 92 with model ConstantNaive in generation 0 of 10\n",
      "Template Eval Error: Exception('Transformer Detrend failed on inverse') in model 92: ConstantNaive\n",
      "Model Number: 93 with model GLM in generation 0 of 10\n",
      "Template Eval Error: TypeError(\"ufunc 'isfinite' not supported for the input types, and the inputs could not be safely coerced to any supported types according to the casting rule ''safe''\") in model 93: GLM\n",
      "Model Number: 94 with model MultivariateMotif in generation 0 of 10\n",
      "Model Number: 95 with model LastValueNaive in generation 0 of 10\n",
      "Model Number: 96 with model GLS in generation 0 of 10\n",
      "Model Number: 97 with model UnobservedComponents in generation 0 of 10\n",
      "Template Eval Error: ValueError(\"regression_type='User' but no future_regressor supplied\") in model 97: UnobservedComponents\n",
      "Model Number: 98 with model ETS in generation 0 of 10\n",
      "Model Number: 99 with model UnivariateMotif in generation 0 of 10\n",
      "Model Number: 100 with model LastValueNaive in generation 0 of 10\n",
      "Model Number: 101 with model ConstantNaive in generation 0 of 10\n",
      "Model Number: 102 with model VAR in generation 0 of 10\n",
      "Template Eval Error: ValueError('Only gave one variable to VAR') in model 102: VAR\n",
      "Model Number: 103 with model LastValueNaive in generation 0 of 10\n",
      "Model Number: 104 with model AverageValueNaive in generation 0 of 10\n",
      "Model Number: 105 with model SectionalMotif in generation 0 of 10\n",
      "Model Number: 106 with model MultivariateMotif in generation 0 of 10\n",
      "Template Eval Error: ValueError('Model MultivariateMotif returned NaN for one or more series. fail_on_forecast_nan=True') in model 106: MultivariateMotif\n",
      "Model Number: 107 with model UnobservedComponents in generation 0 of 10\n",
      "Model Number: 108 with model WindowRegression in generation 0 of 10\n",
      "Model Number: 109 with model Theta in generation 0 of 10\n"
     ]
    },
    {
     "name": "stderr",
     "output_type": "stream",
     "text": [
      "C:\\Users\\darkp\\anaconda3\\lib\\site-packages\\numpy\\core\\_methods.py:47: RuntimeWarning: invalid value encountered in reduce\n",
      "  return umr_sum(a, axis, dtype, out, keepdims, initial, where)\n"
     ]
    },
    {
     "name": "stdout",
     "output_type": "stream",
     "text": [
      "Model Number: 110 with model ConstantNaive in generation 0 of 10\n",
      "Model Number: 111 with model NVAR in generation 0 of 10\n",
      "Model Number: 112 with model ConstantNaive in generation 0 of 10\n",
      "Model Number: 113 with model FBProphet in generation 0 of 10\n",
      "Template Eval Error: ModuleNotFoundError(\"No module named 'fbprophet'\") in model 113: FBProphet\n",
      "Model Number: 114 with model ConstantNaive in generation 0 of 10\n",
      "Model Number: 115 with model DatepartRegression in generation 0 of 10\n",
      "Template Eval Error: ImportError('Tensorflow not available, install with pip install tensorflow.') in model 115: DatepartRegression\n",
      "Model Number: 116 with model FBProphet in generation 0 of 10\n",
      "Template Eval Error: ModuleNotFoundError(\"No module named 'fbprophet'\") in model 116: FBProphet\n",
      "Model Number: 117 with model ETS in generation 0 of 10\n",
      "Model Number: 118 with model ConstantNaive in generation 0 of 10\n",
      "Model Number: 119 with model UnivariateMotif in generation 0 of 10\n",
      "Model Number: 120 with model ConstantNaive in generation 0 of 10\n",
      "Model Number: 121 with model SeasonalNaive in generation 0 of 10\n",
      "Model Number: 122 with model SeasonalNaive in generation 0 of 10\n",
      "Model Number: 123 with model VAR in generation 0 of 10\n",
      "Template Eval Error: ValueError('Only gave one variable to VAR') in model 123: VAR\n",
      "Model Number: 124 with model GLS in generation 0 of 10\n",
      "Model Number: 125 with model WindowRegression in generation 0 of 10\n",
      "Template Eval Error: ImportError('Tensorflow not available, install with pip install tensorflow.') in model 125: WindowRegression\n",
      "Model Number: 126 with model UnivariateMotif in generation 0 of 10\n",
      "Model Number: 127 with model WindowRegression in generation 0 of 10\n",
      "Template Eval Error: ValueError(\"regression_type='User' but no future_regressor passed\") in model 127: WindowRegression\n",
      "Model Number: 128 with model SeasonalNaive in generation 0 of 10\n",
      "Model Number: 129 with model MultivariateMotif in generation 0 of 10\n",
      "Template Eval Error: ValueError(\"Model returned NaN due to a preprocessing transformer {'fillna': 'zero', 'transformations': {'0': 'CumSumTransformer', '1': 'cffilter', '2': 'IntermittentOccurrence'}, 'transformation_params': {'0': {}, '1': {}, '2': {'center': 'mean'}}}. fail_on_forecast_nan=True\") in model 129: MultivariateMotif\n",
      "Model Number: 130 with model ARDL in generation 0 of 10\n",
      "Template Eval Error: ValueError(\"regression_type='User' but future_regressor not supplied\") in model 130: ARDL\n",
      "Model Number: 131 with model ConstantNaive in generation 0 of 10\n",
      "Model Number: 132 with model ETS in generation 0 of 10\n",
      "Model Number: 133 with model UnobservedComponents in generation 0 of 10\n",
      "Template Eval Error: ValueError(\"regression_type='User' but no future_regressor supplied\") in model 133: UnobservedComponents\n",
      "Model Number: 134 with model DatepartRegression in generation 0 of 10\n",
      "Template Eval Error: Exception('Transformer StandardScaler failed on fit') in model 134: DatepartRegression\n",
      "Model Number: 135 with model NVAR in generation 0 of 10\n",
      "Model Number: 136 with model SectionalMotif in generation 0 of 10\n",
      "Model Number: 137 with model NVAR in generation 0 of 10\n",
      "Model Number: 138 with model SeasonalNaive in generation 0 of 10\n",
      "Model Number: 139 with model LastValueNaive in generation 0 of 10\n"
     ]
    },
    {
     "name": "stderr",
     "output_type": "stream",
     "text": [
      "C:\\Users\\darkp\\anaconda3\\lib\\site-packages\\sklearn\\utils\\validation.py:1688: FutureWarning: Feature names only support names that are all strings. Got feature names with dtypes: ['Timestamp', 'str']. An error will be raised in 1.2.\n",
      "  warnings.warn(\n",
      "C:\\Users\\darkp\\anaconda3\\lib\\site-packages\\sklearn\\utils\\extmath.py:985: RuntimeWarning: invalid value encountered in true_divide\n",
      "  updated_mean = (last_sum + new_sum) / updated_sample_count\n",
      "C:\\Users\\darkp\\anaconda3\\lib\\site-packages\\sklearn\\utils\\extmath.py:990: RuntimeWarning: invalid value encountered in true_divide\n",
      "  T = new_sum / new_sample_count\n",
      "C:\\Users\\darkp\\anaconda3\\lib\\site-packages\\sklearn\\utils\\extmath.py:1020: RuntimeWarning: invalid value encountered in true_divide\n",
      "  new_unnormalized_variance -= correction ** 2 / new_sample_count\n",
      "C:\\Users\\darkp\\anaconda3\\lib\\site-packages\\sklearn\\utils\\validation.py:1688: FutureWarning: Feature names only support names that are all strings. Got feature names with dtypes: ['Timestamp', 'str']. An error will be raised in 1.2.\n",
      "  warnings.warn(\n"
     ]
    },
    {
     "name": "stdout",
     "output_type": "stream",
     "text": [
      "Model Number: 140 with model MultivariateMotif in generation 0 of 10\n",
      "Model Number: 141 with model ConstantNaive in generation 0 of 10\n",
      "Model Number: 142 with model ETS in generation 0 of 10\n",
      "ETS error ValueError('endog must be strictly positive when usingmultiplicative trend or seasonal components.')\n",
      "ETS failed on Close with ValueError('endog must be strictly positive when usingmultiplicative trend or seasonal components.')\n",
      "Model Number: 143 with model ARDL in generation 0 of 10\n",
      "Template Eval Error: ValueError(\"regression_type='User' but future_regressor not supplied\") in model 143: ARDL\n",
      "Model Number: 144 with model DatepartRegression in generation 0 of 10\n",
      "Model Number: 145 with model NVAR in generation 0 of 10\n",
      "Model Number: 146 with model VAR in generation 0 of 10\n",
      "Template Eval Error: ValueError('Only gave one variable to VAR') in model 146: VAR\n",
      "Model Number: 147 with model SeasonalNaive in generation 0 of 10\n",
      "Model Number: 148 with model GLS in generation 0 of 10\n",
      "Model Number: 149 with model AverageValueNaive in generation 0 of 10\n",
      "Model Number: 150 with model ConstantNaive in generation 0 of 10\n",
      "Model Number: 151 with model SectionalMotif in generation 0 of 10\n",
      "Model Number: 152 with model ConstantNaive in generation 0 of 10\n",
      "Model Number: 153 with model LastValueNaive in generation 0 of 10\n",
      "Model Number: 154 with model FBProphet in generation 0 of 10\n",
      "Template Eval Error: ModuleNotFoundError(\"No module named 'fbprophet'\") in model 154: FBProphet\n",
      "Model Number: 155 with model GluonTS in generation 0 of 10\n",
      "Template Eval Error: ImportError('GluonTS installation not found or installed version is incompatible with AutoTS.') in model 155: GluonTS\n",
      "Model Number: 156 with model VAR in generation 0 of 10\n",
      "Template Eval Error: ValueError('Only gave one variable to VAR') in model 156: VAR\n",
      "Model Number: 157 with model MultivariateMotif in generation 0 of 10\n",
      "Model Number: 158 with model GLS in generation 0 of 10\n",
      "Model Number: 159 with model GLM in generation 0 of 10\n",
      "Template Eval Error: ValueError('NaN, inf or invalid value detected in weights, estimation infeasible.') in model 159: GLM\n",
      "Model Number: 160 with model LastValueNaive in generation 0 of 10\n",
      "Model Number: 161 with model MultivariateMotif in generation 0 of 10\n",
      "Model Number: 162 with model VAR in generation 0 of 10\n",
      "Template Eval Error: ValueError('Only gave one variable to VAR') in model 162: VAR\n",
      "Model Number: 163 with model LastValueNaive in generation 0 of 10\n",
      "Model Number: 164 with model NVAR in generation 0 of 10\n",
      "Model Number: 165 with model GluonTS in generation 0 of 10\n",
      "Template Eval Error: ImportError('GluonTS installation not found or installed version is incompatible with AutoTS.') in model 165: GluonTS\n",
      "Model Number: 166 with model MultivariateMotif in generation 0 of 10\n"
     ]
    },
    {
     "name": "stderr",
     "output_type": "stream",
     "text": [
      "C:\\Users\\darkp\\anaconda3\\lib\\site-packages\\statsmodels\\genmod\\families\\family.py:428: RuntimeWarning: divide by zero encountered in true_divide\n",
      "  endog_mu = self._clean(endog / mu)\n",
      "C:\\Users\\darkp\\anaconda3\\lib\\site-packages\\statsmodels\\genmod\\families\\family.py:134: RuntimeWarning: divide by zero encountered in true_divide\n",
      "  return 1. / (self.link.deriv(mu)**2 * self.variance(mu))\n"
     ]
    },
    {
     "name": "stdout",
     "output_type": "stream",
     "text": [
      "Model Number: 167 with model ARDL in generation 0 of 10\n",
      "Template Eval Error: ValueError(\"regression_type='User' but future_regressor not supplied\") in model 167: ARDL\n",
      "Model Number: 168 with model SectionalMotif in generation 0 of 10\n",
      "Template Eval Error: ValueError(\"regression_type=='User' but no future_regressor supplied\") in model 168: SectionalMotif\n",
      "Model Number: 169 with model AverageValueNaive in generation 0 of 10\n",
      "New Generation: 1 of 10\n",
      "Model Number: 170 with model GLM in generation 1 of 10\n",
      "Model Number: 171 with model LastValueNaive in generation 1 of 10\n",
      "Model Number: 172 with model SeasonalNaive in generation 1 of 10\n",
      "Model Number: 173 with model ETS in generation 1 of 10\n",
      "Model Number: 174 with model GLS in generation 1 of 10\n",
      "Model Number: 175 with model NVAR in generation 1 of 10\n",
      "Model Number: 176 with model WindowRegression in generation 1 of 10\n",
      "Model Number: 177 with model AverageValueNaive in generation 1 of 10\n",
      "Model Number: 178 with model NVAR in generation 1 of 10\n"
     ]
    },
    {
     "name": "stderr",
     "output_type": "stream",
     "text": [
      "C:\\Users\\darkp\\anaconda3\\lib\\site-packages\\sklearn\\_loss\\glm_distribution.py:132: RuntimeWarning: divide by zero encountered in true_divide\n",
      "  return -2 * (y - y_pred) / self.unit_variance(y_pred)\n",
      "C:\\Users\\darkp\\anaconda3\\lib\\site-packages\\sklearn\\linear_model\\_glm\\glm.py:42: RuntimeWarning: invalid value encountered in multiply\n",
      "  temp = d1 * family.deviance_derivative(y, y_pred, weights)\n",
      "C:\\Users\\darkp\\anaconda3\\lib\\site-packages\\sklearn\\_loss\\glm_distribution.py:330: RuntimeWarning: divide by zero encountered in power\n",
      "  - y * np.power(y_pred, 1 - p) / (1 - p)\n"
     ]
    },
    {
     "name": "stdout",
     "output_type": "stream",
     "text": [
      "Model Number: 179 with model UnivariateMotif in generation 1 of 10\n",
      "Model Number: 180 with model LastValueNaive in generation 1 of 10\n",
      "Model Number: 181 with model UnivariateRegression in generation 1 of 10\n",
      "Model Number: 182 with model SectionalMotif in generation 1 of 10\n",
      "Model Number: 183 with model LastValueNaive in generation 1 of 10\n",
      "Model Number: 184 with model SectionalMotif in generation 1 of 10\n",
      "Model Number: 185 with model AverageValueNaive in generation 1 of 10\n",
      "Model Number: 186 with model LastValueNaive in generation 1 of 10\n",
      "Model Number: 187 with model ConstantNaive in generation 1 of 10\n",
      "Model Number: 188 with model SeasonalNaive in generation 1 of 10\n",
      "Model Number: 189 with model MultivariateMotif in generation 1 of 10\n",
      "Model Number: 190 with model AverageValueNaive in generation 1 of 10\n",
      "Model Number: 191 with model ETS in generation 1 of 10\n",
      "Model Number: 192 with model UnivariateRegression in generation 1 of 10\n",
      "Template Eval Error: ValueError(\"regression_type='User' but not future_regressor supplied.\") in model 192: UnivariateRegression\n",
      "Model Number: 193 with model AverageValueNaive in generation 1 of 10\n",
      "Model Number: 194 with model MultivariateMotif in generation 1 of 10\n",
      "Model Number: 195 with model NVAR in generation 1 of 10\n",
      "Model Number: 196 with model Theta in generation 1 of 10\n"
     ]
    },
    {
     "name": "stderr",
     "output_type": "stream",
     "text": [
      "C:\\Users\\darkp\\anaconda3\\lib\\site-packages\\autots\\tools\\probabilistic.py:67: RuntimeWarning: invalid value encountered in true_divide\n",
      "  (prior_mu / prior_sigma**2) + ((n * data_mu) / prior_sigma**2)\n",
      "C:\\Users\\darkp\\anaconda3\\lib\\site-packages\\autots\\tools\\probabilistic.py:68: RuntimeWarning: divide by zero encountered in true_divide\n",
      "  ) / ((1 / prior_sigma**2) + (n / prior_sigma**2))\n",
      "C:\\Users\\darkp\\anaconda3\\lib\\site-packages\\sklearn\\_loss\\glm_distribution.py:132: RuntimeWarning: divide by zero encountered in true_divide\n",
      "  return -2 * (y - y_pred) / self.unit_variance(y_pred)\n",
      "C:\\Users\\darkp\\anaconda3\\lib\\site-packages\\sklearn\\linear_model\\_glm\\glm.py:42: RuntimeWarning: invalid value encountered in multiply\n",
      "  temp = d1 * family.deviance_derivative(y, y_pred, weights)\n",
      "C:\\Users\\darkp\\anaconda3\\lib\\site-packages\\sklearn\\_loss\\glm_distribution.py:323: RuntimeWarning: divide by zero encountered in true_divide\n",
      "  dev = 2 * (xlogy(y, y / y_pred) - y + y_pred)\n"
     ]
    },
    {
     "name": "stdout",
     "output_type": "stream",
     "text": [
      "Model Number: 197 with model DatepartRegression in generation 1 of 10\n",
      "Model Number: 198 with model SeasonalNaive in generation 1 of 10\n"
     ]
    },
    {
     "name": "stderr",
     "output_type": "stream",
     "text": [
      "C:\\Users\\darkp\\anaconda3\\lib\\site-packages\\sklearn\\_loss\\glm_distribution.py:132: RuntimeWarning: divide by zero encountered in true_divide\n",
      "  return -2 * (y - y_pred) / self.unit_variance(y_pred)\n",
      "C:\\Users\\darkp\\anaconda3\\lib\\site-packages\\sklearn\\linear_model\\_glm\\glm.py:42: RuntimeWarning: invalid value encountered in multiply\n",
      "  temp = d1 * family.deviance_derivative(y, y_pred, weights)\n",
      "C:\\Users\\darkp\\anaconda3\\lib\\site-packages\\sklearn\\_loss\\glm_distribution.py:330: RuntimeWarning: divide by zero encountered in power\n",
      "  - y * np.power(y_pred, 1 - p) / (1 - p)\n",
      "[Parallel(n_jobs=-2)]: Using backend ThreadingBackend with 7 concurrent workers.\n",
      "[Parallel(n_jobs=-2)]: Done  36 tasks      | elapsed:    0.0s\n",
      "[Parallel(n_jobs=-2)]: Done 100 out of 100 | elapsed:    0.0s finished\n",
      "[Parallel(n_jobs=7)]: Using backend ThreadingBackend with 7 concurrent workers.\n",
      "[Parallel(n_jobs=7)]: Done  36 tasks      | elapsed:    0.0s\n",
      "[Parallel(n_jobs=7)]: Done 100 out of 100 | elapsed:    0.0s finished\n"
     ]
    },
    {
     "name": "stdout",
     "output_type": "stream",
     "text": [
      "Model Number: 199 with model Theta in generation 1 of 10\n",
      "Model Number: 200 with model UnobservedComponents in generation 1 of 10\n",
      "Template Eval Error: Exception('Transformer Cointegration failed on fit') in model 200: UnobservedComponents\n",
      "Model Number: 201 with model NVAR in generation 1 of 10\n",
      "Model Number: 202 with model WindowRegression in generation 1 of 10\n",
      "Model Number: 203 with model NVAR in generation 1 of 10\n"
     ]
    },
    {
     "name": "stderr",
     "output_type": "stream",
     "text": [
      "C:\\Users\\darkp\\anaconda3\\lib\\site-packages\\sklearn\\neural_network\\_multilayer_perceptron.py:549: ConvergenceWarning: lbfgs failed to converge (status=1):\n",
      "STOP: TOTAL NO. of ITERATIONS REACHED LIMIT.\n",
      "\n",
      "Increase the number of iterations (max_iter) or scale the data as shown in:\n",
      "    https://scikit-learn.org/stable/modules/preprocessing.html\n",
      "  self.n_iter_ = _check_optimize_result(\"lbfgs\", opt_res, self.max_iter)\n"
     ]
    },
    {
     "name": "stdout",
     "output_type": "stream",
     "text": [
      "Model Number: 204 with model UnobservedComponents in generation 1 of 10\n",
      "Model Number: 205 with model LastValueNaive in generation 1 of 10\n",
      "Model Number: 206 with model AverageValueNaive in generation 1 of 10\n",
      "Model Number: 207 with model UnivariateMotif in generation 1 of 10\n",
      "Template Eval Error: Exception('Transformer BTCD failed on fit') in model 207: UnivariateMotif\n",
      "Model Number: 208 with model UnivariateMotif in generation 1 of 10\n",
      "Model Number: 209 with model WindowRegression in generation 1 of 10\n",
      "Template Eval Error: ValueError(\"regression_type='User' but no future_regressor passed\") in model 209: WindowRegression\n",
      "Model Number: 210 with model LastValueNaive in generation 1 of 10\n",
      "Model Number: 211 with model GLS in generation 1 of 10\n",
      "Template Eval Error: ValueError('zero-size array to reduction operation maximum which has no identity') in model 211: GLS\n",
      "Model Number: 212 with model DatepartRegression in generation 1 of 10\n",
      "Model Number: 213 with model ConstantNaive in generation 1 of 10\n",
      "Model Number: 214 with model UnobservedComponents in generation 1 of 10\n",
      "Template Eval Error: LinAlgError('Schur decomposition solver error.') in model 214: UnobservedComponents\n",
      "Model Number: 215 with model ETS in generation 1 of 10\n",
      "Model Number: 216 with model Theta in generation 1 of 10\n",
      "Model Number: 217 with model NVAR in generation 1 of 10\n",
      "Model Number: 218 with model DatepartRegression in generation 1 of 10\n",
      "Model Number: 219 with model UnivariateMotif in generation 1 of 10\n",
      "Model Number: 220 with model ETS in generation 1 of 10\n"
     ]
    },
    {
     "name": "stderr",
     "output_type": "stream",
     "text": [
      "C:\\Users\\darkp\\anaconda3\\lib\\site-packages\\sklearn\\svm\\_base.py:1206: ConvergenceWarning: Liblinear failed to converge, increase the number of iterations.\n",
      "  warnings.warn(\n"
     ]
    },
    {
     "name": "stdout",
     "output_type": "stream",
     "text": [
      "Model Number: 221 with model LastValueNaive in generation 1 of 10\n"
     ]
    },
    {
     "name": "stderr",
     "output_type": "stream",
     "text": [
      "C:\\Users\\darkp\\anaconda3\\lib\\site-packages\\autots\\tools\\probabilistic.py:67: RuntimeWarning: invalid value encountered in true_divide\n",
      "  (prior_mu / prior_sigma**2) + ((n * data_mu) / prior_sigma**2)\n",
      "C:\\Users\\darkp\\anaconda3\\lib\\site-packages\\autots\\tools\\probabilistic.py:67: RuntimeWarning: divide by zero encountered in true_divide\n",
      "  (prior_mu / prior_sigma**2) + ((n * data_mu) / prior_sigma**2)\n",
      "C:\\Users\\darkp\\anaconda3\\lib\\site-packages\\autots\\tools\\probabilistic.py:68: RuntimeWarning: divide by zero encountered in true_divide\n",
      "  ) / ((1 / prior_sigma**2) + (n / prior_sigma**2))\n"
     ]
    },
    {
     "name": "stdout",
     "output_type": "stream",
     "text": [
      "Model Number: 222 with model Theta in generation 1 of 10\n",
      "Model Number: 223 with model MultivariateRegression in generation 1 of 10\n"
     ]
    },
    {
     "name": "stderr",
     "output_type": "stream",
     "text": [
      "[Parallel(n_jobs=-2)]: Using backend ThreadingBackend with 7 concurrent workers.\n",
      "[Parallel(n_jobs=-2)]: Done  36 tasks      | elapsed:    0.0s\n",
      "[Parallel(n_jobs=-2)]: Done 186 tasks      | elapsed:    0.2s\n",
      "[Parallel(n_jobs=-2)]: Done 200 out of 200 | elapsed:    0.2s finished\n",
      "[Parallel(n_jobs=7)]: Using backend ThreadingBackend with 7 concurrent workers.\n",
      "[Parallel(n_jobs=7)]: Done  36 tasks      | elapsed:    0.0s\n",
      "[Parallel(n_jobs=7)]: Done 186 tasks      | elapsed:    0.0s\n",
      "[Parallel(n_jobs=7)]: Done 200 out of 200 | elapsed:    0.0s finished\n",
      "[Parallel(n_jobs=7)]: Using backend ThreadingBackend with 7 concurrent workers.\n",
      "[Parallel(n_jobs=7)]: Done  36 tasks      | elapsed:    0.0s\n",
      "[Parallel(n_jobs=7)]: Done 186 tasks      | elapsed:    0.0s\n",
      "[Parallel(n_jobs=7)]: Done 200 out of 200 | elapsed:    0.0s finished\n",
      "[Parallel(n_jobs=7)]: Using backend ThreadingBackend with 7 concurrent workers.\n",
      "[Parallel(n_jobs=7)]: Done  36 tasks      | elapsed:    0.0s\n",
      "[Parallel(n_jobs=7)]: Done 186 tasks      | elapsed:    0.0s\n",
      "[Parallel(n_jobs=7)]: Done 200 out of 200 | elapsed:    0.0s finished\n",
      "[Parallel(n_jobs=7)]: Using backend ThreadingBackend with 7 concurrent workers.\n",
      "[Parallel(n_jobs=7)]: Done  36 tasks      | elapsed:    0.0s\n",
      "[Parallel(n_jobs=7)]: Done 186 tasks      | elapsed:    0.0s\n",
      "[Parallel(n_jobs=7)]: Done 200 out of 200 | elapsed:    0.0s finished\n",
      "[Parallel(n_jobs=7)]: Using backend ThreadingBackend with 7 concurrent workers.\n",
      "[Parallel(n_jobs=7)]: Done  36 tasks      | elapsed:    0.0s\n",
      "[Parallel(n_jobs=7)]: Done 186 tasks      | elapsed:    0.0s\n",
      "[Parallel(n_jobs=7)]: Done 200 out of 200 | elapsed:    0.0s finished\n"
     ]
    },
    {
     "name": "stdout",
     "output_type": "stream",
     "text": [
      "Model Number: 224 with model DatepartRegression in generation 1 of 10\n",
      "Model Number: 225 with model UnobservedComponents in generation 1 of 10\n",
      "Model Number: 226 with model MultivariateRegression in generation 1 of 10\n",
      "Model Number: 227 with model DatepartRegression in generation 1 of 10\n",
      "Model Number: 228 with model UnivariateMotif in generation 1 of 10\n",
      "Model Number: 229 with model SeasonalNaive in generation 1 of 10\n",
      "Model Number: 230 with model NVAR in generation 1 of 10\n",
      "Model Number: 231 with model ConstantNaive in generation 1 of 10\n",
      "Model Number: 232 with model AverageValueNaive in generation 1 of 10\n",
      "Model Number: 233 with model ConstantNaive in generation 1 of 10\n",
      "Model Number: 234 with model GLS in generation 1 of 10\n",
      "Model Number: 235 with model Theta in generation 1 of 10\n",
      "Model Number: 236 with model ConstantNaive in generation 1 of 10\n",
      "Model Number: 237 with model GLS in generation 1 of 10\n",
      "Model Number: 238 with model AverageValueNaive in generation 1 of 10\n",
      "Model Number: 239 with model SectionalMotif in generation 1 of 10\n",
      "Model Number: 240 with model LastValueNaive in generation 1 of 10\n",
      "Model Number: 241 with model LastValueNaive in generation 1 of 10\n",
      "Model Number: 242 with model AverageValueNaive in generation 1 of 10\n",
      "Model Number: 243 with model ETS in generation 1 of 10\n",
      "Model Number: 244 with model LastValueNaive in generation 1 of 10\n",
      "Model Number: 245 with model GLS in generation 1 of 10\n",
      "Model Number: 246 with model Theta in generation 1 of 10\n",
      "Model Number: 247 with model GLS in generation 1 of 10\n",
      "Model Number: 248 with model SeasonalNaive in generation 1 of 10\n",
      "Model Number: 249 with model ConstantNaive in generation 1 of 10\n",
      "Model Number: 250 with model ETS in generation 1 of 10\n",
      "Model Number: 251 with model UnobservedComponents in generation 1 of 10\n",
      "Template Eval Error: ValueError(\"regression_type='User' but no future_regressor supplied\") in model 251: UnobservedComponents\n",
      "Model Number: 252 with model ConstantNaive in generation 1 of 10\n",
      "Model Number: 253 with model GLS in generation 1 of 10\n",
      "Model Number: 254 with model AverageValueNaive in generation 1 of 10\n",
      "Model Number: 255 with model NVAR in generation 1 of 10\n",
      "Model Number: 256 with model NVAR in generation 1 of 10\n",
      "Template Eval Error: Exception('Transformer BTCD failed on fit') in model 256: NVAR\n",
      "Model Number: 257 with model GLS in generation 1 of 10\n",
      "Template Eval Error: Exception('Transformer QuantileTransformer failed on fit') in model 257: GLS\n",
      "Model Number: 258 with model UnivariateMotif in generation 1 of 10\n",
      "Model Number: 259 with model NVAR in generation 1 of 10\n",
      "Model Number: 260 with model ConstantNaive in generation 1 of 10\n",
      "Model Number: 261 with model NVAR in generation 1 of 10\n"
     ]
    },
    {
     "name": "stderr",
     "output_type": "stream",
     "text": [
      "C:\\Users\\darkp\\anaconda3\\lib\\site-packages\\sklearn\\utils\\validation.py:1688: FutureWarning: Feature names only support names that are all strings. Got feature names with dtypes: ['Timestamp', 'str']. An error will be raised in 1.2.\n",
      "  warnings.warn(\n",
      "C:\\Users\\darkp\\anaconda3\\lib\\site-packages\\numpy\\lib\\nanfunctions.py:1368: RuntimeWarning: All-NaN slice encountered\n",
      "  r, k = function_base._ureduce(\n",
      "C:\\Users\\darkp\\anaconda3\\lib\\site-packages\\sklearn\\utils\\validation.py:1688: FutureWarning: Feature names only support names that are all strings. Got feature names with dtypes: ['Timestamp', 'str']. An error will be raised in 1.2.\n",
      "  warnings.warn(\n",
      "C:\\Users\\darkp\\anaconda3\\lib\\site-packages\\sklearn\\_loss\\glm_distribution.py:132: RuntimeWarning: divide by zero encountered in true_divide\n",
      "  return -2 * (y - y_pred) / self.unit_variance(y_pred)\n",
      "C:\\Users\\darkp\\anaconda3\\lib\\site-packages\\sklearn\\linear_model\\_glm\\glm.py:42: RuntimeWarning: invalid value encountered in multiply\n",
      "  temp = d1 * family.deviance_derivative(y, y_pred, weights)\n",
      "C:\\Users\\darkp\\anaconda3\\lib\\site-packages\\sklearn\\_loss\\glm_distribution.py:330: RuntimeWarning: divide by zero encountered in power\n",
      "  - y * np.power(y_pred, 1 - p) / (1 - p)\n"
     ]
    },
    {
     "name": "stdout",
     "output_type": "stream",
     "text": [
      "Template Eval Error: Exception('Transformer BTCD failed on fit') in model 261: NVAR\n",
      "Model Number: 262 with model NVAR in generation 1 of 10\n",
      "Model Number: 263 with model AverageValueNaive in generation 1 of 10\n",
      "Model Number: 264 with model LastValueNaive in generation 1 of 10\n",
      "Model Number: 265 with model UnobservedComponents in generation 1 of 10\n",
      "Model Number: 266 with model SeasonalNaive in generation 1 of 10\n",
      "Model Number: 267 with model WindowRegression in generation 1 of 10\n",
      "Model Number: 268 with model LastValueNaive in generation 1 of 10\n",
      "Model Number: 269 with model ETS in generation 1 of 10\n",
      "Model Number: 270 with model ETS in generation 1 of 10\n",
      "Model Number: 271 with model UnobservedComponents in generation 1 of 10\n",
      "Model Number: 272 with model ETS in generation 1 of 10\n",
      "Template Eval Error: Exception('Transformer Cointegration failed on fit') in model 272: ETS\n",
      "Model Number: 273 with model MultivariateMotif in generation 1 of 10\n",
      "Model Number: 274 with model NVAR in generation 1 of 10\n",
      "Model Number: 275 with model GLS in generation 1 of 10\n",
      "Model Number: 276 with model LastValueNaive in generation 1 of 10\n",
      "Model Number: 277 with model Theta in generation 1 of 10\n",
      "Model Number: 278 with model SectionalMotif in generation 1 of 10\n",
      "Model Number: 279 with model ETS in generation 1 of 10\n"
     ]
    },
    {
     "name": "stderr",
     "output_type": "stream",
     "text": [
      "C:\\Users\\darkp\\anaconda3\\lib\\site-packages\\sklearn\\_loss\\glm_distribution.py:132: RuntimeWarning: divide by zero encountered in true_divide\n",
      "  return -2 * (y - y_pred) / self.unit_variance(y_pred)\n",
      "C:\\Users\\darkp\\anaconda3\\lib\\site-packages\\sklearn\\linear_model\\_glm\\glm.py:42: RuntimeWarning: invalid value encountered in multiply\n",
      "  temp = d1 * family.deviance_derivative(y, y_pred, weights)\n",
      "C:\\Users\\darkp\\anaconda3\\lib\\site-packages\\sklearn\\_loss\\glm_distribution.py:326: RuntimeWarning: divide by zero encountered in log\n",
      "  dev = 2 * (np.log(y_pred / y) + y / y_pred - 1)\n",
      "C:\\Users\\darkp\\anaconda3\\lib\\site-packages\\sklearn\\_loss\\glm_distribution.py:326: RuntimeWarning: divide by zero encountered in true_divide\n",
      "  dev = 2 * (np.log(y_pred / y) + y / y_pred - 1)\n",
      "C:\\Users\\darkp\\anaconda3\\lib\\site-packages\\sklearn\\_loss\\glm_distribution.py:326: RuntimeWarning: invalid value encountered in add\n",
      "  dev = 2 * (np.log(y_pred / y) + y / y_pred - 1)\n",
      "C:\\Users\\darkp\\anaconda3\\lib\\site-packages\\sklearn\\linear_model\\_glm\\glm.py:323: ConvergenceWarning: lbfgs failed to converge (status=2):\n",
      "ABNORMAL_TERMINATION_IN_LNSRCH.\n",
      "\n",
      "Increase the number of iterations (max_iter) or scale the data as shown in:\n",
      "    https://scikit-learn.org/stable/modules/preprocessing.html\n",
      "  self.n_iter_ = _check_optimize_result(\"lbfgs\", opt_res)\n"
     ]
    },
    {
     "name": "stdout",
     "output_type": "stream",
     "text": [
      "New Generation: 2 of 10\n",
      "Model Number: 280 with model WindowRegression in generation 2 of 10\n",
      "Model Number: 281 with model NVAR in generation 2 of 10\n",
      "Model Number: 282 with model SeasonalNaive in generation 2 of 10\n",
      "Model Number: 283 with model AverageValueNaive in generation 2 of 10\n",
      "Model Number: 284 with model DatepartRegression in generation 2 of 10\n",
      "Model Number: 285 with model ConstantNaive in generation 2 of 10\n",
      "Model Number: 286 with model NVAR in generation 2 of 10\n",
      "Model Number: 287 with model NVAR in generation 2 of 10\n",
      "Model Number: 288 with model Theta in generation 2 of 10\n",
      "Model Number: 289 with model UnobservedComponents in generation 2 of 10\n",
      "Model Number: 290 with model WindowRegression in generation 2 of 10\n"
     ]
    },
    {
     "name": "stderr",
     "output_type": "stream",
     "text": [
      "C:\\Users\\darkp\\anaconda3\\lib\\site-packages\\sklearn\\experimental\\enable_hist_gradient_boosting.py:16: UserWarning: Since version 1.0, it is not needed to import enable_hist_gradient_boosting anymore. HistGradientBoostingClassifier and HistGradientBoostingRegressor are now stable and can be normally imported from sklearn.ensemble.\n",
      "  warnings.warn(\n"
     ]
    },
    {
     "name": "stdout",
     "output_type": "stream",
     "text": [
      "Model Number: 291 with model LastValueNaive in generation 2 of 10\n",
      "Model Number: 292 with model Theta in generation 2 of 10\n",
      "Model Number: 293 with model GLS in generation 2 of 10\n",
      "Template Eval Error: Exception('Transformer BTCD failed on fit') in model 293: GLS\n",
      "Model Number: 294 with model WindowRegression in generation 2 of 10\n",
      "Template Eval Error: Exception('Transformer Cointegration failed on fit') in model 294: WindowRegression\n",
      "Model Number: 295 with model LastValueNaive in generation 2 of 10\n",
      "Model Number: 296 with model SeasonalNaive in generation 2 of 10\n",
      "Model Number: 297 with model Theta in generation 2 of 10\n",
      "Model Number: 298 with model AverageValueNaive in generation 2 of 10\n",
      "Model Number: 299 with model SectionalMotif in generation 2 of 10\n",
      "Model Number: 300 with model GLM in generation 2 of 10\n",
      "Template Eval Error: ValueError('regression_type=user and no future_regressor passed') in model 300: GLM\n",
      "Model Number: 301 with model NVAR in generation 2 of 10\n",
      "Model Number: 302 with model UnivariateMotif in generation 2 of 10\n",
      "Model Number: 303 with model UnobservedComponents in generation 2 of 10\n"
     ]
    },
    {
     "name": "stderr",
     "output_type": "stream",
     "text": [
      "C:\\Users\\darkp\\anaconda3\\lib\\site-packages\\sklearn\\_loss\\glm_distribution.py:132: RuntimeWarning: divide by zero encountered in true_divide\n",
      "  return -2 * (y - y_pred) / self.unit_variance(y_pred)\n",
      "C:\\Users\\darkp\\anaconda3\\lib\\site-packages\\sklearn\\linear_model\\_glm\\glm.py:42: RuntimeWarning: invalid value encountered in multiply\n",
      "  temp = d1 * family.deviance_derivative(y, y_pred, weights)\n",
      "C:\\Users\\darkp\\anaconda3\\lib\\site-packages\\sklearn\\_loss\\glm_distribution.py:323: RuntimeWarning: divide by zero encountered in true_divide\n",
      "  dev = 2 * (xlogy(y, y / y_pred) - y + y_pred)\n"
     ]
    },
    {
     "name": "stdout",
     "output_type": "stream",
     "text": [
      "Model Number: 304 with model WindowRegression in generation 2 of 10\n",
      "Template Eval Error: Exception('Transformer Cointegration failed on fit') in model 304: WindowRegression\n",
      "Model Number: 305 with model UnivariateMotif in generation 2 of 10\n",
      "Model Number: 306 with model Theta in generation 2 of 10\n",
      "Model Number: 307 with model GLS in generation 2 of 10\n",
      "Model Number: 308 with model Theta in generation 2 of 10\n",
      "Model Number: 309 with model AverageValueNaive in generation 2 of 10\n",
      "Model Number: 310 with model ETS in generation 2 of 10\n"
     ]
    },
    {
     "name": "stderr",
     "output_type": "stream",
     "text": [
      "C:\\Users\\darkp\\anaconda3\\lib\\site-packages\\autots\\tools\\probabilistic.py:67: RuntimeWarning: invalid value encountered in true_divide\n",
      "  (prior_mu / prior_sigma**2) + ((n * data_mu) / prior_sigma**2)\n",
      "C:\\Users\\darkp\\anaconda3\\lib\\site-packages\\autots\\tools\\probabilistic.py:68: RuntimeWarning: divide by zero encountered in true_divide\n",
      "  ) / ((1 / prior_sigma**2) + (n / prior_sigma**2))\n"
     ]
    },
    {
     "name": "stdout",
     "output_type": "stream",
     "text": [
      "Model Number: 311 with model DatepartRegression in generation 2 of 10\n"
     ]
    },
    {
     "name": "stderr",
     "output_type": "stream",
     "text": [
      "C:\\Users\\darkp\\anaconda3\\lib\\site-packages\\sklearn\\_loss\\glm_distribution.py:132: RuntimeWarning: divide by zero encountered in true_divide\n",
      "  return -2 * (y - y_pred) / self.unit_variance(y_pred)\n",
      "C:\\Users\\darkp\\anaconda3\\lib\\site-packages\\sklearn\\linear_model\\_glm\\glm.py:42: RuntimeWarning: invalid value encountered in multiply\n",
      "  temp = d1 * family.deviance_derivative(y, y_pred, weights)\n",
      "C:\\Users\\darkp\\anaconda3\\lib\\site-packages\\sklearn\\_loss\\glm_distribution.py:330: RuntimeWarning: divide by zero encountered in power\n",
      "  - y * np.power(y_pred, 1 - p) / (1 - p)\n"
     ]
    },
    {
     "name": "stdout",
     "output_type": "stream",
     "text": [
      "Model Number: 312 with model AverageValueNaive in generation 2 of 10\n"
     ]
    },
    {
     "name": "stderr",
     "output_type": "stream",
     "text": [
      "C:\\Users\\darkp\\anaconda3\\lib\\site-packages\\sklearn\\neural_network\\_multilayer_perceptron.py:549: ConvergenceWarning: lbfgs failed to converge (status=1):\n",
      "STOP: TOTAL NO. of ITERATIONS REACHED LIMIT.\n",
      "\n",
      "Increase the number of iterations (max_iter) or scale the data as shown in:\n",
      "    https://scikit-learn.org/stable/modules/preprocessing.html\n",
      "  self.n_iter_ = _check_optimize_result(\"lbfgs\", opt_res, self.max_iter)\n",
      "C:\\Users\\darkp\\anaconda3\\lib\\site-packages\\autots\\tools\\probabilistic.py:67: RuntimeWarning: invalid value encountered in true_divide\n",
      "  (prior_mu / prior_sigma**2) + ((n * data_mu) / prior_sigma**2)\n",
      "C:\\Users\\darkp\\anaconda3\\lib\\site-packages\\autots\\tools\\probabilistic.py:67: RuntimeWarning: divide by zero encountered in true_divide\n",
      "  (prior_mu / prior_sigma**2) + ((n * data_mu) / prior_sigma**2)\n",
      "C:\\Users\\darkp\\anaconda3\\lib\\site-packages\\autots\\tools\\probabilistic.py:68: RuntimeWarning: divide by zero encountered in true_divide\n",
      "  ) / ((1 / prior_sigma**2) + (n / prior_sigma**2))\n"
     ]
    },
    {
     "name": "stdout",
     "output_type": "stream",
     "text": [
      "Model Number: 313 with model ETS in generation 2 of 10\n",
      "Model Number: 314 with model LastValueNaive in generation 2 of 10\n",
      "Model Number: 315 with model GLS in generation 2 of 10\n",
      "Template Eval Error: Exception('Transformer Detrend failed on fit') in model 315: GLS\n",
      "Model Number: 316 with model GLS in generation 2 of 10\n",
      "Model Number: 317 with model SectionalMotif in generation 2 of 10\n",
      "Model Number: 318 with model NVAR in generation 2 of 10\n",
      "Model Number: 319 with model Theta in generation 2 of 10\n",
      "Model Number: 320 with model UnivariateMotif in generation 2 of 10\n",
      "Model Number: 321 with model ConstantNaive in generation 2 of 10\n",
      "Model Number: 322 with model DatepartRegression in generation 2 of 10\n",
      "Model Number: 323 with model LastValueNaive in generation 2 of 10\n",
      "Model Number: 324 with model WindowRegression in generation 2 of 10\n",
      "Template Eval Error: ImportError('Tensorflow not available, install with pip install tensorflow.') in model 324: WindowRegression\n",
      "Model Number: 325 with model Theta in generation 2 of 10\n",
      "Model Number: 326 with model AverageValueNaive in generation 2 of 10\n",
      "Model Number: 327 with model LastValueNaive in generation 2 of 10\n",
      "Model Number: 328 with model NVAR in generation 2 of 10\n",
      "Template Eval Error: Exception('Transformer Detrend failed on fit') in model 328: NVAR\n",
      "Model Number: 329 with model UnivariateMotif in generation 2 of 10\n",
      "Model Number: 330 with model AverageValueNaive in generation 2 of 10\n",
      "Model Number: 331 with model LastValueNaive in generation 2 of 10\n",
      "Model Number: 332 with model MultivariateRegression in generation 2 of 10\n",
      "Model Number: 333 with model UnobservedComponents in generation 2 of 10\n",
      "Model Number: 334 with model AverageValueNaive in generation 2 of 10\n",
      "Model Number: 335 with model UnivariateMotif in generation 2 of 10\n",
      "Model Number: 336 with model GLS in generation 2 of 10\n",
      "Template Eval Error: Exception('Transformer QuantileTransformer failed on fit') in model 336: GLS\n",
      "Model Number: 337 with model ETS in generation 2 of 10\n",
      "Model Number: 338 with model NVAR in generation 2 of 10\n",
      "Model Number: 339 with model UnobservedComponents in generation 2 of 10\n"
     ]
    },
    {
     "name": "stderr",
     "output_type": "stream",
     "text": [
      "C:\\Users\\darkp\\anaconda3\\lib\\site-packages\\sklearn\\utils\\validation.py:1688: FutureWarning: Feature names only support names that are all strings. Got feature names with dtypes: ['Timestamp', 'str']. An error will be raised in 1.2.\n",
      "  warnings.warn(\n",
      "C:\\Users\\darkp\\anaconda3\\lib\\site-packages\\numpy\\lib\\nanfunctions.py:1368: RuntimeWarning: All-NaN slice encountered\n",
      "  r, k = function_base._ureduce(\n",
      "C:\\Users\\darkp\\anaconda3\\lib\\site-packages\\sklearn\\utils\\validation.py:1688: FutureWarning: Feature names only support names that are all strings. Got feature names with dtypes: ['Timestamp', 'str']. An error will be raised in 1.2.\n",
      "  warnings.warn(\n"
     ]
    },
    {
     "name": "stdout",
     "output_type": "stream",
     "text": [
      "Model Number: 340 with model UnobservedComponents in generation 2 of 10\n",
      "Model Number: 341 with model Theta in generation 2 of 10\n",
      "Model Number: 342 with model LastValueNaive in generation 2 of 10\n",
      "Model Number: 343 with model ETS in generation 2 of 10\n",
      "Model Number: 344 with model LastValueNaive in generation 2 of 10\n",
      "Model Number: 345 with model NVAR in generation 2 of 10\n",
      "Model Number: 346 with model ConstantNaive in generation 2 of 10\n",
      "Model Number: 347 with model NVAR in generation 2 of 10\n",
      "Model Number: 348 with model UnobservedComponents in generation 2 of 10\n",
      "Model Number: 349 with model NVAR in generation 2 of 10\n",
      "Model Number: 350 with model UnivariateRegression in generation 2 of 10\n",
      "Model Number: 351 with model Theta in generation 2 of 10\n",
      "Model Number: 352 with model SectionalMotif in generation 2 of 10\n",
      "Model Number: 353 with model LastValueNaive in generation 2 of 10\n",
      "Model Number: 354 with model Theta in generation 2 of 10\n",
      "Model Number: 355 with model DatepartRegression in generation 2 of 10\n",
      "Model Number: 356 with model ETS in generation 2 of 10\n",
      "Model Number: 357 with model ConstantNaive in generation 2 of 10\n"
     ]
    },
    {
     "name": "stderr",
     "output_type": "stream",
     "text": [
      "C:\\Users\\darkp\\anaconda3\\lib\\site-packages\\autots\\tools\\probabilistic.py:67: RuntimeWarning: invalid value encountered in true_divide\n",
      "  (prior_mu / prior_sigma**2) + ((n * data_mu) / prior_sigma**2)\n",
      "C:\\Users\\darkp\\anaconda3\\lib\\site-packages\\autots\\tools\\probabilistic.py:67: RuntimeWarning: divide by zero encountered in true_divide\n",
      "  (prior_mu / prior_sigma**2) + ((n * data_mu) / prior_sigma**2)\n",
      "C:\\Users\\darkp\\anaconda3\\lib\\site-packages\\autots\\tools\\probabilistic.py:68: RuntimeWarning: divide by zero encountered in true_divide\n",
      "  ) / ((1 / prior_sigma**2) + (n / prior_sigma**2))\n",
      "C:\\Users\\darkp\\anaconda3\\lib\\site-packages\\sklearn\\preprocessing\\_data.py:3253: RuntimeWarning: divide by zero encountered in log\n",
      "  loglike = -n_samples / 2 * np.log(x_trans.var())\n"
     ]
    },
    {
     "name": "stdout",
     "output_type": "stream",
     "text": [
      "Model Number: 358 with model WindowRegression in generation 2 of 10\n",
      "Model Number: 359 with model MultivariateMotif in generation 2 of 10\n",
      "Model Number: 360 with model ConstantNaive in generation 2 of 10\n",
      "Model Number: 361 with model ConstantNaive in generation 2 of 10\n",
      "Model Number: 362 with model AverageValueNaive in generation 2 of 10\n",
      "Model Number: 363 with model UnivariateMotif in generation 2 of 10\n",
      "Model Number: 364 with model LastValueNaive in generation 2 of 10\n",
      "Model Number: 365 with model AverageValueNaive in generation 2 of 10\n",
      "Model Number: 366 with model UnivariateMotif in generation 2 of 10\n",
      "Model Number: 367 with model LastValueNaive in generation 2 of 10\n",
      "Model Number: 368 with model MultivariateRegression in generation 2 of 10\n",
      "Model Number: 369 with model Theta in generation 2 of 10\n",
      "Model Number: 370 with model ConstantNaive in generation 2 of 10\n",
      "Model Number: 371 with model UnobservedComponents in generation 2 of 10\n",
      "Model Number: 372 with model WindowRegression in generation 2 of 10\n",
      "Model Number: 373 with model MultivariateMotif in generation 2 of 10\n",
      "Model Number: 374 with model AverageValueNaive in generation 2 of 10\n",
      "Model Number: 375 with model LastValueNaive in generation 2 of 10\n",
      "Model Number: 376 with model LastValueNaive in generation 2 of 10\n",
      "Model Number: 377 with model AverageValueNaive in generation 2 of 10\n",
      "Model Number: 378 with model ConstantNaive in generation 2 of 10\n",
      "Model Number: 379 with model UnobservedComponents in generation 2 of 10\n",
      "Model Number: 380 with model GLS in generation 2 of 10\n",
      "Model Number: 381 with model MultivariateRegression in generation 2 of 10\n"
     ]
    },
    {
     "name": "stderr",
     "output_type": "stream",
     "text": [
      "C:\\Users\\darkp\\anaconda3\\lib\\site-packages\\sklearn\\_loss\\glm_distribution.py:132: RuntimeWarning: divide by zero encountered in true_divide\n",
      "  return -2 * (y - y_pred) / self.unit_variance(y_pred)\n",
      "C:\\Users\\darkp\\anaconda3\\lib\\site-packages\\sklearn\\linear_model\\_glm\\glm.py:42: RuntimeWarning: invalid value encountered in multiply\n",
      "  temp = d1 * family.deviance_derivative(y, y_pred, weights)\n",
      "C:\\Users\\darkp\\anaconda3\\lib\\site-packages\\sklearn\\_loss\\glm_distribution.py:326: RuntimeWarning: divide by zero encountered in log\n",
      "  dev = 2 * (np.log(y_pred / y) + y / y_pred - 1)\n",
      "C:\\Users\\darkp\\anaconda3\\lib\\site-packages\\sklearn\\_loss\\glm_distribution.py:326: RuntimeWarning: divide by zero encountered in true_divide\n",
      "  dev = 2 * (np.log(y_pred / y) + y / y_pred - 1)\n",
      "C:\\Users\\darkp\\anaconda3\\lib\\site-packages\\sklearn\\_loss\\glm_distribution.py:326: RuntimeWarning: invalid value encountered in add\n",
      "  dev = 2 * (np.log(y_pred / y) + y / y_pred - 1)\n",
      "C:\\Users\\darkp\\anaconda3\\lib\\site-packages\\sklearn\\linear_model\\_glm\\glm.py:323: ConvergenceWarning: lbfgs failed to converge (status=2):\n",
      "ABNORMAL_TERMINATION_IN_LNSRCH.\n",
      "\n",
      "Increase the number of iterations (max_iter) or scale the data as shown in:\n",
      "    https://scikit-learn.org/stable/modules/preprocessing.html\n",
      "  self.n_iter_ = _check_optimize_result(\"lbfgs\", opt_res)\n"
     ]
    },
    {
     "name": "stdout",
     "output_type": "stream",
     "text": [
      "Model Number: 382 with model GLM in generation 2 of 10\n",
      "Model Number: 383 with model Theta in generation 2 of 10\n",
      "Model Number: 384 with model Theta in generation 2 of 10\n",
      "Model Number: 385 with model GLS in generation 2 of 10\n",
      "Model Number: 386 with model WindowRegression in generation 2 of 10\n",
      "Template Eval Error: ValueError(\"regression_type='User' but no future_regressor passed\") in model 386: WindowRegression\n",
      "Model Number: 387 with model AverageValueNaive in generation 2 of 10\n",
      "Model Number: 388 with model NVAR in generation 2 of 10\n",
      "Model Number: 389 with model MultivariateMotif in generation 2 of 10\n",
      "New Generation: 3 of 10\n",
      "Model Number: 390 with model UnobservedComponents in generation 3 of 10\n",
      "Model Number: 391 with model SeasonalNaive in generation 3 of 10\n",
      "Template Eval Error: Exception('Transformer Cointegration failed on fit') in model 391: SeasonalNaive\n",
      "Model Number: 392 with model AverageValueNaive in generation 3 of 10\n",
      "Template Eval Error: Exception('Transformer BTCD failed on fit') in model 392: AverageValueNaive\n",
      "Model Number: 393 with model UnivariateMotif in generation 3 of 10\n",
      "Model Number: 394 with model AverageValueNaive in generation 3 of 10\n",
      "Model Number: 395 with model UnobservedComponents in generation 3 of 10\n",
      "Model Number: 396 with model LastValueNaive in generation 3 of 10\n",
      "Model Number: 397 with model Theta in generation 3 of 10\n",
      "Model Number: 398 with model NVAR in generation 3 of 10\n",
      "Model Number: 399 with model UnobservedComponents in generation 3 of 10\n",
      "Model Number: 400 with model GLS in generation 3 of 10\n",
      "Model Number: 401 with model UnobservedComponents in generation 3 of 10\n",
      "Model Number: 402 with model LastValueNaive in generation 3 of 10\n",
      "Model Number: 403 with model LastValueNaive in generation 3 of 10\n",
      "Model Number: 404 with model Theta in generation 3 of 10\n",
      "Model Number: 405 with model UnivariateMotif in generation 3 of 10\n",
      "Model Number: 406 with model UnobservedComponents in generation 3 of 10\n",
      "Model Number: 407 with model AverageValueNaive in generation 3 of 10\n",
      "Model Number: 408 with model WindowRegression in generation 3 of 10\n",
      "Model Number: 409 with model DatepartRegression in generation 3 of 10\n",
      "Model Number: 410 with model DatepartRegression in generation 3 of 10\n",
      "Model Number: 411 with model MultivariateRegression in generation 3 of 10\n"
     ]
    },
    {
     "name": "stderr",
     "output_type": "stream",
     "text": [
      "C:\\Users\\darkp\\anaconda3\\lib\\site-packages\\sklearn\\_loss\\glm_distribution.py:132: RuntimeWarning: divide by zero encountered in true_divide\n",
      "  return -2 * (y - y_pred) / self.unit_variance(y_pred)\n",
      "C:\\Users\\darkp\\anaconda3\\lib\\site-packages\\sklearn\\linear_model\\_glm\\glm.py:42: RuntimeWarning: invalid value encountered in multiply\n",
      "  temp = d1 * family.deviance_derivative(y, y_pred, weights)\n",
      "C:\\Users\\darkp\\anaconda3\\lib\\site-packages\\sklearn\\_loss\\glm_distribution.py:323: RuntimeWarning: divide by zero encountered in true_divide\n",
      "  dev = 2 * (xlogy(y, y / y_pred) - y + y_pred)\n"
     ]
    },
    {
     "name": "stdout",
     "output_type": "stream",
     "text": [
      "Model Number: 412 with model AverageValueNaive in generation 3 of 10\n",
      "Model Number: 413 with model UnobservedComponents in generation 3 of 10\n",
      "Model Number: 414 with model AverageValueNaive in generation 3 of 10\n",
      "Model Number: 415 with model GLS in generation 3 of 10\n",
      "Model Number: 416 with model MultivariateRegression in generation 3 of 10\n",
      "Model Number: 417 with model ConstantNaive in generation 3 of 10\n",
      "Model Number: 418 with model Theta in generation 3 of 10\n",
      "Model Number: 419 with model LastValueNaive in generation 3 of 10\n",
      "Model Number: 420 with model GLS in generation 3 of 10\n",
      "Model Number: 421 with model LastValueNaive in generation 3 of 10\n",
      "Template Eval Error: ValueError('Model LastValueNaive returned NaN for one or more series. fail_on_forecast_nan=True') in model 421: LastValueNaive\n",
      "Model Number: 422 with model ConstantNaive in generation 3 of 10\n",
      "Model Number: 423 with model MultivariateRegression in generation 3 of 10\n"
     ]
    },
    {
     "name": "stderr",
     "output_type": "stream",
     "text": [
      "C:\\Users\\darkp\\anaconda3\\lib\\site-packages\\autots\\tools\\percentile.py:47: RuntimeWarning: All-NaN slice encountered\n",
      "  max_val = np.nanmax(arr)\n"
     ]
    },
    {
     "name": "stdout",
     "output_type": "stream",
     "text": [
      "Model Number: 424 with model NVAR in generation 3 of 10\n",
      "Model Number: 425 with model NVAR in generation 3 of 10\n",
      "Model Number: 426 with model LastValueNaive in generation 3 of 10\n",
      "Model Number: 427 with model MultivariateMotif in generation 3 of 10\n",
      "Model Number: 428 with model NVAR in generation 3 of 10\n",
      "Model Number: 429 with model ConstantNaive in generation 3 of 10\n",
      "Model Number: 430 with model ConstantNaive in generation 3 of 10\n",
      "Model Number: 431 with model SectionalMotif in generation 3 of 10\n",
      "Model Number: 432 with model Theta in generation 3 of 10\n",
      "Model Number: 433 with model AverageValueNaive in generation 3 of 10\n",
      "Model Number: 434 with model Theta in generation 3 of 10\n",
      "Model Number: 435 with model AverageValueNaive in generation 3 of 10\n",
      "Template Eval Error: Exception('Transformer Cointegration failed on fit') in model 435: AverageValueNaive\n",
      "Model Number: 436 with model GLS in generation 3 of 10\n",
      "Model Number: 437 with model ConstantNaive in generation 3 of 10\n",
      "Model Number: 438 with model Theta in generation 3 of 10\n"
     ]
    },
    {
     "name": "stderr",
     "output_type": "stream",
     "text": [
      "C:\\Users\\darkp\\anaconda3\\lib\\site-packages\\scipy\\interpolate\\polyint.py:545: RuntimeWarning: overflow encountered in multiply\n",
      "  self.wi[:j] *= (self.xi[j]-self.xi[:j])\n",
      "C:\\Users\\darkp\\anaconda3\\lib\\site-packages\\scipy\\interpolate\\polyint.py:546: RuntimeWarning: overflow encountered in reduce\n",
      "  self.wi[j] = np.multiply.reduce(self.xi[:j]-self.xi[j])\n",
      "C:\\Users\\darkp\\anaconda3\\lib\\site-packages\\scipy\\interpolate\\polyint.py:643: RuntimeWarning: invalid value encountered in true_divide\n",
      "  p = np.dot(c,self.yi)/np.sum(c,axis=-1)[...,np.newaxis]\n",
      "C:\\Users\\darkp\\anaconda3\\lib\\site-packages\\sklearn\\_loss\\glm_distribution.py:132: RuntimeWarning: divide by zero encountered in true_divide\n",
      "  return -2 * (y - y_pred) / self.unit_variance(y_pred)\n",
      "C:\\Users\\darkp\\anaconda3\\lib\\site-packages\\sklearn\\linear_model\\_glm\\glm.py:42: RuntimeWarning: invalid value encountered in multiply\n",
      "  temp = d1 * family.deviance_derivative(y, y_pred, weights)\n",
      "C:\\Users\\darkp\\anaconda3\\lib\\site-packages\\sklearn\\_loss\\glm_distribution.py:326: RuntimeWarning: divide by zero encountered in log\n",
      "  dev = 2 * (np.log(y_pred / y) + y / y_pred - 1)\n",
      "C:\\Users\\darkp\\anaconda3\\lib\\site-packages\\sklearn\\_loss\\glm_distribution.py:326: RuntimeWarning: divide by zero encountered in true_divide\n",
      "  dev = 2 * (np.log(y_pred / y) + y / y_pred - 1)\n",
      "C:\\Users\\darkp\\anaconda3\\lib\\site-packages\\sklearn\\_loss\\glm_distribution.py:326: RuntimeWarning: invalid value encountered in add\n",
      "  dev = 2 * (np.log(y_pred / y) + y / y_pred - 1)\n",
      "C:\\Users\\darkp\\anaconda3\\lib\\site-packages\\sklearn\\linear_model\\_glm\\glm.py:323: ConvergenceWarning: lbfgs failed to converge (status=2):\n",
      "ABNORMAL_TERMINATION_IN_LNSRCH.\n",
      "\n",
      "Increase the number of iterations (max_iter) or scale the data as shown in:\n",
      "    https://scikit-learn.org/stable/modules/preprocessing.html\n",
      "  self.n_iter_ = _check_optimize_result(\"lbfgs\", opt_res)\n"
     ]
    },
    {
     "name": "stdout",
     "output_type": "stream",
     "text": [
      "Model Number: 439 with model Theta in generation 3 of 10\n",
      "Model Number: 440 with model ETS in generation 3 of 10\n",
      "Model Number: 441 with model ETS in generation 3 of 10\n",
      "Model Number: 442 with model UnobservedComponents in generation 3 of 10\n",
      "Model Number: 443 with model GLM in generation 3 of 10\n",
      "Template Eval Error: TypeError(\"ufunc 'isfinite' not supported for the input types, and the inputs could not be safely coerced to any supported types according to the casting rule ''safe''\") in model 443: GLM\n",
      "Model Number: 444 with model Theta in generation 3 of 10\n",
      "Model Number: 445 with model WindowRegression in generation 3 of 10\n",
      "Model Number: 446 with model AverageValueNaive in generation 3 of 10\n",
      "Template Eval Error: Exception('Transformer Cointegration failed on fit') in model 446: AverageValueNaive\n",
      "Model Number: 447 with model NVAR in generation 3 of 10\n",
      "Model Number: 448 with model AverageValueNaive in generation 3 of 10\n",
      "Model Number: 449 with model UnivariateRegression in generation 3 of 10\n",
      "Model Number: 450 with model NVAR in generation 3 of 10\n",
      "Model Number: 451 with model LastValueNaive in generation 3 of 10\n",
      "Model Number: 452 with model UnivariateMotif in generation 3 of 10\n",
      "Model Number: 453 with model NVAR in generation 3 of 10\n",
      "Model Number: 454 with model NVAR in generation 3 of 10\n",
      "Model Number: 455 with model ETS in generation 3 of 10\n",
      "Model Number: 456 with model NVAR in generation 3 of 10\n",
      "Model Number: 457 with model WindowRegression in generation 3 of 10\n",
      "Template Eval Error: ModuleNotFoundError(\"No module named 'lightgbm'\") in model 457: WindowRegression\n",
      "Model Number: 458 with model NVAR in generation 3 of 10\n",
      "Model Number: 459 with model LastValueNaive in generation 3 of 10\n",
      "Model Number: 460 with model SectionalMotif in generation 3 of 10\n"
     ]
    },
    {
     "name": "stderr",
     "output_type": "stream",
     "text": [
      "C:\\Users\\darkp\\anaconda3\\lib\\site-packages\\sklearn\\_loss\\glm_distribution.py:132: RuntimeWarning: divide by zero encountered in true_divide\n",
      "  return -2 * (y - y_pred) / self.unit_variance(y_pred)\n",
      "C:\\Users\\darkp\\anaconda3\\lib\\site-packages\\sklearn\\linear_model\\_glm\\glm.py:42: RuntimeWarning: invalid value encountered in multiply\n",
      "  temp = d1 * family.deviance_derivative(y, y_pred, weights)\n",
      "C:\\Users\\darkp\\anaconda3\\lib\\site-packages\\sklearn\\_loss\\glm_distribution.py:330: RuntimeWarning: divide by zero encountered in power\n",
      "  - y * np.power(y_pred, 1 - p) / (1 - p)\n"
     ]
    },
    {
     "name": "stdout",
     "output_type": "stream",
     "text": [
      "Model Number: 461 with model MultivariateRegression in generation 3 of 10\n",
      "Model Number: 462 with model WindowRegression in generation 3 of 10\n",
      "Template Eval Error: Exception('Transformer Cointegration failed on fit') in model 462: WindowRegression\n",
      "Model Number: 463 with model UnobservedComponents in generation 3 of 10\n",
      "Model Number: 464 with model GLM in generation 3 of 10\n",
      "Model Number: 465 with model NVAR in generation 3 of 10\n",
      "Model Number: 466 with model ETS in generation 3 of 10\n",
      "Model Number: 467 with model UnivariateMotif in generation 3 of 10\n",
      "Model Number: 468 with model LastValueNaive in generation 3 of 10\n",
      "Model Number: 469 with model SectionalMotif in generation 3 of 10\n",
      "Model Number: 470 with model LastValueNaive in generation 3 of 10\n",
      "Model Number: 471 with model SectionalMotif in generation 3 of 10\n",
      "Model Number: 472 with model NVAR in generation 3 of 10\n",
      "Model Number: 473 with model UnobservedComponents in generation 3 of 10\n",
      "Model Number: 474 with model GLM in generation 3 of 10\n",
      "Template Eval Error: ValueError('regression_type=user and no future_regressor passed') in model 474: GLM\n",
      "Model Number: 475 with model UnobservedComponents in generation 3 of 10\n",
      "Model Number: 476 with model WindowRegression in generation 3 of 10\n",
      "Model Number: 477 with model NVAR in generation 3 of 10\n",
      "Model Number: 478 with model MultivariateRegression in generation 3 of 10\n",
      "Model Number: 479 with model DatepartRegression in generation 3 of 10\n",
      "Model Number: 480 with model SeasonalNaive in generation 3 of 10\n",
      "Model Number: 481 with model ConstantNaive in generation 3 of 10\n",
      "Model Number: 482 with model AverageValueNaive in generation 3 of 10\n",
      "Model Number: 483 with model MultivariateMotif in generation 3 of 10\n",
      "Model Number: 484 with model GLM in generation 3 of 10\n",
      "Template Eval Error: TypeError(\"ufunc 'isfinite' not supported for the input types, and the inputs could not be safely coerced to any supported types according to the casting rule ''safe''\") in model 484: GLM\n",
      "Model Number: 485 with model ETS in generation 3 of 10\n",
      "Model Number: 486 with model ETS in generation 3 of 10\n",
      "Model Number: 487 with model Theta in generation 3 of 10\n",
      "Model Number: 488 with model UnivariateMotif in generation 3 of 10\n",
      "Model Number: 489 with model MultivariateRegression in generation 3 of 10\n",
      "Model Number: 490 with model GLM in generation 3 of 10\n",
      "Template Eval Error: ValueError('regression_type=user and no future_regressor passed') in model 490: GLM\n",
      "Model Number: 491 with model AverageValueNaive in generation 3 of 10\n",
      "Model Number: 492 with model UnobservedComponents in generation 3 of 10\n",
      "Model Number: 493 with model SectionalMotif in generation 3 of 10\n",
      "Model Number: 494 with model UnobservedComponents in generation 3 of 10\n",
      "Template Eval Error: Exception('Transformer SeasonalDifference failed on inverse') in model 494: UnobservedComponents\n",
      "Model Number: 495 with model UnivariateMotif in generation 3 of 10\n",
      "Model Number: 496 with model UnivariateMotif in generation 3 of 10\n",
      "Template Eval Error: Exception('Transformer BTCD failed on fit') in model 496: UnivariateMotif\n",
      "Model Number: 497 with model SectionalMotif in generation 3 of 10\n"
     ]
    },
    {
     "name": "stderr",
     "output_type": "stream",
     "text": [
      "C:\\Users\\darkp\\anaconda3\\lib\\site-packages\\autots\\tools\\percentile.py:47: RuntimeWarning: All-NaN slice encountered\n",
      "  max_val = np.nanmax(arr)\n"
     ]
    },
    {
     "name": "stdout",
     "output_type": "stream",
     "text": [
      "Model Number: 498 with model ETS in generation 3 of 10\n",
      "Model Number: 499 with model ETS in generation 3 of 10\n",
      "New Generation: 4 of 10\n",
      "Model Number: 500 with model UnobservedComponents in generation 4 of 10\n",
      "Model Number: 501 with model AverageValueNaive in generation 4 of 10\n",
      "Template Eval Error: Exception('Transformer BTCD failed on fit') in model 501: AverageValueNaive\n",
      "Model Number: 502 with model WindowRegression in generation 4 of 10\n",
      "Model Number: 503 with model ETS in generation 4 of 10\n",
      "Model Number: 504 with model UnobservedComponents in generation 4 of 10\n",
      "Model Number: 505 with model ConstantNaive in generation 4 of 10\n",
      "Model Number: 506 with model LastValueNaive in generation 4 of 10\n",
      "Model Number: 507 with model MultivariateRegression in generation 4 of 10\n",
      "Model Number: 508 with model GLS in generation 4 of 10\n",
      "Model Number: 509 with model WindowRegression in generation 4 of 10\n",
      "Model Number: 510 with model UnivariateMotif in generation 4 of 10\n",
      "Model Number: 511 with model DatepartRegression in generation 4 of 10\n",
      "Template Eval Error: ImportError('Tensorflow not available, install with pip install tensorflow.') in model 511: DatepartRegression\n",
      "Model Number: 512 with model ETS in generation 4 of 10\n",
      "Model Number: 513 with model DatepartRegression in generation 4 of 10\n",
      "Model Number: 514 with model GLS in generation 4 of 10\n",
      "Model Number: 515 with model UnobservedComponents in generation 4 of 10\n",
      "Model Number: 516 with model UnobservedComponents in generation 4 of 10\n",
      "Model Number: 517 with model GLS in generation 4 of 10\n",
      "Model Number: 518 with model Theta in generation 4 of 10\n",
      "Model Number: 519 with model SectionalMotif in generation 4 of 10\n",
      "Template Eval Error: ValueError(\"regression_type=='User' but no future_regressor supplied\") in model 519: SectionalMotif\n",
      "Model Number: 520 with model UnobservedComponents in generation 4 of 10\n",
      "Model Number: 521 with model GLS in generation 4 of 10\n",
      "Model Number: 522 with model Theta in generation 4 of 10\n"
     ]
    },
    {
     "name": "stderr",
     "output_type": "stream",
     "text": [
      "C:\\Users\\darkp\\anaconda3\\lib\\site-packages\\scipy\\interpolate\\polyint.py:545: RuntimeWarning: overflow encountered in multiply\n",
      "  self.wi[:j] *= (self.xi[j]-self.xi[:j])\n",
      "C:\\Users\\darkp\\anaconda3\\lib\\site-packages\\scipy\\interpolate\\polyint.py:546: RuntimeWarning: overflow encountered in reduce\n",
      "  self.wi[j] = np.multiply.reduce(self.xi[:j]-self.xi[j])\n",
      "C:\\Users\\darkp\\anaconda3\\lib\\site-packages\\scipy\\interpolate\\polyint.py:643: RuntimeWarning: invalid value encountered in true_divide\n",
      "  p = np.dot(c,self.yi)/np.sum(c,axis=-1)[...,np.newaxis]\n"
     ]
    },
    {
     "name": "stdout",
     "output_type": "stream",
     "text": [
      "Model Number: 523 with model SectionalMotif in generation 4 of 10\n",
      "Model Number: 524 with model MultivariateRegression in generation 4 of 10\n",
      "Template Eval Error: ValueError(\"regression_type='User' but not future_regressor supplied.\") in model 524: MultivariateRegression\n",
      "Model Number: 525 with model NVAR in generation 4 of 10\n",
      "Model Number: 526 with model MultivariateMotif in generation 4 of 10\n",
      "Model Number: 527 with model NVAR in generation 4 of 10\n",
      "Model Number: 528 with model NVAR in generation 4 of 10\n"
     ]
    },
    {
     "name": "stderr",
     "output_type": "stream",
     "text": [
      "C:\\Users\\darkp\\anaconda3\\lib\\site-packages\\sklearn\\_loss\\glm_distribution.py:132: RuntimeWarning: divide by zero encountered in true_divide\n",
      "  return -2 * (y - y_pred) / self.unit_variance(y_pred)\n",
      "C:\\Users\\darkp\\anaconda3\\lib\\site-packages\\sklearn\\linear_model\\_glm\\glm.py:42: RuntimeWarning: invalid value encountered in multiply\n",
      "  temp = d1 * family.deviance_derivative(y, y_pred, weights)\n",
      "C:\\Users\\darkp\\anaconda3\\lib\\site-packages\\sklearn\\_loss\\glm_distribution.py:326: RuntimeWarning: divide by zero encountered in log\n",
      "  dev = 2 * (np.log(y_pred / y) + y / y_pred - 1)\n",
      "C:\\Users\\darkp\\anaconda3\\lib\\site-packages\\sklearn\\_loss\\glm_distribution.py:326: RuntimeWarning: divide by zero encountered in true_divide\n",
      "  dev = 2 * (np.log(y_pred / y) + y / y_pred - 1)\n",
      "C:\\Users\\darkp\\anaconda3\\lib\\site-packages\\sklearn\\_loss\\glm_distribution.py:326: RuntimeWarning: invalid value encountered in add\n",
      "  dev = 2 * (np.log(y_pred / y) + y / y_pred - 1)\n",
      "C:\\Users\\darkp\\anaconda3\\lib\\site-packages\\sklearn\\linear_model\\_glm\\glm.py:323: ConvergenceWarning: lbfgs failed to converge (status=2):\n",
      "ABNORMAL_TERMINATION_IN_LNSRCH.\n",
      "\n",
      "Increase the number of iterations (max_iter) or scale the data as shown in:\n",
      "    https://scikit-learn.org/stable/modules/preprocessing.html\n",
      "  self.n_iter_ = _check_optimize_result(\"lbfgs\", opt_res)\n"
     ]
    },
    {
     "name": "stdout",
     "output_type": "stream",
     "text": [
      "Model Number: 529 with model LastValueNaive in generation 4 of 10\n",
      "Model Number: 530 with model SectionalMotif in generation 4 of 10\n",
      "Model Number: 531 with model AverageValueNaive in generation 4 of 10\n",
      "Model Number: 532 with model ETS in generation 4 of 10\n"
     ]
    },
    {
     "name": "stderr",
     "output_type": "stream",
     "text": [
      "C:\\Users\\darkp\\anaconda3\\lib\\site-packages\\sklearn\\_loss\\glm_distribution.py:132: RuntimeWarning: divide by zero encountered in true_divide\n",
      "  return -2 * (y - y_pred) / self.unit_variance(y_pred)\n",
      "C:\\Users\\darkp\\anaconda3\\lib\\site-packages\\sklearn\\linear_model\\_glm\\glm.py:42: RuntimeWarning: invalid value encountered in multiply\n",
      "  temp = d1 * family.deviance_derivative(y, y_pred, weights)\n",
      "C:\\Users\\darkp\\anaconda3\\lib\\site-packages\\sklearn\\_loss\\glm_distribution.py:330: RuntimeWarning: divide by zero encountered in power\n",
      "  - y * np.power(y_pred, 1 - p) / (1 - p)\n"
     ]
    },
    {
     "name": "stdout",
     "output_type": "stream",
     "text": [
      "Model Number: 533 with model NVAR in generation 4 of 10\n",
      "Model Number: 534 with model AverageValueNaive in generation 4 of 10\n",
      "Model Number: 535 with model Theta in generation 4 of 10\n",
      "Model Number: 536 with model LastValueNaive in generation 4 of 10\n",
      "Model Number: 537 with model ConstantNaive in generation 4 of 10\n",
      "Model Number: 538 with model Theta in generation 4 of 10\n"
     ]
    },
    {
     "name": "stderr",
     "output_type": "stream",
     "text": [
      "C:\\Users\\darkp\\anaconda3\\lib\\site-packages\\sklearn\\_loss\\glm_distribution.py:132: RuntimeWarning: divide by zero encountered in true_divide\n",
      "  return -2 * (y - y_pred) / self.unit_variance(y_pred)\n",
      "C:\\Users\\darkp\\anaconda3\\lib\\site-packages\\sklearn\\linear_model\\_glm\\glm.py:42: RuntimeWarning: invalid value encountered in multiply\n",
      "  temp = d1 * family.deviance_derivative(y, y_pred, weights)\n",
      "C:\\Users\\darkp\\anaconda3\\lib\\site-packages\\sklearn\\_loss\\glm_distribution.py:330: RuntimeWarning: divide by zero encountered in power\n",
      "  - y * np.power(y_pred, 1 - p) / (1 - p)\n"
     ]
    },
    {
     "name": "stdout",
     "output_type": "stream",
     "text": [
      "Model Number: 539 with model AverageValueNaive in generation 4 of 10\n",
      "Model Number: 540 with model UnivariateMotif in generation 4 of 10\n",
      "Model Number: 541 with model LastValueNaive in generation 4 of 10\n",
      "Model Number: 542 with model AverageValueNaive in generation 4 of 10\n",
      "Model Number: 543 with model MultivariateMotif in generation 4 of 10\n"
     ]
    },
    {
     "name": "stderr",
     "output_type": "stream",
     "text": [
      "C:\\Users\\darkp\\anaconda3\\lib\\site-packages\\sklearn\\_loss\\glm_distribution.py:132: RuntimeWarning: divide by zero encountered in true_divide\n",
      "  return -2 * (y - y_pred) / self.unit_variance(y_pred)\n",
      "C:\\Users\\darkp\\anaconda3\\lib\\site-packages\\sklearn\\linear_model\\_glm\\glm.py:42: RuntimeWarning: invalid value encountered in multiply\n",
      "  temp = d1 * family.deviance_derivative(y, y_pred, weights)\n",
      "C:\\Users\\darkp\\anaconda3\\lib\\site-packages\\sklearn\\_loss\\glm_distribution.py:323: RuntimeWarning: divide by zero encountered in true_divide\n",
      "  dev = 2 * (xlogy(y, y / y_pred) - y + y_pred)\n"
     ]
    },
    {
     "name": "stdout",
     "output_type": "stream",
     "text": [
      "Model Number: 544 with model LastValueNaive in generation 4 of 10\n",
      "Model Number: 545 with model NVAR in generation 4 of 10\n",
      "Model Number: 546 with model AverageValueNaive in generation 4 of 10\n",
      "Model Number: 547 with model UnobservedComponents in generation 4 of 10\n",
      "Template Eval Error: ValueError('Model UnobservedComponents returned NaN for one or more series. fail_on_forecast_nan=True') in model 547: UnobservedComponents\n",
      "Model Number: 548 with model SeasonalNaive in generation 4 of 10\n",
      "Model Number: 549 with model UnobservedComponents in generation 4 of 10\n",
      "Template Eval Error: ValueError(\"regression_type='User' but no future_regressor supplied\") in model 549: UnobservedComponents\n",
      "Model Number: 550 with model UnivariateRegression in generation 4 of 10\n",
      "Model Number: 551 with model UnobservedComponents in generation 4 of 10\n",
      "Model Number: 552 with model UnivariateMotif in generation 4 of 10\n",
      "Model Number: 553 with model MultivariateMotif in generation 4 of 10\n",
      "Model Number: 554 with model LastValueNaive in generation 4 of 10\n",
      "Model Number: 555 with model MultivariateRegression in generation 4 of 10\n",
      "Model Number: 556 with model ETS in generation 4 of 10\n",
      "Model Number: 557 with model Theta in generation 4 of 10\n"
     ]
    },
    {
     "name": "stderr",
     "output_type": "stream",
     "text": [
      "C:\\Users\\darkp\\anaconda3\\lib\\site-packages\\sklearn\\_loss\\glm_distribution.py:132: RuntimeWarning: divide by zero encountered in true_divide\n",
      "  return -2 * (y - y_pred) / self.unit_variance(y_pred)\n",
      "C:\\Users\\darkp\\anaconda3\\lib\\site-packages\\sklearn\\linear_model\\_glm\\glm.py:42: RuntimeWarning: invalid value encountered in multiply\n",
      "  temp = d1 * family.deviance_derivative(y, y_pred, weights)\n",
      "C:\\Users\\darkp\\anaconda3\\lib\\site-packages\\sklearn\\_loss\\glm_distribution.py:330: RuntimeWarning: divide by zero encountered in power\n",
      "  - y * np.power(y_pred, 1 - p) / (1 - p)\n"
     ]
    },
    {
     "name": "stdout",
     "output_type": "stream",
     "text": [
      "Model Number: 558 with model LastValueNaive in generation 4 of 10\n",
      "Model Number: 559 with model NVAR in generation 4 of 10\n",
      "Model Number: 560 with model LastValueNaive in generation 4 of 10\n",
      "Model Number: 561 with model GLM in generation 4 of 10\n",
      "Model Number: 562 with model MultivariateRegression in generation 4 of 10\n",
      "Model Number: 563 with model WindowRegression in generation 4 of 10\n",
      "Template Eval Error: ValueError(\"regression_type='User' but no future_regressor passed\") in model 563: WindowRegression\n",
      "Model Number: 564 with model AverageValueNaive in generation 4 of 10\n",
      "Model Number: 565 with model WindowRegression in generation 4 of 10\n",
      "Model Number: 566 with model Theta in generation 4 of 10\n",
      "Model Number: 567 with model LastValueNaive in generation 4 of 10\n",
      "Model Number: 568 with model LastValueNaive in generation 4 of 10\n",
      "Model Number: 569 with model ConstantNaive in generation 4 of 10\n",
      "Model Number: 570 with model ConstantNaive in generation 4 of 10\n",
      "Model Number: 571 with model UnivariateMotif in generation 4 of 10\n",
      "Model Number: 572 with model WindowRegression in generation 4 of 10\n",
      "Model Number: 573 with model ETS in generation 4 of 10\n",
      "Model Number: 574 with model GLM in generation 4 of 10\n",
      "Model Number: 575 with model UnobservedComponents in generation 4 of 10\n",
      "Model Number: 576 with model NVAR in generation 4 of 10\n",
      "Model Number: 577 with model Theta in generation 4 of 10\n",
      "Model Number: 578 with model UnivariateMotif in generation 4 of 10\n",
      "Model Number: 579 with model AverageValueNaive in generation 4 of 10\n",
      "Model Number: 580 with model Theta in generation 4 of 10\n",
      "Model Number: 581 with model GLS in generation 4 of 10\n",
      "Model Number: 582 with model NVAR in generation 4 of 10\n",
      "Model Number: 583 with model UnivariateMotif in generation 4 of 10\n",
      "Model Number: 584 with model ETS in generation 4 of 10\n"
     ]
    },
    {
     "name": "stderr",
     "output_type": "stream",
     "text": [
      "C:\\Users\\darkp\\anaconda3\\lib\\site-packages\\sklearn\\_loss\\glm_distribution.py:132: RuntimeWarning: divide by zero encountered in true_divide\n",
      "  return -2 * (y - y_pred) / self.unit_variance(y_pred)\n",
      "C:\\Users\\darkp\\anaconda3\\lib\\site-packages\\sklearn\\linear_model\\_glm\\glm.py:42: RuntimeWarning: invalid value encountered in multiply\n",
      "  temp = d1 * family.deviance_derivative(y, y_pred, weights)\n",
      "C:\\Users\\darkp\\anaconda3\\lib\\site-packages\\sklearn\\_loss\\glm_distribution.py:323: RuntimeWarning: divide by zero encountered in true_divide\n",
      "  dev = 2 * (xlogy(y, y / y_pred) - y + y_pred)\n"
     ]
    },
    {
     "name": "stdout",
     "output_type": "stream",
     "text": [
      "Template Eval Error: ValueError('Model ETS returned NaN for one or more series. fail_on_forecast_nan=True') in model 584: ETS\n",
      "Model Number: 585 with model MultivariateRegression in generation 4 of 10\n",
      "Model Number: 586 with model NVAR in generation 4 of 10\n",
      "Model Number: 587 with model UnobservedComponents in generation 4 of 10\n",
      "Model Number: 588 with model ConstantNaive in generation 4 of 10\n"
     ]
    },
    {
     "name": "stderr",
     "output_type": "stream",
     "text": [
      "C:\\Users\\darkp\\anaconda3\\lib\\site-packages\\autots\\tools\\probabilistic.py:67: RuntimeWarning: invalid value encountered in true_divide\n",
      "  (prior_mu / prior_sigma**2) + ((n * data_mu) / prior_sigma**2)\n",
      "C:\\Users\\darkp\\anaconda3\\lib\\site-packages\\autots\\tools\\probabilistic.py:68: RuntimeWarning: divide by zero encountered in true_divide\n",
      "  ) / ((1 / prior_sigma**2) + (n / prior_sigma**2))\n"
     ]
    },
    {
     "name": "stdout",
     "output_type": "stream",
     "text": [
      "Model Number: 589 with model UnivariateMotif in generation 4 of 10\n",
      "Model Number: 590 with model GLM in generation 4 of 10\n",
      "Model Number: 591 with model Theta in generation 4 of 10\n",
      "Model Number: 592 with model ConstantNaive in generation 4 of 10\n",
      "Model Number: 593 with model MultivariateMotif in generation 4 of 10\n",
      "Model Number: 594 with model UnivariateMotif in generation 4 of 10\n",
      "Template Eval Error: Exception('Transformer BTCD failed on fit') in model 594: UnivariateMotif\n",
      "Model Number: 595 with model ConstantNaive in generation 4 of 10\n",
      "Model Number: 596 with model Theta in generation 4 of 10\n",
      "Model Number: 597 with model Theta in generation 4 of 10\n",
      "Model Number: 598 with model UnobservedComponents in generation 4 of 10\n",
      "Template Eval Error: ValueError(\"regression_type='User' but no future_regressor supplied\") in model 598: UnobservedComponents\n",
      "Model Number: 599 with model Theta in generation 4 of 10\n",
      "Model Number: 600 with model UnivariateRegression in generation 4 of 10\n",
      "Model Number: 601 with model UnobservedComponents in generation 4 of 10\n",
      "Model Number: 602 with model UnivariateRegression in generation 4 of 10\n",
      "Model Number: 603 with model MultivariateRegression in generation 4 of 10\n",
      "Model Number: 604 with model GLS in generation 4 of 10\n",
      "Model Number: 605 with model ETS in generation 4 of 10\n",
      "Model Number: 606 with model GLS in generation 4 of 10\n",
      "Model Number: 607 with model MultivariateMotif in generation 4 of 10\n",
      "Model Number: 608 with model ETS in generation 4 of 10\n",
      "Model Number: 609 with model GLS in generation 4 of 10\n",
      "New Generation: 5 of 10\n",
      "Model Number: 610 with model SectionalMotif in generation 5 of 10\n",
      "Model Number: 611 with model UnivariateMotif in generation 5 of 10\n",
      "Model Number: 612 with model GLS in generation 5 of 10\n",
      "Model Number: 613 with model UnobservedComponents in generation 5 of 10\n",
      "Model Number: 614 with model MultivariateRegression in generation 5 of 10\n"
     ]
    },
    {
     "name": "stderr",
     "output_type": "stream",
     "text": [
      "C:\\Users\\darkp\\anaconda3\\lib\\site-packages\\sklearn\\linear_model\\_glm\\link.py:90: RuntimeWarning: overflow encountered in exp\n",
      "  return np.exp(lin_pred)\n",
      "C:\\Users\\darkp\\anaconda3\\lib\\site-packages\\sklearn\\linear_model\\_glm\\link.py:93: RuntimeWarning: overflow encountered in exp\n",
      "  return np.exp(lin_pred)\n",
      "C:\\Users\\darkp\\anaconda3\\lib\\site-packages\\sklearn\\_loss\\glm_distribution.py:132: RuntimeWarning: invalid value encountered in true_divide\n",
      "  return -2 * (y - y_pred) / self.unit_variance(y_pred)\n"
     ]
    },
    {
     "name": "stdout",
     "output_type": "stream",
     "text": [
      "Model Number: 615 with model UnivariateRegression in generation 5 of 10\n",
      "Template Eval Error: ValueError(\"Input contains NaN, infinity or a value too large for dtype('float32').\") in model 615: UnivariateRegression\n",
      "Model Number: 616 with model UnivariateMotif in generation 5 of 10\n",
      "Model Number: 617 with model Theta in generation 5 of 10\n",
      "Model Number: 618 with model Theta in generation 5 of 10\n",
      "Model Number: 619 with model DatepartRegression in generation 5 of 10\n",
      "Model Number: 620 with model WindowRegression in generation 5 of 10\n",
      "Model Number: 621 with model AverageValueNaive in generation 5 of 10\n",
      "Model Number: 622 with model SectionalMotif in generation 5 of 10\n",
      "Model Number: 623 with model NVAR in generation 5 of 10\n",
      "Model Number: 624 with model LastValueNaive in generation 5 of 10\n",
      "Model Number: 625 with model ConstantNaive in generation 5 of 10\n",
      "Model Number: 626 with model UnivariateMotif in generation 5 of 10\n",
      "Model Number: 627 with model LastValueNaive in generation 5 of 10\n",
      "Model Number: 628 with model MultivariateMotif in generation 5 of 10\n",
      "Model Number: 629 with model UnivariateMotif in generation 5 of 10\n"
     ]
    },
    {
     "name": "stderr",
     "output_type": "stream",
     "text": [
      "C:\\Users\\darkp\\anaconda3\\lib\\site-packages\\sklearn\\linear_model\\_glm\\link.py:90: RuntimeWarning: overflow encountered in exp\n",
      "  return np.exp(lin_pred)\n",
      "C:\\Users\\darkp\\anaconda3\\lib\\site-packages\\sklearn\\linear_model\\_glm\\link.py:93: RuntimeWarning: overflow encountered in exp\n",
      "  return np.exp(lin_pred)\n",
      "C:\\Users\\darkp\\anaconda3\\lib\\site-packages\\sklearn\\_loss\\glm_distribution.py:132: RuntimeWarning: invalid value encountered in true_divide\n",
      "  return -2 * (y - y_pred) / self.unit_variance(y_pred)\n",
      "C:\\Users\\darkp\\anaconda3\\lib\\site-packages\\sklearn\\_loss\\glm_distribution.py:323: RuntimeWarning: invalid value encountered in add\n",
      "  dev = 2 * (xlogy(y, y / y_pred) - y + y_pred)\n",
      "C:\\Users\\darkp\\anaconda3\\lib\\site-packages\\sklearn\\linear_model\\_glm\\glm.py:323: ConvergenceWarning: lbfgs failed to converge (status=2):\n",
      "ABNORMAL_TERMINATION_IN_LNSRCH.\n",
      "\n",
      "Increase the number of iterations (max_iter) or scale the data as shown in:\n",
      "    https://scikit-learn.org/stable/modules/preprocessing.html\n",
      "  self.n_iter_ = _check_optimize_result(\"lbfgs\", opt_res)\n"
     ]
    },
    {
     "name": "stdout",
     "output_type": "stream",
     "text": [
      "Model Number: 630 with model UnobservedComponents in generation 5 of 10\n",
      "Template Eval Error: ValueError(\"regression_type='User' but no future_regressor supplied\") in model 630: UnobservedComponents\n",
      "Model Number: 631 with model MultivariateRegression in generation 5 of 10\n"
     ]
    },
    {
     "name": "stderr",
     "output_type": "stream",
     "text": [
      "C:\\Users\\darkp\\anaconda3\\lib\\site-packages\\sklearn\\_loss\\glm_distribution.py:132: RuntimeWarning: divide by zero encountered in true_divide\n",
      "  return -2 * (y - y_pred) / self.unit_variance(y_pred)\n",
      "C:\\Users\\darkp\\anaconda3\\lib\\site-packages\\sklearn\\linear_model\\_glm\\glm.py:42: RuntimeWarning: invalid value encountered in multiply\n",
      "  temp = d1 * family.deviance_derivative(y, y_pred, weights)\n",
      "C:\\Users\\darkp\\anaconda3\\lib\\site-packages\\sklearn\\_loss\\glm_distribution.py:326: RuntimeWarning: divide by zero encountered in log\n",
      "  dev = 2 * (np.log(y_pred / y) + y / y_pred - 1)\n",
      "C:\\Users\\darkp\\anaconda3\\lib\\site-packages\\sklearn\\_loss\\glm_distribution.py:326: RuntimeWarning: divide by zero encountered in true_divide\n",
      "  dev = 2 * (np.log(y_pred / y) + y / y_pred - 1)\n",
      "C:\\Users\\darkp\\anaconda3\\lib\\site-packages\\sklearn\\_loss\\glm_distribution.py:326: RuntimeWarning: invalid value encountered in add\n",
      "  dev = 2 * (np.log(y_pred / y) + y / y_pred - 1)\n",
      "C:\\Users\\darkp\\anaconda3\\lib\\site-packages\\sklearn\\linear_model\\_glm\\glm.py:323: ConvergenceWarning: lbfgs failed to converge (status=2):\n",
      "ABNORMAL_TERMINATION_IN_LNSRCH.\n",
      "\n",
      "Increase the number of iterations (max_iter) or scale the data as shown in:\n",
      "    https://scikit-learn.org/stable/modules/preprocessing.html\n",
      "  self.n_iter_ = _check_optimize_result(\"lbfgs\", opt_res)\n"
     ]
    },
    {
     "name": "stdout",
     "output_type": "stream",
     "text": [
      "Model Number: 632 with model GLM in generation 5 of 10\n",
      "Model Number: 633 with model UnivariateMotif in generation 5 of 10\n",
      "Model Number: 634 with model GLS in generation 5 of 10\n",
      "Model Number: 635 with model UnivariateMotif in generation 5 of 10\n",
      "Model Number: 636 with model NVAR in generation 5 of 10\n",
      "Model Number: 637 with model MultivariateMotif in generation 5 of 10\n",
      "Model Number: 638 with model AverageValueNaive in generation 5 of 10\n",
      "Model Number: 639 with model UnobservedComponents in generation 5 of 10\n",
      "Template Eval Error: ValueError(\"regression_type='User' but no future_regressor supplied\") in model 639: UnobservedComponents\n",
      "Model Number: 640 with model SectionalMotif in generation 5 of 10\n",
      "Model Number: 641 with model UnivariateRegression in generation 5 of 10\n"
     ]
    },
    {
     "name": "stderr",
     "output_type": "stream",
     "text": [
      "C:\\Users\\darkp\\anaconda3\\lib\\site-packages\\sklearn\\_loss\\glm_distribution.py:132: RuntimeWarning: divide by zero encountered in true_divide\n",
      "  return -2 * (y - y_pred) / self.unit_variance(y_pred)\n",
      "C:\\Users\\darkp\\anaconda3\\lib\\site-packages\\sklearn\\linear_model\\_glm\\glm.py:42: RuntimeWarning: invalid value encountered in multiply\n",
      "  temp = d1 * family.deviance_derivative(y, y_pred, weights)\n",
      "C:\\Users\\darkp\\anaconda3\\lib\\site-packages\\sklearn\\_loss\\glm_distribution.py:323: RuntimeWarning: divide by zero encountered in true_divide\n",
      "  dev = 2 * (xlogy(y, y / y_pred) - y + y_pred)\n",
      "C:\\Users\\darkp\\anaconda3\\lib\\site-packages\\sklearn\\_loss\\glm_distribution.py:132: RuntimeWarning: divide by zero encountered in true_divide\n",
      "  return -2 * (y - y_pred) / self.unit_variance(y_pred)\n",
      "C:\\Users\\darkp\\anaconda3\\lib\\site-packages\\sklearn\\linear_model\\_glm\\glm.py:42: RuntimeWarning: invalid value encountered in multiply\n",
      "  temp = d1 * family.deviance_derivative(y, y_pred, weights)\n",
      "C:\\Users\\darkp\\anaconda3\\lib\\site-packages\\sklearn\\_loss\\glm_distribution.py:330: RuntimeWarning: divide by zero encountered in power\n",
      "  - y * np.power(y_pred, 1 - p) / (1 - p)\n"
     ]
    },
    {
     "name": "stdout",
     "output_type": "stream",
     "text": [
      "Model Number: 642 with model LastValueNaive in generation 5 of 10\n",
      "Model Number: 643 with model UnivariateMotif in generation 5 of 10\n",
      "Model Number: 644 with model GLS in generation 5 of 10\n",
      "Model Number: 645 with model UnivariateMotif in generation 5 of 10\n",
      "Model Number: 646 with model UnivariateMotif in generation 5 of 10\n",
      "Model Number: 647 with model NVAR in generation 5 of 10\n",
      "Model Number: 648 with model DatepartRegression in generation 5 of 10\n",
      "Template Eval Error: ImportError('Tensorflow not available, install with pip install tensorflow.') in model 648: DatepartRegression\n",
      "Model Number: 649 with model MultivariateMotif in generation 5 of 10\n",
      "Model Number: 650 with model AverageValueNaive in generation 5 of 10\n",
      "Model Number: 651 with model GLM in generation 5 of 10\n",
      "Model Number: 652 with model NVAR in generation 5 of 10\n",
      "Model Number: 653 with model MultivariateRegression in generation 5 of 10\n",
      "Model Number: 654 with model ETS in generation 5 of 10\n"
     ]
    },
    {
     "name": "stderr",
     "output_type": "stream",
     "text": [
      "C:\\Users\\darkp\\anaconda3\\lib\\site-packages\\statsmodels\\genmod\\families\\links.py:188: RuntimeWarning: overflow encountered in exp\n",
      "  t = np.exp(-z)\n"
     ]
    },
    {
     "name": "stdout",
     "output_type": "stream",
     "text": [
      "Model Number: 655 with model GLS in generation 5 of 10\n",
      "Model Number: 656 with model LastValueNaive in generation 5 of 10\n",
      "Model Number: 657 with model UnivariateRegression in generation 5 of 10\n",
      "Template Eval Error: Exception('Transformer BTCD failed on fit') in model 657: UnivariateRegression\n",
      "Model Number: 658 with model Theta in generation 5 of 10\n",
      "Model Number: 659 with model AverageValueNaive in generation 5 of 10\n",
      "Model Number: 660 with model LastValueNaive in generation 5 of 10\n",
      "Model Number: 661 with model ConstantNaive in generation 5 of 10\n"
     ]
    },
    {
     "name": "stderr",
     "output_type": "stream",
     "text": [
      "C:\\Users\\darkp\\anaconda3\\lib\\site-packages\\sklearn\\_loss\\glm_distribution.py:132: RuntimeWarning: divide by zero encountered in true_divide\n",
      "  return -2 * (y - y_pred) / self.unit_variance(y_pred)\n",
      "C:\\Users\\darkp\\anaconda3\\lib\\site-packages\\sklearn\\linear_model\\_glm\\glm.py:42: RuntimeWarning: invalid value encountered in multiply\n",
      "  temp = d1 * family.deviance_derivative(y, y_pred, weights)\n",
      "C:\\Users\\darkp\\anaconda3\\lib\\site-packages\\sklearn\\_loss\\glm_distribution.py:330: RuntimeWarning: divide by zero encountered in power\n",
      "  - y * np.power(y_pred, 1 - p) / (1 - p)\n"
     ]
    },
    {
     "name": "stdout",
     "output_type": "stream",
     "text": [
      "Model Number: 662 with model Theta in generation 5 of 10\n",
      "Model Number: 663 with model GLS in generation 5 of 10\n",
      "Model Number: 664 with model ETS in generation 5 of 10\n",
      "Model Number: 665 with model Theta in generation 5 of 10\n",
      "Model Number: 666 with model Theta in generation 5 of 10\n",
      "Model Number: 667 with model WindowRegression in generation 5 of 10\n",
      "Model Number: 668 with model NVAR in generation 5 of 10\n",
      "Model Number: 669 with model UnivariateMotif in generation 5 of 10\n",
      "Model Number: 670 with model SeasonalNaive in generation 5 of 10\n",
      "Model Number: 671 with model Theta in generation 5 of 10\n",
      "Model Number: 672 with model NVAR in generation 5 of 10\n",
      "Model Number: 673 with model AverageValueNaive in generation 5 of 10\n",
      "Model Number: 674 with model Theta in generation 5 of 10\n",
      "Template Eval Error: Exception('Transformer Cointegration failed on fit') in model 674: Theta\n",
      "Model Number: 675 with model WindowRegression in generation 5 of 10\n",
      "Model Number: 676 with model MultivariateMotif in generation 5 of 10\n",
      "Model Number: 677 with model UnivariateMotif in generation 5 of 10\n",
      "Model Number: 678 with model UnivariateRegression in generation 5 of 10\n",
      "Model Number: 679 with model NVAR in generation 5 of 10\n",
      "Model Number: 680 with model GLM in generation 5 of 10\n"
     ]
    },
    {
     "name": "stderr",
     "output_type": "stream",
     "text": [
      "C:\\Users\\darkp\\anaconda3\\lib\\site-packages\\sklearn\\linear_model\\_coordinate_descent.py:647: ConvergenceWarning: Objective did not converge. You might want to increase the number of iterations, check the scale of the features or consider increasing regularisation. Duality gap: 1.382e+06, tolerance: 5.651e+02\n",
      "  model = cd_fast.enet_coordinate_descent(\n",
      "C:\\Users\\darkp\\anaconda3\\lib\\site-packages\\sklearn\\_loss\\glm_distribution.py:132: RuntimeWarning: divide by zero encountered in true_divide\n",
      "  return -2 * (y - y_pred) / self.unit_variance(y_pred)\n",
      "C:\\Users\\darkp\\anaconda3\\lib\\site-packages\\sklearn\\linear_model\\_glm\\glm.py:42: RuntimeWarning: invalid value encountered in multiply\n",
      "  temp = d1 * family.deviance_derivative(y, y_pred, weights)\n",
      "C:\\Users\\darkp\\anaconda3\\lib\\site-packages\\sklearn\\_loss\\glm_distribution.py:330: RuntimeWarning: divide by zero encountered in power\n",
      "  - y * np.power(y_pred, 1 - p) / (1 - p)\n"
     ]
    },
    {
     "name": "stdout",
     "output_type": "stream",
     "text": [
      "Model Number: 681 with model MultivariateRegression in generation 5 of 10\n",
      "Model Number: 682 with model NVAR in generation 5 of 10\n",
      "Model Number: 683 with model SectionalMotif in generation 5 of 10\n",
      "Model Number: 684 with model Theta in generation 5 of 10\n",
      "Model Number: 685 with model Theta in generation 5 of 10\n",
      "Model Number: 686 with model ETS in generation 5 of 10\n",
      "Model Number: 687 with model DatepartRegression in generation 5 of 10\n",
      "Model Number: 688 with model NVAR in generation 5 of 10\n",
      "Model Number: 689 with model ETS in generation 5 of 10\n",
      "Model Number: 690 with model GLS in generation 5 of 10\n",
      "Model Number: 691 with model WindowRegression in generation 5 of 10\n"
     ]
    },
    {
     "name": "stderr",
     "output_type": "stream",
     "text": [
      "C:\\Users\\darkp\\anaconda3\\lib\\site-packages\\sklearn\\_loss\\glm_distribution.py:132: RuntimeWarning: divide by zero encountered in true_divide\n",
      "  return -2 * (y - y_pred) / self.unit_variance(y_pred)\n",
      "C:\\Users\\darkp\\anaconda3\\lib\\site-packages\\sklearn\\linear_model\\_glm\\glm.py:42: RuntimeWarning: invalid value encountered in multiply\n",
      "  temp = d1 * family.deviance_derivative(y, y_pred, weights)\n",
      "C:\\Users\\darkp\\anaconda3\\lib\\site-packages\\sklearn\\_loss\\glm_distribution.py:323: RuntimeWarning: divide by zero encountered in true_divide\n",
      "  dev = 2 * (xlogy(y, y / y_pred) - y + y_pred)\n"
     ]
    },
    {
     "name": "stdout",
     "output_type": "stream",
     "text": [
      "Model Number: 692 with model LastValueNaive in generation 5 of 10\n",
      "Model Number: 693 with model UnobservedComponents in generation 5 of 10\n",
      "Model Number: 694 with model UnobservedComponents in generation 5 of 10\n",
      "Template Eval Error: LinAlgError('Schur decomposition solver error.') in model 694: UnobservedComponents\n",
      "Model Number: 695 with model AverageValueNaive in generation 5 of 10\n",
      "Model Number: 696 with model MultivariateRegression in generation 5 of 10\n"
     ]
    },
    {
     "name": "stderr",
     "output_type": "stream",
     "text": [
      "C:\\Users\\darkp\\anaconda3\\lib\\site-packages\\sklearn\\_loss\\glm_distribution.py:132: RuntimeWarning: divide by zero encountered in true_divide\n",
      "  return -2 * (y - y_pred) / self.unit_variance(y_pred)\n",
      "C:\\Users\\darkp\\anaconda3\\lib\\site-packages\\sklearn\\linear_model\\_glm\\glm.py:42: RuntimeWarning: invalid value encountered in multiply\n",
      "  temp = d1 * family.deviance_derivative(y, y_pred, weights)\n",
      "C:\\Users\\darkp\\anaconda3\\lib\\site-packages\\sklearn\\_loss\\glm_distribution.py:323: RuntimeWarning: divide by zero encountered in true_divide\n",
      "  dev = 2 * (xlogy(y, y / y_pred) - y + y_pred)\n"
     ]
    },
    {
     "name": "stdout",
     "output_type": "stream",
     "text": [
      "Model Number: 697 with model NVAR in generation 5 of 10\n",
      "New Generation: 6 of 10\n",
      "Model Number: 698 with model ConstantNaive in generation 6 of 10\n",
      "Model Number: 699 with model UnobservedComponents in generation 6 of 10\n",
      "Model Number: 700 with model MultivariateRegression in generation 6 of 10\n"
     ]
    },
    {
     "name": "stderr",
     "output_type": "stream",
     "text": [
      "[Parallel(n_jobs=-2)]: Using backend ThreadingBackend with 7 concurrent workers.\n",
      "[Parallel(n_jobs=-2)]: Done  36 tasks      | elapsed:    0.1s\n",
      "[Parallel(n_jobs=-2)]: Done 186 tasks      | elapsed:    0.6s\n",
      "[Parallel(n_jobs=-2)]: Done 300 out of 300 | elapsed:    1.0s finished\n",
      "[Parallel(n_jobs=7)]: Using backend ThreadingBackend with 7 concurrent workers.\n",
      "[Parallel(n_jobs=7)]: Done  36 tasks      | elapsed:    0.0s\n",
      "[Parallel(n_jobs=7)]: Done 186 tasks      | elapsed:    0.0s\n",
      "[Parallel(n_jobs=7)]: Done 300 out of 300 | elapsed:    0.0s finished\n",
      "[Parallel(n_jobs=7)]: Using backend ThreadingBackend with 7 concurrent workers.\n",
      "[Parallel(n_jobs=7)]: Done  36 tasks      | elapsed:    0.0s\n",
      "[Parallel(n_jobs=7)]: Done 186 tasks      | elapsed:    0.0s\n",
      "[Parallel(n_jobs=7)]: Done 300 out of 300 | elapsed:    0.0s finished\n",
      "[Parallel(n_jobs=7)]: Using backend ThreadingBackend with 7 concurrent workers.\n",
      "[Parallel(n_jobs=7)]: Done  36 tasks      | elapsed:    0.0s\n",
      "[Parallel(n_jobs=7)]: Done 186 tasks      | elapsed:    0.0s\n",
      "[Parallel(n_jobs=7)]: Done 300 out of 300 | elapsed:    0.0s finished\n",
      "[Parallel(n_jobs=7)]: Using backend ThreadingBackend with 7 concurrent workers.\n",
      "[Parallel(n_jobs=7)]: Done  36 tasks      | elapsed:    0.0s\n",
      "[Parallel(n_jobs=7)]: Done 186 tasks      | elapsed:    0.0s\n",
      "[Parallel(n_jobs=7)]: Done 300 out of 300 | elapsed:    0.0s finished\n",
      "[Parallel(n_jobs=7)]: Using backend ThreadingBackend with 7 concurrent workers.\n",
      "[Parallel(n_jobs=7)]: Done  36 tasks      | elapsed:    0.0s\n",
      "[Parallel(n_jobs=7)]: Done 186 tasks      | elapsed:    0.0s\n"
     ]
    },
    {
     "name": "stdout",
     "output_type": "stream",
     "text": [
      "Model Number: 701 with model UnivariateRegression in generation 6 of 10\n",
      "Template Eval Error: ValueError(\"regression_type='User' but not future_regressor supplied.\") in model 701: UnivariateRegression\n",
      "Model Number: 702 with model ETS in generation 6 of 10\n"
     ]
    },
    {
     "name": "stderr",
     "output_type": "stream",
     "text": [
      "[Parallel(n_jobs=7)]: Done 300 out of 300 | elapsed:    0.0s finished\n"
     ]
    },
    {
     "name": "stdout",
     "output_type": "stream",
     "text": [
      "Model Number: 703 with model GLS in generation 6 of 10\n",
      "Model Number: 704 with model UnivariateRegression in generation 6 of 10\n",
      "Model Number: 705 with model NVAR in generation 6 of 10\n",
      "Model Number: 706 with model GLM in generation 6 of 10\n",
      "Model Number: 707 with model LastValueNaive in generation 6 of 10\n",
      "Model Number: 708 with model SectionalMotif in generation 6 of 10\n",
      "Model Number: 709 with model LastValueNaive in generation 6 of 10\n",
      "Model Number: 710 with model Theta in generation 6 of 10\n",
      "Model Number: 711 with model DatepartRegression in generation 6 of 10\n",
      "Model Number: 712 with model LastValueNaive in generation 6 of 10\n",
      "Model Number: 713 with model LastValueNaive in generation 6 of 10\n",
      "Model Number: 714 with model UnobservedComponents in generation 6 of 10\n"
     ]
    },
    {
     "name": "stderr",
     "output_type": "stream",
     "text": [
      "C:\\Users\\darkp\\anaconda3\\lib\\site-packages\\sklearn\\_loss\\glm_distribution.py:132: RuntimeWarning: divide by zero encountered in true_divide\n",
      "  return -2 * (y - y_pred) / self.unit_variance(y_pred)\n",
      "C:\\Users\\darkp\\anaconda3\\lib\\site-packages\\sklearn\\linear_model\\_glm\\glm.py:42: RuntimeWarning: invalid value encountered in multiply\n",
      "  temp = d1 * family.deviance_derivative(y, y_pred, weights)\n",
      "C:\\Users\\darkp\\anaconda3\\lib\\site-packages\\sklearn\\_loss\\glm_distribution.py:330: RuntimeWarning: divide by zero encountered in power\n",
      "  - y * np.power(y_pred, 1 - p) / (1 - p)\n",
      "C:\\Users\\darkp\\anaconda3\\lib\\site-packages\\sklearn\\_loss\\glm_distribution.py:132: RuntimeWarning: divide by zero encountered in true_divide\n",
      "  return -2 * (y - y_pred) / self.unit_variance(y_pred)\n",
      "C:\\Users\\darkp\\anaconda3\\lib\\site-packages\\sklearn\\linear_model\\_glm\\glm.py:42: RuntimeWarning: invalid value encountered in multiply\n",
      "  temp = d1 * family.deviance_derivative(y, y_pred, weights)\n",
      "C:\\Users\\darkp\\anaconda3\\lib\\site-packages\\sklearn\\_loss\\glm_distribution.py:330: RuntimeWarning: divide by zero encountered in power\n",
      "  - y * np.power(y_pred, 1 - p) / (1 - p)\n"
     ]
    },
    {
     "name": "stdout",
     "output_type": "stream",
     "text": [
      "Model Number: 715 with model WindowRegression in generation 6 of 10\n",
      "Model Number: 716 with model ETS in generation 6 of 10\n",
      "Model Number: 717 with model LastValueNaive in generation 6 of 10\n",
      "Model Number: 718 with model GLS in generation 6 of 10\n",
      "Model Number: 719 with model AverageValueNaive in generation 6 of 10\n",
      "Model Number: 720 with model DatepartRegression in generation 6 of 10\n",
      "Template Eval Error: ImportError('Tensorflow not available, install with pip install tensorflow.') in model 720: DatepartRegression\n",
      "Model Number: 721 with model NVAR in generation 6 of 10\n",
      "Model Number: 722 with model DatepartRegression in generation 6 of 10\n",
      "Model Number: 723 with model SectionalMotif in generation 6 of 10\n",
      "Model Number: 724 with model UnivariateRegression in generation 6 of 10\n",
      "Model Number: 725 with model UnobservedComponents in generation 6 of 10\n",
      "Model Number: 726 with model Theta in generation 6 of 10\n",
      "Model Number: 727 with model UnivariateRegression in generation 6 of 10\n",
      "Model Number: 728 with model WindowRegression in generation 6 of 10\n",
      "Model Number: 729 with model WindowRegression in generation 6 of 10\n",
      "Template Eval Error: Exception('Transformer BTCD failed on fit') in model 729: WindowRegression\n",
      "Model Number: 730 with model AverageValueNaive in generation 6 of 10\n",
      "Model Number: 731 with model Theta in generation 6 of 10\n"
     ]
    },
    {
     "name": "stderr",
     "output_type": "stream",
     "text": [
      "C:\\Users\\darkp\\anaconda3\\lib\\site-packages\\sklearn\\_loss\\glm_distribution.py:132: RuntimeWarning: divide by zero encountered in true_divide\n",
      "  return -2 * (y - y_pred) / self.unit_variance(y_pred)\n",
      "C:\\Users\\darkp\\anaconda3\\lib\\site-packages\\sklearn\\linear_model\\_glm\\glm.py:42: RuntimeWarning: invalid value encountered in multiply\n",
      "  temp = d1 * family.deviance_derivative(y, y_pred, weights)\n",
      "C:\\Users\\darkp\\anaconda3\\lib\\site-packages\\sklearn\\_loss\\glm_distribution.py:326: RuntimeWarning: divide by zero encountered in log\n",
      "  dev = 2 * (np.log(y_pred / y) + y / y_pred - 1)\n",
      "C:\\Users\\darkp\\anaconda3\\lib\\site-packages\\sklearn\\_loss\\glm_distribution.py:326: RuntimeWarning: divide by zero encountered in true_divide\n",
      "  dev = 2 * (np.log(y_pred / y) + y / y_pred - 1)\n",
      "C:\\Users\\darkp\\anaconda3\\lib\\site-packages\\sklearn\\_loss\\glm_distribution.py:326: RuntimeWarning: invalid value encountered in add\n",
      "  dev = 2 * (np.log(y_pred / y) + y / y_pred - 1)\n",
      "C:\\Users\\darkp\\anaconda3\\lib\\site-packages\\sklearn\\linear_model\\_glm\\glm.py:323: ConvergenceWarning: lbfgs failed to converge (status=2):\n",
      "ABNORMAL_TERMINATION_IN_LNSRCH.\n",
      "\n",
      "Increase the number of iterations (max_iter) or scale the data as shown in:\n",
      "    https://scikit-learn.org/stable/modules/preprocessing.html\n",
      "  self.n_iter_ = _check_optimize_result(\"lbfgs\", opt_res)\n"
     ]
    },
    {
     "name": "stdout",
     "output_type": "stream",
     "text": [
      "Model Number: 732 with model Theta in generation 6 of 10\n",
      "Model Number: 733 with model UnivariateRegression in generation 6 of 10\n",
      "Model Number: 734 with model NVAR in generation 6 of 10\n",
      "Template Eval Error: LinAlgError('SVD did not converge') in model 734: NVAR\n",
      "Model Number: 735 with model Theta in generation 6 of 10\n",
      "Model Number: 736 with model MultivariateRegression in generation 6 of 10\n"
     ]
    },
    {
     "name": "stderr",
     "output_type": "stream",
     "text": [
      "C:\\Users\\darkp\\anaconda3\\lib\\site-packages\\sklearn\\_loss\\glm_distribution.py:132: RuntimeWarning: divide by zero encountered in true_divide\n",
      "  return -2 * (y - y_pred) / self.unit_variance(y_pred)\n",
      "C:\\Users\\darkp\\anaconda3\\lib\\site-packages\\sklearn\\linear_model\\_glm\\glm.py:42: RuntimeWarning: invalid value encountered in multiply\n",
      "  temp = d1 * family.deviance_derivative(y, y_pred, weights)\n",
      "C:\\Users\\darkp\\anaconda3\\lib\\site-packages\\sklearn\\_loss\\glm_distribution.py:330: RuntimeWarning: divide by zero encountered in power\n",
      "  - y * np.power(y_pred, 1 - p) / (1 - p)\n"
     ]
    },
    {
     "name": "stdout",
     "output_type": "stream",
     "text": [
      "Model Number: 737 with model GLS in generation 6 of 10\n",
      "Model Number: 738 with model UnivariateRegression in generation 6 of 10\n",
      "Model Number: 739 with model GLM in generation 6 of 10\n",
      "Model Number: 740 with model AverageValueNaive in generation 6 of 10\n",
      "Model Number: 741 with model GLM in generation 6 of 10\n",
      "Model Number: 742 with model NVAR in generation 6 of 10\n",
      "Template Eval Error: Exception('Transformer Cointegration failed on fit') in model 742: NVAR\n",
      "Model Number: 743 with model Theta in generation 6 of 10\n"
     ]
    },
    {
     "name": "stderr",
     "output_type": "stream",
     "text": [
      "C:\\Users\\darkp\\anaconda3\\lib\\site-packages\\sklearn\\linear_model\\_glm\\link.py:90: RuntimeWarning: overflow encountered in exp\n",
      "  return np.exp(lin_pred)\n",
      "C:\\Users\\darkp\\anaconda3\\lib\\site-packages\\sklearn\\linear_model\\_glm\\link.py:93: RuntimeWarning: overflow encountered in exp\n",
      "  return np.exp(lin_pred)\n",
      "C:\\Users\\darkp\\anaconda3\\lib\\site-packages\\sklearn\\_loss\\glm_distribution.py:132: RuntimeWarning: invalid value encountered in true_divide\n",
      "  return -2 * (y - y_pred) / self.unit_variance(y_pred)\n"
     ]
    },
    {
     "name": "stdout",
     "output_type": "stream",
     "text": [
      "Model Number: 744 with model ConstantNaive in generation 6 of 10\n",
      "Model Number: 745 with model LastValueNaive in generation 6 of 10\n",
      "Model Number: 746 with model LastValueNaive in generation 6 of 10\n",
      "Model Number: 747 with model GLS in generation 6 of 10\n",
      "Model Number: 748 with model UnivariateRegression in generation 6 of 10\n",
      "Model Number: 749 with model MultivariateRegression in generation 6 of 10\n",
      "Model Number: 750 with model LastValueNaive in generation 6 of 10\n",
      "Model Number: 751 with model ETS in generation 6 of 10\n",
      "Model Number: 752 with model GLS in generation 6 of 10\n",
      "Model Number: 753 with model UnivariateMotif in generation 6 of 10\n",
      "Model Number: 754 with model GLS in generation 6 of 10\n"
     ]
    },
    {
     "name": "stderr",
     "output_type": "stream",
     "text": [
      "C:\\Users\\darkp\\anaconda3\\lib\\site-packages\\sklearn\\_loss\\glm_distribution.py:132: RuntimeWarning: divide by zero encountered in true_divide\n",
      "  return -2 * (y - y_pred) / self.unit_variance(y_pred)\n",
      "C:\\Users\\darkp\\anaconda3\\lib\\site-packages\\sklearn\\linear_model\\_glm\\glm.py:42: RuntimeWarning: invalid value encountered in multiply\n",
      "  temp = d1 * family.deviance_derivative(y, y_pred, weights)\n",
      "C:\\Users\\darkp\\anaconda3\\lib\\site-packages\\sklearn\\_loss\\glm_distribution.py:330: RuntimeWarning: divide by zero encountered in power\n",
      "  - y * np.power(y_pred, 1 - p) / (1 - p)\n"
     ]
    },
    {
     "name": "stdout",
     "output_type": "stream",
     "text": [
      "Model Number: 755 with model MultivariateMotif in generation 6 of 10\n",
      "Model Number: 756 with model Theta in generation 6 of 10\n",
      "Model Number: 757 with model UnivariateMotif in generation 6 of 10\n",
      "Model Number: 758 with model NVAR in generation 6 of 10\n",
      "Model Number: 759 with model NVAR in generation 6 of 10\n",
      "Template Eval Error: LinAlgError('SVD did not converge') in model 759: NVAR\n",
      "Model Number: 760 with model UnobservedComponents in generation 6 of 10\n",
      "Template Eval Error: ValueError(\"regression_type='User' but no future_regressor supplied\") in model 760: UnobservedComponents\n",
      "Model Number: 761 with model GLS in generation 6 of 10\n",
      "Model Number: 762 with model AverageValueNaive in generation 6 of 10\n",
      "Model Number: 763 with model ETS in generation 6 of 10\n",
      "Model Number: 764 with model UnivariateMotif in generation 6 of 10\n"
     ]
    },
    {
     "name": "stderr",
     "output_type": "stream",
     "text": [
      "C:\\Users\\darkp\\anaconda3\\lib\\site-packages\\sklearn\\svm\\_base.py:1206: ConvergenceWarning: Liblinear failed to converge, increase the number of iterations.\n",
      "  warnings.warn(\n"
     ]
    },
    {
     "name": "stdout",
     "output_type": "stream",
     "text": [
      "Model Number: 765 with model GLM in generation 6 of 10\n"
     ]
    },
    {
     "name": "stderr",
     "output_type": "stream",
     "text": [
      "C:\\Users\\darkp\\anaconda3\\lib\\site-packages\\sklearn\\utils\\validation.py:1688: FutureWarning: Feature names only support names that are all strings. Got feature names with dtypes: ['Timestamp', 'str']. An error will be raised in 1.2.\n",
      "  warnings.warn(\n",
      "C:\\Users\\darkp\\anaconda3\\lib\\site-packages\\sklearn\\base.py:450: UserWarning: X does not have valid feature names, but QuantileTransformer was fitted with feature names\n",
      "  warnings.warn(\n"
     ]
    },
    {
     "name": "stdout",
     "output_type": "stream",
     "text": [
      "Template Eval Error: Exception('Transformer QuantileTransformer failed on inverse') in model 765: GLM\n",
      "Model Number: 766 with model WindowRegression in generation 6 of 10\n",
      "Model Number: 767 with model NVAR in generation 6 of 10\n",
      "Model Number: 768 with model SectionalMotif in generation 6 of 10\n",
      "Template Eval Error: ValueError(\"regression_type=='User' but no future_regressor supplied\") in model 768: SectionalMotif\n",
      "Model Number: 769 with model UnobservedComponents in generation 6 of 10\n",
      "Model Number: 770 with model AverageValueNaive in generation 6 of 10\n",
      "Model Number: 771 with model MultivariateMotif in generation 6 of 10\n",
      "Model Number: 772 with model NVAR in generation 6 of 10\n",
      "Model Number: 773 with model LastValueNaive in generation 6 of 10\n",
      "Model Number: 774 with model Theta in generation 6 of 10\n"
     ]
    },
    {
     "name": "stderr",
     "output_type": "stream",
     "text": [
      "C:\\Users\\darkp\\anaconda3\\lib\\site-packages\\sklearn\\_loss\\glm_distribution.py:132: RuntimeWarning: divide by zero encountered in true_divide\n",
      "  return -2 * (y - y_pred) / self.unit_variance(y_pred)\n",
      "C:\\Users\\darkp\\anaconda3\\lib\\site-packages\\sklearn\\linear_model\\_glm\\glm.py:42: RuntimeWarning: invalid value encountered in multiply\n",
      "  temp = d1 * family.deviance_derivative(y, y_pred, weights)\n",
      "C:\\Users\\darkp\\anaconda3\\lib\\site-packages\\sklearn\\_loss\\glm_distribution.py:330: RuntimeWarning: divide by zero encountered in power\n",
      "  - y * np.power(y_pred, 1 - p) / (1 - p)\n"
     ]
    },
    {
     "name": "stdout",
     "output_type": "stream",
     "text": [
      "Model Number: 775 with model MultivariateMotif in generation 6 of 10\n",
      "Model Number: 776 with model SectionalMotif in generation 6 of 10\n",
      "Model Number: 777 with model UnivariateMotif in generation 6 of 10\n",
      "Model Number: 778 with model ETS in generation 6 of 10\n",
      "Model Number: 779 with model LastValueNaive in generation 6 of 10\n",
      "Model Number: 780 with model NVAR in generation 6 of 10\n",
      "Model Number: 781 with model UnobservedComponents in generation 6 of 10\n",
      "Model Number: 782 with model GLS in generation 6 of 10\n",
      "Model Number: 783 with model UnobservedComponents in generation 6 of 10\n"
     ]
    },
    {
     "name": "stderr",
     "output_type": "stream",
     "text": [
      "C:\\Users\\darkp\\anaconda3\\lib\\site-packages\\sklearn\\_loss\\glm_distribution.py:132: RuntimeWarning: divide by zero encountered in true_divide\n",
      "  return -2 * (y - y_pred) / self.unit_variance(y_pred)\n",
      "C:\\Users\\darkp\\anaconda3\\lib\\site-packages\\sklearn\\linear_model\\_glm\\glm.py:42: RuntimeWarning: invalid value encountered in multiply\n",
      "  temp = d1 * family.deviance_derivative(y, y_pred, weights)\n",
      "C:\\Users\\darkp\\anaconda3\\lib\\site-packages\\sklearn\\_loss\\glm_distribution.py:323: RuntimeWarning: divide by zero encountered in true_divide\n",
      "  dev = 2 * (xlogy(y, y / y_pred) - y + y_pred)\n"
     ]
    },
    {
     "name": "stdout",
     "output_type": "stream",
     "text": [
      "Model Number: 784 with model NVAR in generation 6 of 10\n",
      "Model Number: 785 with model GLS in generation 6 of 10\n",
      "New Generation: 7 of 10\n",
      "Model Number: 786 with model WindowRegression in generation 7 of 10\n",
      "Template Eval Error: ValueError(\"loss='poisson' requires non-negative y and sum(y) > 0.\") in model 786: WindowRegression\n",
      "Model Number: 787 with model DatepartRegression in generation 7 of 10\n",
      "Template Eval Error: ValueError(\"regression_type='User' but no future_regressor passed\") in model 787: DatepartRegression\n",
      "Model Number: 788 with model UnobservedComponents in generation 7 of 10\n",
      "Model Number: 789 with model UnobservedComponents in generation 7 of 10\n",
      "Model Number: 790 with model UnobservedComponents in generation 7 of 10\n",
      "Model Number: 791 with model Theta in generation 7 of 10\n",
      "Model Number: 792 with model ETS in generation 7 of 10\n",
      "Model Number: 793 with model NVAR in generation 7 of 10\n",
      "Model Number: 794 with model SeasonalNaive in generation 7 of 10\n",
      "Model Number: 795 with model MultivariateRegression in generation 7 of 10\n",
      "Model Number: 796 with model NVAR in generation 7 of 10\n",
      "Model Number: 797 with model GLS in generation 7 of 10\n",
      "Model Number: 798 with model AverageValueNaive in generation 7 of 10\n",
      "Model Number: 799 with model LastValueNaive in generation 7 of 10\n",
      "Model Number: 800 with model LastValueNaive in generation 7 of 10\n",
      "Model Number: 801 with model ConstantNaive in generation 7 of 10\n",
      "Model Number: 802 with model NVAR in generation 7 of 10\n"
     ]
    },
    {
     "name": "stderr",
     "output_type": "stream",
     "text": [
      "C:\\Users\\darkp\\anaconda3\\lib\\site-packages\\autots\\tools\\probabilistic.py:67: RuntimeWarning: invalid value encountered in true_divide\n",
      "  (prior_mu / prior_sigma**2) + ((n * data_mu) / prior_sigma**2)\n",
      "C:\\Users\\darkp\\anaconda3\\lib\\site-packages\\autots\\tools\\probabilistic.py:68: RuntimeWarning: divide by zero encountered in true_divide\n",
      "  ) / ((1 / prior_sigma**2) + (n / prior_sigma**2))\n",
      "C:\\Users\\darkp\\anaconda3\\lib\\site-packages\\sklearn\\_loss\\glm_distribution.py:132: RuntimeWarning: divide by zero encountered in true_divide\n",
      "  return -2 * (y - y_pred) / self.unit_variance(y_pred)\n",
      "C:\\Users\\darkp\\anaconda3\\lib\\site-packages\\sklearn\\linear_model\\_glm\\glm.py:42: RuntimeWarning: invalid value encountered in multiply\n",
      "  temp = d1 * family.deviance_derivative(y, y_pred, weights)\n",
      "C:\\Users\\darkp\\anaconda3\\lib\\site-packages\\sklearn\\_loss\\glm_distribution.py:330: RuntimeWarning: divide by zero encountered in power\n",
      "  - y * np.power(y_pred, 1 - p) / (1 - p)\n"
     ]
    },
    {
     "name": "stdout",
     "output_type": "stream",
     "text": [
      "Model Number: 803 with model LastValueNaive in generation 7 of 10\n",
      "Model Number: 804 with model MultivariateMotif in generation 7 of 10\n",
      "Model Number: 805 with model AverageValueNaive in generation 7 of 10\n",
      "Model Number: 806 with model Theta in generation 7 of 10\n",
      "Model Number: 807 with model UnivariateRegression in generation 7 of 10\n",
      "Model Number: 808 with model UnobservedComponents in generation 7 of 10\n",
      "Model Number: 809 with model AverageValueNaive in generation 7 of 10\n",
      "Model Number: 810 with model WindowRegression in generation 7 of 10\n",
      "Template Eval Error: ValueError(\"regression_type='User' but no future_regressor passed\") in model 810: WindowRegression\n",
      "Model Number: 811 with model Theta in generation 7 of 10\n",
      "Model Number: 812 with model UnivariateMotif in generation 7 of 10\n",
      "Model Number: 813 with model ETS in generation 7 of 10\n",
      "Model Number: 814 with model LastValueNaive in generation 7 of 10\n",
      "Model Number: 815 with model ConstantNaive in generation 7 of 10\n",
      "Model Number: 816 with model NVAR in generation 7 of 10\n",
      "Model Number: 817 with model WindowRegression in generation 7 of 10\n",
      "Model Number: 818 with model Theta in generation 7 of 10\n"
     ]
    },
    {
     "name": "stderr",
     "output_type": "stream",
     "text": [
      "C:\\Users\\darkp\\anaconda3\\lib\\site-packages\\sklearn\\linear_model\\_glm\\link.py:90: RuntimeWarning: overflow encountered in exp\n",
      "  return np.exp(lin_pred)\n",
      "C:\\Users\\darkp\\anaconda3\\lib\\site-packages\\sklearn\\linear_model\\_glm\\link.py:93: RuntimeWarning: overflow encountered in exp\n",
      "  return np.exp(lin_pred)\n",
      "C:\\Users\\darkp\\anaconda3\\lib\\site-packages\\sklearn\\_loss\\glm_distribution.py:132: RuntimeWarning: invalid value encountered in true_divide\n",
      "  return -2 * (y - y_pred) / self.unit_variance(y_pred)\n"
     ]
    },
    {
     "name": "stdout",
     "output_type": "stream",
     "text": [
      "Model Number: 819 with model SectionalMotif in generation 7 of 10\n",
      "Model Number: 820 with model UnivariateMotif in generation 7 of 10\n",
      "Model Number: 821 with model Theta in generation 7 of 10\n",
      "Model Number: 822 with model WindowRegression in generation 7 of 10\n",
      "Model Number: 823 with model GLS in generation 7 of 10\n",
      "Model Number: 824 with model NVAR in generation 7 of 10\n",
      "Model Number: 825 with model UnivariateMotif in generation 7 of 10\n",
      "Model Number: 826 with model GLS in generation 7 of 10\n",
      "Model Number: 827 with model DatepartRegression in generation 7 of 10\n",
      "Model Number: 828 with model NVAR in generation 7 of 10\n",
      "Model Number: 829 with model GLM in generation 7 of 10\n",
      "Template Eval Error: Exception('Transformer Cointegration failed on fit') in model 829: GLM\n",
      "Model Number: 830 with model GLS in generation 7 of 10\n",
      "Model Number: 831 with model NVAR in generation 7 of 10\n",
      "Model Number: 832 with model GLS in generation 7 of 10\n",
      "Model Number: 833 with model UnivariateRegression in generation 7 of 10\n",
      "Model Number: 834 with model UnivariateRegression in generation 7 of 10\n",
      "Model Number: 835 with model WindowRegression in generation 7 of 10\n",
      "Model Number: 836 with model MultivariateRegression in generation 7 of 10\n",
      "Model Number: 837 with model MultivariateMotif in generation 7 of 10\n",
      "Model Number: 838 with model AverageValueNaive in generation 7 of 10\n",
      "Model Number: 839 with model UnobservedComponents in generation 7 of 10\n",
      "Model Number: 840 with model DatepartRegression in generation 7 of 10\n",
      "Template Eval Error: ValueError(\"regression_type='User' but no future_regressor passed\") in model 840: DatepartRegression\n",
      "Model Number: 841 with model ETS in generation 7 of 10\n",
      "Model Number: 842 with model MultivariateMotif in generation 7 of 10\n",
      "Model Number: 843 with model SectionalMotif in generation 7 of 10\n",
      "Model Number: 844 with model MultivariateRegression in generation 7 of 10\n",
      "Model Number: 845 with model LastValueNaive in generation 7 of 10\n",
      "Model Number: 846 with model MultivariateRegression in generation 7 of 10\n",
      "Template Eval Error: ModuleNotFoundError(\"No module named 'lightgbm'\") in model 846: MultivariateRegression\n",
      "Model Number: 847 with model SectionalMotif in generation 7 of 10\n",
      "Model Number: 848 with model NVAR in generation 7 of 10\n",
      "Model Number: 849 with model MultivariateMotif in generation 7 of 10\n",
      "Model Number: 850 with model Theta in generation 7 of 10\n",
      "Model Number: 851 with model Theta in generation 7 of 10\n",
      "Model Number: 852 with model GLS in generation 7 of 10\n",
      "Model Number: 853 with model UnobservedComponents in generation 7 of 10\n",
      "Model Number: 854 with model Theta in generation 7 of 10\n",
      "Model Number: 855 with model NVAR in generation 7 of 10\n",
      "Model Number: 856 with model ConstantNaive in generation 7 of 10\n",
      "Model Number: 857 with model LastValueNaive in generation 7 of 10\n",
      "Model Number: 858 with model GLS in generation 7 of 10\n",
      "Model Number: 859 with model GLM in generation 7 of 10\n",
      "Model Number: 860 with model MultivariateMotif in generation 7 of 10\n",
      "Model Number: 861 with model GLM in generation 7 of 10\n",
      "Template Eval Error: ValueError('NaN, inf or invalid value detected in weights, estimation infeasible.') in model 861: GLM\n",
      "Model Number: 862 with model GLS in generation 7 of 10\n",
      "Model Number: 863 with model UnobservedComponents in generation 7 of 10\n",
      "Template Eval Error: Exception('Transformer BTCD failed on fit') in model 863: UnobservedComponents\n",
      "Model Number: 864 with model UnivariateMotif in generation 7 of 10\n",
      "Template Eval Error: Exception('Transformer FastICA failed on fit') in model 864: UnivariateMotif\n",
      "Model Number: 865 with model UnivariateMotif in generation 7 of 10\n",
      "Model Number: 866 with model WindowRegression in generation 7 of 10\n",
      "Model Number: 867 with model LastValueNaive in generation 7 of 10\n",
      "Model Number: 868 with model MultivariateMotif in generation 7 of 10"
     ]
    },
    {
     "name": "stderr",
     "output_type": "stream",
     "text": [
      "C:\\Users\\darkp\\anaconda3\\lib\\site-packages\\statsmodels\\genmod\\families\\family.py:428: RuntimeWarning: divide by zero encountered in true_divide\n",
      "  endog_mu = self._clean(endog / mu)\n",
      "C:\\Users\\darkp\\anaconda3\\lib\\site-packages\\statsmodels\\genmod\\families\\family.py:134: RuntimeWarning: divide by zero encountered in true_divide\n",
      "  return 1. / (self.link.deriv(mu)**2 * self.variance(mu))\n",
      "C:\\Users\\darkp\\anaconda3\\lib\\site-packages\\sklearn\\_loss\\glm_distribution.py:132: RuntimeWarning: divide by zero encountered in true_divide\n",
      "  return -2 * (y - y_pred) / self.unit_variance(y_pred)\n",
      "C:\\Users\\darkp\\anaconda3\\lib\\site-packages\\sklearn\\linear_model\\_glm\\glm.py:42: RuntimeWarning: invalid value encountered in multiply\n",
      "  temp = d1 * family.deviance_derivative(y, y_pred, weights)\n",
      "C:\\Users\\darkp\\anaconda3\\lib\\site-packages\\sklearn\\_loss\\glm_distribution.py:330: RuntimeWarning: divide by zero encountered in power\n",
      "  - y * np.power(y_pred, 1 - p) / (1 - p)\n",
      "C:\\Users\\darkp\\anaconda3\\lib\\site-packages\\sklearn\\utils\\validation.py:1688: FutureWarning: Feature names only support names that are all strings. Got feature names with dtypes: ['Timestamp', 'str']. An error will be raised in 1.2.\n",
      "  warnings.warn(\n"
     ]
    },
    {
     "name": "stdout",
     "output_type": "stream",
     "text": [
      "\n",
      "Model Number: 869 with model AverageValueNaive in generation 7 of 10\n",
      "Model Number: 870 with model AverageValueNaive in generation 7 of 10\n",
      "Model Number: 871 with model Theta in generation 7 of 10\n",
      "Model Number: 872 with model GLS in generation 7 of 10\n",
      "Model Number: 873 with model UnivariateMotif in generation 7 of 10\n"
     ]
    },
    {
     "name": "stderr",
     "output_type": "stream",
     "text": [
      "C:\\Users\\darkp\\anaconda3\\lib\\site-packages\\sklearn\\_loss\\glm_distribution.py:132: RuntimeWarning: divide by zero encountered in true_divide\n",
      "  return -2 * (y - y_pred) / self.unit_variance(y_pred)\n",
      "C:\\Users\\darkp\\anaconda3\\lib\\site-packages\\sklearn\\linear_model\\_glm\\glm.py:42: RuntimeWarning: invalid value encountered in multiply\n",
      "  temp = d1 * family.deviance_derivative(y, y_pred, weights)\n",
      "C:\\Users\\darkp\\anaconda3\\lib\\site-packages\\sklearn\\_loss\\glm_distribution.py:330: RuntimeWarning: divide by zero encountered in power\n",
      "  - y * np.power(y_pred, 1 - p) / (1 - p)\n"
     ]
    },
    {
     "name": "stdout",
     "output_type": "stream",
     "text": [
      "New Generation: 8 of 10\n",
      "Model Number: 874 with model Theta in generation 8 of 10\n",
      "Model Number: 875 with model MultivariateRegression in generation 8 of 10\n"
     ]
    },
    {
     "name": "stderr",
     "output_type": "stream",
     "text": [
      "[Parallel(n_jobs=-2)]: Using backend ThreadingBackend with 7 concurrent workers.\n",
      "[Parallel(n_jobs=-2)]: Done  36 tasks      | elapsed:    0.0s\n",
      "[Parallel(n_jobs=-2)]: Done 186 tasks      | elapsed:    0.1s\n",
      "[Parallel(n_jobs=-2)]: Done 300 out of 300 | elapsed:    0.2s finished\n",
      "[Parallel(n_jobs=7)]: Using backend ThreadingBackend with 7 concurrent workers.\n",
      "[Parallel(n_jobs=7)]: Done  36 tasks      | elapsed:    0.0s\n",
      "[Parallel(n_jobs=7)]: Done 186 tasks      | elapsed:    0.0s\n",
      "[Parallel(n_jobs=7)]: Done 300 out of 300 | elapsed:    0.0s finished\n",
      "[Parallel(n_jobs=7)]: Using backend ThreadingBackend with 7 concurrent workers.\n",
      "[Parallel(n_jobs=7)]: Done  36 tasks      | elapsed:    0.0s\n",
      "[Parallel(n_jobs=7)]: Done 186 tasks      | elapsed:    0.0s\n",
      "[Parallel(n_jobs=7)]: Done 300 out of 300 | elapsed:    0.0s finished\n",
      "[Parallel(n_jobs=7)]: Using backend ThreadingBackend with 7 concurrent workers.\n",
      "[Parallel(n_jobs=7)]: Done  36 tasks      | elapsed:    0.0s\n",
      "[Parallel(n_jobs=7)]: Done 186 tasks      | elapsed:    0.0s\n",
      "[Parallel(n_jobs=7)]: Done 300 out of 300 | elapsed:    0.0s finished\n",
      "[Parallel(n_jobs=7)]: Using backend ThreadingBackend with 7 concurrent workers.\n",
      "[Parallel(n_jobs=7)]: Done  36 tasks      | elapsed:    0.0s\n",
      "[Parallel(n_jobs=7)]: Done 186 tasks      | elapsed:    0.0s\n",
      "[Parallel(n_jobs=7)]: Done 300 out of 300 | elapsed:    0.0s finished\n",
      "[Parallel(n_jobs=7)]: Using backend ThreadingBackend with 7 concurrent workers.\n",
      "[Parallel(n_jobs=7)]: Done  36 tasks      | elapsed:    0.0s\n"
     ]
    },
    {
     "name": "stdout",
     "output_type": "stream",
     "text": [
      "Model Number: 876 with model LastValueNaive in generation 8 of 10\n",
      "Model Number: 877 with model NVAR in generation 8 of 10\n",
      "Model Number: 878 with model NVAR in generation 8 of 10\n",
      "Model Number: 879 with model UnivariateMotif in generation 8 of 10\n"
     ]
    },
    {
     "name": "stderr",
     "output_type": "stream",
     "text": [
      "[Parallel(n_jobs=7)]: Done 186 tasks      | elapsed:    0.0s\n",
      "[Parallel(n_jobs=7)]: Done 300 out of 300 | elapsed:    0.0s finished\n"
     ]
    },
    {
     "name": "stdout",
     "output_type": "stream",
     "text": [
      "Model Number: 880 with model WindowRegression in generation 8 of 10\n",
      "Template Eval Error: ValueError(\"regression_type='User' but no future_regressor passed\") in model 880: WindowRegression\n",
      "Model Number: 881 with model LastValueNaive in generation 8 of 10\n",
      "Model Number: 882 with model LastValueNaive in generation 8 of 10\n",
      "Model Number: 883 with model NVAR in generation 8 of 10\n",
      "Model Number: 884 with model MultivariateRegression in generation 8 of 10\n"
     ]
    },
    {
     "name": "stderr",
     "output_type": "stream",
     "text": [
      "C:\\Users\\darkp\\anaconda3\\lib\\site-packages\\sklearn\\_loss\\glm_distribution.py:132: RuntimeWarning: divide by zero encountered in true_divide\n",
      "  return -2 * (y - y_pred) / self.unit_variance(y_pred)\n",
      "C:\\Users\\darkp\\anaconda3\\lib\\site-packages\\sklearn\\linear_model\\_glm\\glm.py:42: RuntimeWarning: invalid value encountered in multiply\n",
      "  temp = d1 * family.deviance_derivative(y, y_pred, weights)\n",
      "C:\\Users\\darkp\\anaconda3\\lib\\site-packages\\sklearn\\_loss\\glm_distribution.py:330: RuntimeWarning: divide by zero encountered in power\n",
      "  - y * np.power(y_pred, 1 - p) / (1 - p)\n",
      "C:\\Users\\darkp\\anaconda3\\lib\\site-packages\\sklearn\\_loss\\glm_distribution.py:132: RuntimeWarning: divide by zero encountered in true_divide\n",
      "  return -2 * (y - y_pred) / self.unit_variance(y_pred)\n",
      "C:\\Users\\darkp\\anaconda3\\lib\\site-packages\\sklearn\\linear_model\\_glm\\glm.py:42: RuntimeWarning: invalid value encountered in multiply\n",
      "  temp = d1 * family.deviance_derivative(y, y_pred, weights)\n",
      "C:\\Users\\darkp\\anaconda3\\lib\\site-packages\\sklearn\\_loss\\glm_distribution.py:326: RuntimeWarning: divide by zero encountered in log\n",
      "  dev = 2 * (np.log(y_pred / y) + y / y_pred - 1)\n",
      "C:\\Users\\darkp\\anaconda3\\lib\\site-packages\\sklearn\\_loss\\glm_distribution.py:326: RuntimeWarning: divide by zero encountered in true_divide\n",
      "  dev = 2 * (np.log(y_pred / y) + y / y_pred - 1)\n",
      "C:\\Users\\darkp\\anaconda3\\lib\\site-packages\\sklearn\\_loss\\glm_distribution.py:326: RuntimeWarning: invalid value encountered in add\n",
      "  dev = 2 * (np.log(y_pred / y) + y / y_pred - 1)\n",
      "C:\\Users\\darkp\\anaconda3\\lib\\site-packages\\sklearn\\linear_model\\_glm\\glm.py:323: ConvergenceWarning: lbfgs failed to converge (status=2):\n",
      "ABNORMAL_TERMINATION_IN_LNSRCH.\n",
      "\n",
      "Increase the number of iterations (max_iter) or scale the data as shown in:\n",
      "    https://scikit-learn.org/stable/modules/preprocessing.html\n",
      "  self.n_iter_ = _check_optimize_result(\"lbfgs\", opt_res)\n"
     ]
    },
    {
     "name": "stdout",
     "output_type": "stream",
     "text": [
      "Model Number: 885 with model UnobservedComponents in generation 8 of 10\n"
     ]
    },
    {
     "name": "stderr",
     "output_type": "stream",
     "text": [
      "C:\\Users\\darkp\\anaconda3\\lib\\site-packages\\sklearn\\neural_network\\_multilayer_perceptron.py:549: ConvergenceWarning: lbfgs failed to converge (status=1):\n",
      "STOP: TOTAL NO. of ITERATIONS REACHED LIMIT.\n",
      "\n",
      "Increase the number of iterations (max_iter) or scale the data as shown in:\n",
      "    https://scikit-learn.org/stable/modules/preprocessing.html\n",
      "  self.n_iter_ = _check_optimize_result(\"lbfgs\", opt_res, self.max_iter)\n"
     ]
    },
    {
     "name": "stdout",
     "output_type": "stream",
     "text": [
      "Model Number: 886 with model WindowRegression in generation 8 of 10\n",
      "Model Number: 887 with model MultivariateMotif in generation 8 of 10\n",
      "Model Number: 888 with model GLM in generation 8 of 10\n",
      "Model Number: 889 with model SectionalMotif in generation 8 of 10\n"
     ]
    },
    {
     "name": "stderr",
     "output_type": "stream",
     "text": [
      "C:\\Users\\darkp\\anaconda3\\lib\\site-packages\\sklearn\\utils\\validation.py:993: DataConversionWarning: A column-vector y was passed when a 1d array was expected. Please change the shape of y to (n_samples, ), for example using ravel().\n",
      "  y = column_or_1d(y, warn=True)\n"
     ]
    },
    {
     "name": "stdout",
     "output_type": "stream",
     "text": [
      "Model Number: 890 with model Theta in generation 8 of 10\n",
      "Model Number: 891 with model AverageValueNaive in generation 8 of 10\n",
      "Model Number: 892 with model LastValueNaive in generation 8 of 10\n",
      "Model Number: 893 with model UnivariateRegression in generation 8 of 10\n",
      "Model Number: 894 with model GLS in generation 8 of 10\n",
      "Model Number: 895 with model UnivariateMotif in generation 8 of 10\n",
      "Template Eval Error: Exception('Transformer Cointegration failed on fit') in model 895: UnivariateMotif\n",
      "Model Number: 896 with model GLS in generation 8 of 10\n",
      "Model Number: 897 with model DatepartRegression in generation 8 of 10\n",
      "Model Number: 898 with model MultivariateMotif in generation 8 of 10\n",
      "Model Number: 899 with model MultivariateMotif in generation 8 of 10\n",
      "Model Number: 900 with model UnivariateMotif in generation 8 of 10\n",
      "Model Number: 901 with model ConstantNaive in generation 8 of 10\n",
      "Model Number: 902 with model UnobservedComponents in generation 8 of 10\n",
      "Template Eval Error: Exception('Transformer Detrend failed on fit') in model 902: UnobservedComponents\n",
      "Model Number: 903 with model GLS in generation 8 of 10\n",
      "Model Number: 904 with model UnobservedComponents in generation 8 of 10\n",
      "Model Number: 905 with model UnivariateRegression in generation 8 of 10\n",
      "Model Number: 906 with model SeasonalNaive in generation 8 of 10\n",
      "Model Number: 907 with model Theta in generation 8 of 10\n",
      "Model Number: 908 with model SeasonalNaive in generation 8 of 10\n"
     ]
    },
    {
     "name": "stderr",
     "output_type": "stream",
     "text": [
      "C:\\Users\\darkp\\anaconda3\\lib\\site-packages\\sklearn\\_loss\\glm_distribution.py:132: RuntimeWarning: divide by zero encountered in true_divide\n",
      "  return -2 * (y - y_pred) / self.unit_variance(y_pred)\n",
      "C:\\Users\\darkp\\anaconda3\\lib\\site-packages\\sklearn\\linear_model\\_glm\\glm.py:42: RuntimeWarning: invalid value encountered in multiply\n",
      "  temp = d1 * family.deviance_derivative(y, y_pred, weights)\n",
      "C:\\Users\\darkp\\anaconda3\\lib\\site-packages\\sklearn\\_loss\\glm_distribution.py:330: RuntimeWarning: divide by zero encountered in power\n",
      "  - y * np.power(y_pred, 1 - p) / (1 - p)\n",
      "C:\\Users\\darkp\\anaconda3\\lib\\site-packages\\sklearn\\linear_model\\_glm\\link.py:90: RuntimeWarning: overflow encountered in exp\n",
      "  return np.exp(lin_pred)\n",
      "C:\\Users\\darkp\\anaconda3\\lib\\site-packages\\sklearn\\linear_model\\_glm\\link.py:93: RuntimeWarning: overflow encountered in exp\n",
      "  return np.exp(lin_pred)\n",
      "C:\\Users\\darkp\\anaconda3\\lib\\site-packages\\sklearn\\_loss\\glm_distribution.py:132: RuntimeWarning: invalid value encountered in true_divide\n",
      "  return -2 * (y - y_pred) / self.unit_variance(y_pred)\n",
      "C:\\Users\\darkp\\anaconda3\\lib\\site-packages\\sklearn\\_loss\\glm_distribution.py:323: RuntimeWarning: invalid value encountered in add\n",
      "  dev = 2 * (xlogy(y, y / y_pred) - y + y_pred)\n",
      "C:\\Users\\darkp\\anaconda3\\lib\\site-packages\\sklearn\\linear_model\\_glm\\glm.py:323: ConvergenceWarning: lbfgs failed to converge (status=2):\n",
      "ABNORMAL_TERMINATION_IN_LNSRCH.\n",
      "\n",
      "Increase the number of iterations (max_iter) or scale the data as shown in:\n",
      "    https://scikit-learn.org/stable/modules/preprocessing.html\n",
      "  self.n_iter_ = _check_optimize_result(\"lbfgs\", opt_res)\n"
     ]
    },
    {
     "name": "stdout",
     "output_type": "stream",
     "text": [
      "Model Number: 909 with model GLS in generation 8 of 10\n",
      "Model Number: 910 with model SeasonalNaive in generation 8 of 10\n",
      "Model Number: 911 with model AverageValueNaive in generation 8 of 10\n",
      "Model Number: 912 with model ETS in generation 8 of 10\n",
      "ETS error ValueError('Can only dampen the trend component')\n",
      "ETS failed on Close with ValueError('Can only dampen the trend component')\n",
      "Model Number: 913 with model WindowRegression in generation 8 of 10\n",
      "Template Eval Error: ImportError('Tensorflow not available, install with pip install tensorflow.') in model 913: WindowRegression\n",
      "Model Number: 914 with model MultivariateRegression in generation 8 of 10\n"
     ]
    },
    {
     "name": "stderr",
     "output_type": "stream",
     "text": [
      "C:\\Users\\darkp\\anaconda3\\lib\\site-packages\\sklearn\\_loss\\glm_distribution.py:132: RuntimeWarning: divide by zero encountered in true_divide\n",
      "  return -2 * (y - y_pred) / self.unit_variance(y_pred)\n",
      "C:\\Users\\darkp\\anaconda3\\lib\\site-packages\\sklearn\\linear_model\\_glm\\glm.py:42: RuntimeWarning: invalid value encountered in multiply\n",
      "  temp = d1 * family.deviance_derivative(y, y_pred, weights)\n",
      "C:\\Users\\darkp\\anaconda3\\lib\\site-packages\\sklearn\\_loss\\glm_distribution.py:323: RuntimeWarning: divide by zero encountered in true_divide\n",
      "  dev = 2 * (xlogy(y, y / y_pred) - y + y_pred)\n",
      "C:\\Users\\darkp\\anaconda3\\lib\\site-packages\\sklearn\\_loss\\glm_distribution.py:132: RuntimeWarning: divide by zero encountered in true_divide\n",
      "  return -2 * (y - y_pred) / self.unit_variance(y_pred)\n",
      "C:\\Users\\darkp\\anaconda3\\lib\\site-packages\\sklearn\\linear_model\\_glm\\glm.py:42: RuntimeWarning: invalid value encountered in multiply\n",
      "  temp = d1 * family.deviance_derivative(y, y_pred, weights)\n",
      "C:\\Users\\darkp\\anaconda3\\lib\\site-packages\\sklearn\\_loss\\glm_distribution.py:326: RuntimeWarning: divide by zero encountered in log\n",
      "  dev = 2 * (np.log(y_pred / y) + y / y_pred - 1)\n",
      "C:\\Users\\darkp\\anaconda3\\lib\\site-packages\\sklearn\\_loss\\glm_distribution.py:326: RuntimeWarning: divide by zero encountered in true_divide\n",
      "  dev = 2 * (np.log(y_pred / y) + y / y_pred - 1)\n",
      "C:\\Users\\darkp\\anaconda3\\lib\\site-packages\\sklearn\\_loss\\glm_distribution.py:326: RuntimeWarning: invalid value encountered in add\n",
      "  dev = 2 * (np.log(y_pred / y) + y / y_pred - 1)\n",
      "C:\\Users\\darkp\\anaconda3\\lib\\site-packages\\sklearn\\linear_model\\_glm\\glm.py:323: ConvergenceWarning: lbfgs failed to converge (status=2):\n",
      "ABNORMAL_TERMINATION_IN_LNSRCH.\n",
      "\n",
      "Increase the number of iterations (max_iter) or scale the data as shown in:\n",
      "    https://scikit-learn.org/stable/modules/preprocessing.html\n",
      "  self.n_iter_ = _check_optimize_result(\"lbfgs\", opt_res)\n",
      "C:\\Users\\darkp\\anaconda3\\lib\\site-packages\\sklearn\\_loss\\glm_distribution.py:132: RuntimeWarning: divide by zero encountered in true_divide\n",
      "  return -2 * (y - y_pred) / self.unit_variance(y_pred)\n",
      "C:\\Users\\darkp\\anaconda3\\lib\\site-packages\\sklearn\\linear_model\\_glm\\glm.py:42: RuntimeWarning: invalid value encountered in multiply\n",
      "  temp = d1 * family.deviance_derivative(y, y_pred, weights)\n",
      "C:\\Users\\darkp\\anaconda3\\lib\\site-packages\\sklearn\\_loss\\glm_distribution.py:330: RuntimeWarning: divide by zero encountered in power\n",
      "  - y * np.power(y_pred, 1 - p) / (1 - p)\n"
     ]
    },
    {
     "name": "stdout",
     "output_type": "stream",
     "text": [
      "Model Number: 915 with model SectionalMotif in generation 8 of 10\n",
      "Model Number: 916 with model UnobservedComponents in generation 8 of 10\n",
      "Template Eval Error: ValueError(\"regression_type='User' but no future_regressor supplied\") in model 916: UnobservedComponents\n",
      "Model Number: 917 with model UnivariateRegression in generation 8 of 10\n",
      "Template Eval Error: Exception('Transformer Cointegration failed on fit') in model 917: UnivariateRegression\n",
      "Model Number: 918 with model NVAR in generation 8 of 10\n",
      "Model Number: 919 with model ETS in generation 8 of 10\n",
      "Model Number: 920 with model Theta in generation 8 of 10\n",
      "Model Number: 921 with model NVAR in generation 8 of 10\n",
      "Model Number: 922 with model ETS in generation 8 of 10\n",
      "Model Number: 923 with model ConstantNaive in generation 8 of 10\n",
      "Model Number: 924 with model MultivariateRegression in generation 8 of 10\n"
     ]
    },
    {
     "name": "stderr",
     "output_type": "stream",
     "text": [
      "C:\\Users\\darkp\\anaconda3\\lib\\site-packages\\sklearn\\_loss\\glm_distribution.py:132: RuntimeWarning: divide by zero encountered in true_divide\n",
      "  return -2 * (y - y_pred) / self.unit_variance(y_pred)\n",
      "C:\\Users\\darkp\\anaconda3\\lib\\site-packages\\sklearn\\linear_model\\_glm\\glm.py:42: RuntimeWarning: invalid value encountered in multiply\n",
      "  temp = d1 * family.deviance_derivative(y, y_pred, weights)\n",
      "C:\\Users\\darkp\\anaconda3\\lib\\site-packages\\sklearn\\_loss\\glm_distribution.py:326: RuntimeWarning: divide by zero encountered in log\n",
      "  dev = 2 * (np.log(y_pred / y) + y / y_pred - 1)\n",
      "C:\\Users\\darkp\\anaconda3\\lib\\site-packages\\sklearn\\_loss\\glm_distribution.py:326: RuntimeWarning: divide by zero encountered in true_divide\n",
      "  dev = 2 * (np.log(y_pred / y) + y / y_pred - 1)\n",
      "C:\\Users\\darkp\\anaconda3\\lib\\site-packages\\sklearn\\_loss\\glm_distribution.py:326: RuntimeWarning: invalid value encountered in add\n",
      "  dev = 2 * (np.log(y_pred / y) + y / y_pred - 1)\n",
      "C:\\Users\\darkp\\anaconda3\\lib\\site-packages\\sklearn\\linear_model\\_glm\\glm.py:323: ConvergenceWarning: lbfgs failed to converge (status=2):\n",
      "ABNORMAL_TERMINATION_IN_LNSRCH.\n",
      "\n",
      "Increase the number of iterations (max_iter) or scale the data as shown in:\n",
      "    https://scikit-learn.org/stable/modules/preprocessing.html\n",
      "  self.n_iter_ = _check_optimize_result(\"lbfgs\", opt_res)\n",
      "[Parallel(n_jobs=-2)]: Using backend ThreadingBackend with 7 concurrent workers.\n",
      "[Parallel(n_jobs=-2)]: Done  36 tasks      | elapsed:    0.0s\n",
      "[Parallel(n_jobs=-2)]: Done 186 tasks      | elapsed:    0.1s\n",
      "[Parallel(n_jobs=-2)]: Done 300 out of 300 | elapsed:    0.2s finished\n",
      "[Parallel(n_jobs=7)]: Using backend ThreadingBackend with 7 concurrent workers.\n",
      "[Parallel(n_jobs=7)]: Done  36 tasks      | elapsed:    0.0s\n",
      "[Parallel(n_jobs=7)]: Done 186 tasks      | elapsed:    0.0s\n",
      "[Parallel(n_jobs=7)]: Done 300 out of 300 | elapsed:    0.0s finished\n",
      "[Parallel(n_jobs=7)]: Using backend ThreadingBackend with 7 concurrent workers.\n",
      "[Parallel(n_jobs=7)]: Done  36 tasks      | elapsed:    0.0s\n",
      "[Parallel(n_jobs=7)]: Done 186 tasks      | elapsed:    0.0s\n",
      "[Parallel(n_jobs=7)]: Done 300 out of 300 | elapsed:    0.0s finished\n",
      "[Parallel(n_jobs=7)]: Using backend ThreadingBackend with 7 concurrent workers.\n",
      "[Parallel(n_jobs=7)]: Done  36 tasks      | elapsed:    0.0s\n",
      "[Parallel(n_jobs=7)]: Done 186 tasks      | elapsed:    0.0s\n",
      "[Parallel(n_jobs=7)]: Done 300 out of 300 | elapsed:    0.0s finished\n",
      "[Parallel(n_jobs=7)]: Using backend ThreadingBackend with 7 concurrent workers.\n",
      "[Parallel(n_jobs=7)]: Done  36 tasks      | elapsed:    0.0s\n",
      "[Parallel(n_jobs=7)]: Done 186 tasks      | elapsed:    0.0s\n",
      "[Parallel(n_jobs=7)]: Done 300 out of 300 | elapsed:    0.0s finished\n"
     ]
    },
    {
     "name": "stdout",
     "output_type": "stream",
     "text": [
      "Model Number: 925 with model AverageValueNaive in generation 8 of 10\n",
      "Model Number: 926 with model NVAR in generation 8 of 10\n"
     ]
    },
    {
     "name": "stderr",
     "output_type": "stream",
     "text": [
      "[Parallel(n_jobs=7)]: Using backend ThreadingBackend with 7 concurrent workers.\n",
      "[Parallel(n_jobs=7)]: Done  36 tasks      | elapsed:    0.0s\n",
      "[Parallel(n_jobs=7)]: Done 186 tasks      | elapsed:    0.0s\n",
      "[Parallel(n_jobs=7)]: Done 300 out of 300 | elapsed:    0.0s finished\n"
     ]
    },
    {
     "name": "stdout",
     "output_type": "stream",
     "text": [
      "Model Number: 927 with model ConstantNaive in generation 8 of 10\n",
      "Model Number: 928 with model Theta in generation 8 of 10\n",
      "Model Number: 929 with model Theta in generation 8 of 10\n",
      "Model Number: 930 with model GLS in generation 8 of 10\n",
      "Model Number: 931 with model GLS in generation 8 of 10\n",
      "Model Number: 932 with model UnobservedComponents in generation 8 of 10\n",
      "Model Number: 933 with model Theta in generation 8 of 10\n",
      "Model Number: 934 with model UnivariateMotif in generation 8 of 10\n",
      "Model Number: 935 with model SeasonalNaive in generation 8 of 10\n",
      "Model Number: 936 with model UnivariateMotif in generation 8 of 10\n",
      "Model Number: 937 with model MultivariateMotif in generation 8 of 10\n",
      "Model Number: 938 with model NVAR in generation 8 of 10\n",
      "Model Number: 939 with model GLS in generation 8 of 10\n",
      "Model Number: 940 with model SectionalMotif in generation 8 of 10\n",
      "Model Number: 941 with model NVAR in generation 8 of 10\n",
      "Model Number: 942 with model ETS in generation 8 of 10\n",
      "Model Number: 943 with model MultivariateMotif in generation 8 of 10\n",
      "Model Number: 944 with model Theta in generation 8 of 10\n",
      "Model Number: 945 with model AverageValueNaive in generation 8 of 10\n",
      "Model Number: 946 with model MultivariateMotif in generation 8 of 10\n",
      "Model Number: 947 with model AverageValueNaive in generation 8 of 10\n",
      "Model Number: 948 with model AverageValueNaive in generation 8 of 10\n",
      "Model Number: 949 with model LastValueNaive in generation 8 of 10\n",
      "Template Eval Error: Exception('Transformer BTCD failed on fit') in model 949: LastValueNaive\n"
     ]
    },
    {
     "name": "stderr",
     "output_type": "stream",
     "text": [
      "C:\\Users\\darkp\\anaconda3\\lib\\site-packages\\sklearn\\_loss\\glm_distribution.py:132: RuntimeWarning: divide by zero encountered in true_divide\n",
      "  return -2 * (y - y_pred) / self.unit_variance(y_pred)\n",
      "C:\\Users\\darkp\\anaconda3\\lib\\site-packages\\sklearn\\linear_model\\_glm\\glm.py:42: RuntimeWarning: invalid value encountered in multiply\n",
      "  temp = d1 * family.deviance_derivative(y, y_pred, weights)\n",
      "C:\\Users\\darkp\\anaconda3\\lib\\site-packages\\sklearn\\_loss\\glm_distribution.py:326: RuntimeWarning: divide by zero encountered in log\n",
      "  dev = 2 * (np.log(y_pred / y) + y / y_pred - 1)\n",
      "C:\\Users\\darkp\\anaconda3\\lib\\site-packages\\sklearn\\_loss\\glm_distribution.py:326: RuntimeWarning: divide by zero encountered in true_divide\n",
      "  dev = 2 * (np.log(y_pred / y) + y / y_pred - 1)\n",
      "C:\\Users\\darkp\\anaconda3\\lib\\site-packages\\sklearn\\_loss\\glm_distribution.py:326: RuntimeWarning: invalid value encountered in add\n",
      "  dev = 2 * (np.log(y_pred / y) + y / y_pred - 1)\n",
      "C:\\Users\\darkp\\anaconda3\\lib\\site-packages\\sklearn\\linear_model\\_glm\\glm.py:323: ConvergenceWarning: lbfgs failed to converge (status=2):\n",
      "ABNORMAL_TERMINATION_IN_LNSRCH.\n",
      "\n",
      "Increase the number of iterations (max_iter) or scale the data as shown in:\n",
      "    https://scikit-learn.org/stable/modules/preprocessing.html\n",
      "  self.n_iter_ = _check_optimize_result(\"lbfgs\", opt_res)\n"
     ]
    },
    {
     "name": "stdout",
     "output_type": "stream",
     "text": [
      "Model Number: 950 with model LastValueNaive in generation 8 of 10\n",
      "Model Number: 951 with model Theta in generation 8 of 10\n",
      "Model Number: 952 with model GLS in generation 8 of 10\n",
      "Template Eval Error: Exception('Transformer BTCD failed on fit') in model 952: GLS\n",
      "Model Number: 953 with model GLS in generation 8 of 10\n",
      "Model Number: 954 with model ETS in generation 8 of 10\n",
      "Model Number: 955 with model UnobservedComponents in generation 8 of 10\n"
     ]
    },
    {
     "name": "stderr",
     "output_type": "stream",
     "text": [
      "C:\\Users\\darkp\\anaconda3\\lib\\site-packages\\sklearn\\_loss\\glm_distribution.py:132: RuntimeWarning: divide by zero encountered in true_divide\n",
      "  return -2 * (y - y_pred) / self.unit_variance(y_pred)\n",
      "C:\\Users\\darkp\\anaconda3\\lib\\site-packages\\sklearn\\linear_model\\_glm\\glm.py:42: RuntimeWarning: invalid value encountered in multiply\n",
      "  temp = d1 * family.deviance_derivative(y, y_pred, weights)\n",
      "C:\\Users\\darkp\\anaconda3\\lib\\site-packages\\sklearn\\_loss\\glm_distribution.py:330: RuntimeWarning: divide by zero encountered in power\n",
      "  - y * np.power(y_pred, 1 - p) / (1 - p)\n",
      "C:\\Users\\darkp\\anaconda3\\lib\\site-packages\\sklearn\\_loss\\glm_distribution.py:132: RuntimeWarning: divide by zero encountered in true_divide\n",
      "  return -2 * (y - y_pred) / self.unit_variance(y_pred)\n",
      "C:\\Users\\darkp\\anaconda3\\lib\\site-packages\\sklearn\\linear_model\\_glm\\glm.py:42: RuntimeWarning: invalid value encountered in multiply\n",
      "  temp = d1 * family.deviance_derivative(y, y_pred, weights)\n",
      "C:\\Users\\darkp\\anaconda3\\lib\\site-packages\\sklearn\\_loss\\glm_distribution.py:323: RuntimeWarning: divide by zero encountered in true_divide\n",
      "  dev = 2 * (xlogy(y, y / y_pred) - y + y_pred)\n"
     ]
    },
    {
     "name": "stdout",
     "output_type": "stream",
     "text": [
      "Model Number: 956 with model UnivariateMotif in generation 8 of 10\n",
      "Model Number: 957 with model SectionalMotif in generation 8 of 10\n",
      "Model Number: 958 with model MultivariateMotif in generation 8 of 10\n",
      "Model Number: 959 with model Theta in generation 8 of 10\n",
      "Model Number: 960 with model LastValueNaive in generation 8 of 10\n",
      "Model Number: 961 with model Theta in generation 8 of 10\n",
      "New Generation: 9 of 10\n",
      "Model Number: 962 with model MultivariateMotif in generation 9 of 10\n",
      "Template Eval Error: ValueError('Model MultivariateMotif returned NaN for one or more series. fail_on_forecast_nan=True') in model 962: MultivariateMotif\n",
      "Model Number: 963 with model MultivariateMotif in generation 9 of 10\n",
      "Model Number: 964 with model NVAR in generation 9 of 10\n",
      "Model Number: 965 with model GLM in generation 9 of 10\n"
     ]
    },
    {
     "name": "stderr",
     "output_type": "stream",
     "text": [
      "C:\\Users\\darkp\\anaconda3\\lib\\site-packages\\sklearn\\linear_model\\_glm\\link.py:90: RuntimeWarning: overflow encountered in exp\n",
      "  return np.exp(lin_pred)\n",
      "C:\\Users\\darkp\\anaconda3\\lib\\site-packages\\sklearn\\linear_model\\_glm\\link.py:93: RuntimeWarning: overflow encountered in exp\n",
      "  return np.exp(lin_pred)\n",
      "C:\\Users\\darkp\\anaconda3\\lib\\site-packages\\sklearn\\_loss\\glm_distribution.py:132: RuntimeWarning: invalid value encountered in true_divide\n",
      "  return -2 * (y - y_pred) / self.unit_variance(y_pred)\n",
      "C:\\Users\\darkp\\anaconda3\\lib\\site-packages\\sklearn\\utils\\validation.py:1688: FutureWarning: Feature names only support names that are all strings. Got feature names with dtypes: ['Timestamp', 'str']. An error will be raised in 1.2.\n",
      "  warnings.warn(\n",
      "C:\\Users\\darkp\\anaconda3\\lib\\site-packages\\sklearn\\base.py:450: UserWarning: X does not have valid feature names, but QuantileTransformer was fitted with feature names\n",
      "  warnings.warn(\n"
     ]
    },
    {
     "name": "stdout",
     "output_type": "stream",
     "text": [
      "Template Eval Error: Exception('Transformer QuantileTransformer failed on inverse') in model 965: GLM\n",
      "Model Number: 966 with model MultivariateRegression in generation 9 of 10\n",
      "Model Number: 967 with model SectionalMotif in generation 9 of 10\n",
      "Model Number: 968 with model GLS in generation 9 of 10\n",
      "Model Number: 969 with model MultivariateMotif in generation 9 of 10\n",
      "Model Number: 970 with model UnivariateMotif in generation 9 of 10\n",
      "Model Number: 971 with model LastValueNaive in generation 9 of 10\n",
      "Model Number: 972 with model SeasonalNaive in generation 9 of 10\n",
      "Model Number: 973 with model LastValueNaive in generation 9 of 10\n",
      "Model Number: 974 with model UnivariateMotif in generation 9 of 10\n",
      "Model Number: 975 with model LastValueNaive in generation 9 of 10\n",
      "Model Number: 976 with model SectionalMotif in generation 9 of 10\n",
      "Model Number: 977 with model DatepartRegression in generation 9 of 10\n"
     ]
    },
    {
     "name": "stderr",
     "output_type": "stream",
     "text": [
      "C:\\Users\\darkp\\anaconda3\\lib\\site-packages\\scipy\\interpolate\\polyint.py:545: RuntimeWarning: overflow encountered in multiply\n",
      "  self.wi[:j] *= (self.xi[j]-self.xi[:j])\n",
      "C:\\Users\\darkp\\anaconda3\\lib\\site-packages\\scipy\\interpolate\\polyint.py:546: RuntimeWarning: overflow encountered in reduce\n",
      "  self.wi[j] = np.multiply.reduce(self.xi[:j]-self.xi[j])\n",
      "C:\\Users\\darkp\\anaconda3\\lib\\site-packages\\scipy\\interpolate\\polyint.py:643: RuntimeWarning: invalid value encountered in true_divide\n",
      "  p = np.dot(c,self.yi)/np.sum(c,axis=-1)[...,np.newaxis]\n"
     ]
    },
    {
     "name": "stdout",
     "output_type": "stream",
     "text": [
      "Model Number: 978 with model MultivariateRegression in generation 9 of 10\n",
      "Model Number: 979 with model LastValueNaive in generation 9 of 10\n",
      "Model Number: 980 with model WindowRegression in generation 9 of 10\n",
      "Template Eval Error: ModuleNotFoundError(\"No module named 'lightgbm'\") in model 980: WindowRegression\n",
      "Model Number: 981 with model UnivariateMotif in generation 9 of 10\n",
      "Model Number: 982 with model UnivariateMotif in generation 9 of 10\n",
      "Model Number: 983 with model Theta in generation 9 of 10\n"
     ]
    },
    {
     "name": "stderr",
     "output_type": "stream",
     "text": [
      "C:\\Users\\darkp\\anaconda3\\lib\\site-packages\\sklearn\\linear_model\\_glm\\link.py:90: RuntimeWarning: overflow encountered in exp\n",
      "  return np.exp(lin_pred)\n",
      "C:\\Users\\darkp\\anaconda3\\lib\\site-packages\\sklearn\\linear_model\\_glm\\link.py:93: RuntimeWarning: overflow encountered in exp\n",
      "  return np.exp(lin_pred)\n",
      "C:\\Users\\darkp\\anaconda3\\lib\\site-packages\\sklearn\\_loss\\glm_distribution.py:132: RuntimeWarning: invalid value encountered in true_divide\n",
      "  return -2 * (y - y_pred) / self.unit_variance(y_pred)\n"
     ]
    },
    {
     "name": "stdout",
     "output_type": "stream",
     "text": [
      "Model Number: 984 with model UnivariateMotif in generation 9 of 10\n",
      "Model Number: 985 with model Theta in generation 9 of 10\n",
      "Model Number: 986 with model MultivariateMotif in generation 9 of 10\n",
      "Model Number: 987 with model UnivariateMotif in generation 9 of 10\n",
      "Model Number: 988 with model GLS in generation 9 of 10\n",
      "Model Number: 989 with model AverageValueNaive in generation 9 of 10\n",
      "Model Number: 990 with model ETS in generation 9 of 10\n",
      "ETS error ValueError('endog must be strictly positive when usingmultiplicative trend or seasonal components.')\n",
      "ETS failed on Close with ValueError('endog must be strictly positive when usingmultiplicative trend or seasonal components.')\n",
      "Model Number: 991 with model Theta in generation 9 of 10\n",
      "Model Number: 992 with model SeasonalNaive in generation 9 of 10\n",
      "Model Number: 993 with model UnobservedComponents in generation 9 of 10\n",
      "Template Eval Error: ValueError(\"regression_type='User' but no future_regressor supplied\") in model 993: UnobservedComponents\n",
      "Model Number: 994 with model ETS in generation 9 of 10\n",
      "ETS error ValueError('endog must be strictly positive when usingmultiplicative trend or seasonal components.')\n",
      "ETS failed on Close with ValueError('endog must be strictly positive when usingmultiplicative trend or seasonal components.')\n",
      "Model Number: 995 with model SeasonalNaive in generation 9 of 10\n",
      "Model Number: 996 with model AverageValueNaive in generation 9 of 10\n",
      "Model Number: 997 with model ETS in generation 9 of 10\n",
      "ETS error ValueError('endog must be strictly positive when usingmultiplicative trend or seasonal components.')\n",
      "ETS failed on Close with ValueError('endog must be strictly positive when usingmultiplicative trend or seasonal components.')\n",
      "Model Number: 998 with model GLS in generation 9 of 10\n"
     ]
    },
    {
     "name": "stderr",
     "output_type": "stream",
     "text": [
      "C:\\Users\\darkp\\anaconda3\\lib\\site-packages\\sklearn\\_loss\\glm_distribution.py:132: RuntimeWarning: divide by zero encountered in true_divide\n",
      "  return -2 * (y - y_pred) / self.unit_variance(y_pred)\n",
      "C:\\Users\\darkp\\anaconda3\\lib\\site-packages\\sklearn\\linear_model\\_glm\\glm.py:42: RuntimeWarning: invalid value encountered in multiply\n",
      "  temp = d1 * family.deviance_derivative(y, y_pred, weights)\n",
      "C:\\Users\\darkp\\anaconda3\\lib\\site-packages\\sklearn\\_loss\\glm_distribution.py:323: RuntimeWarning: divide by zero encountered in true_divide\n",
      "  dev = 2 * (xlogy(y, y / y_pred) - y + y_pred)\n",
      "C:\\Users\\darkp\\anaconda3\\lib\\site-packages\\sklearn\\linear_model\\_glm\\link.py:90: RuntimeWarning: overflow encountered in exp\n",
      "  return np.exp(lin_pred)\n",
      "C:\\Users\\darkp\\anaconda3\\lib\\site-packages\\sklearn\\linear_model\\_glm\\link.py:93: RuntimeWarning: overflow encountered in exp\n",
      "  return np.exp(lin_pred)\n",
      "C:\\Users\\darkp\\anaconda3\\lib\\site-packages\\sklearn\\_loss\\glm_distribution.py:132: RuntimeWarning: invalid value encountered in true_divide\n",
      "  return -2 * (y - y_pred) / self.unit_variance(y_pred)\n"
     ]
    },
    {
     "name": "stdout",
     "output_type": "stream",
     "text": [
      "Model Number: 999 with model LastValueNaive in generation 9 of 10\n",
      "Model Number: 1000 with model DatepartRegression in generation 9 of 10\n",
      "Model Number: 1001 with model MultivariateRegression in generation 9 of 10\n"
     ]
    },
    {
     "name": "stderr",
     "output_type": "stream",
     "text": [
      "C:\\Users\\darkp\\anaconda3\\lib\\site-packages\\sklearn\\neural_network\\_multilayer_perceptron.py:549: ConvergenceWarning: lbfgs failed to converge (status=1):\n",
      "STOP: TOTAL NO. of ITERATIONS REACHED LIMIT.\n",
      "\n",
      "Increase the number of iterations (max_iter) or scale the data as shown in:\n",
      "    https://scikit-learn.org/stable/modules/preprocessing.html\n",
      "  self.n_iter_ = _check_optimize_result(\"lbfgs\", opt_res, self.max_iter)\n"
     ]
    },
    {
     "name": "stdout",
     "output_type": "stream",
     "text": [
      "Model Number: 1002 with model WindowRegression in generation 9 of 10\n",
      "Model Number: 1003 with model ConstantNaive in generation 9 of 10\n",
      "Template Eval Error: Exception('Transformer Cointegration failed on fit') in model 1003: ConstantNaive\n",
      "Model Number: 1004 with model UnobservedComponents in generation 9 of 10\n",
      "Model Number: 1005 with model SeasonalNaive in generation 9 of 10\n",
      "Model Number: 1006 with model LastValueNaive in generation 9 of 10\n",
      "Model Number: 1007 with model SeasonalNaive in generation 9 of 10\n",
      "Model Number: 1008 with model AverageValueNaive in generation 9 of 10\n",
      "Model Number: 1009 with model AverageValueNaive in generation 9 of 10\n",
      "Model Number: 1010 with model UnobservedComponents in generation 9 of 10\n",
      "Template Eval Error: ValueError('Model UnobservedComponents returned NaN for one or more series. fail_on_forecast_nan=True') in model 1010: UnobservedComponents\n",
      "Model Number: 1011 with model ETS in generation 9 of 10\n",
      "Model Number: 1012 with model GLM in generation 9 of 10\n",
      "Model Number: 1013 with model UnobservedComponents in generation 9 of 10\n",
      "Template Eval Error: ValueError(\"regression_type='User' but no future_regressor supplied\") in model 1013: UnobservedComponents\n",
      "Model Number: 1014 with model GLS in generation 9 of 10\n",
      "Model Number: 1015 with model LastValueNaive in generation 9 of 10\n",
      "Model Number: 1016 with model WindowRegression in generation 9 of 10\n",
      "Model Number: 1017 with model UnobservedComponents in generation 9 of 10\n",
      "Model Number: 1018 with model AverageValueNaive in generation 9 of 10\n",
      "Model Number: 1019 with model Theta in generation 9 of 10\n",
      "Model Number: 1020 with model ConstantNaive in generation 9 of 10\n",
      "Model Number: 1021 with model UnivariateRegression in generation 9 of 10\n",
      "Template Eval Error: ValueError(\"regression_type='User' but not future_regressor supplied.\") in model 1021: UnivariateRegression\n",
      "Model Number: 1022 with model MultivariateMotif in generation 9 of 10\n",
      "Model Number: 1023 with model ETS in generation 9 of 10\n",
      "Model Number: 1024 with model NVAR in generation 9 of 10\n",
      "Model Number: 1025 with model UnivariateRegression in generation 9 of 10\n",
      "Model Number: 1026 with model GLS in generation 9 of 10\n"
     ]
    },
    {
     "name": "stderr",
     "output_type": "stream",
     "text": [
      "C:\\Users\\darkp\\anaconda3\\lib\\site-packages\\sklearn\\_loss\\glm_distribution.py:132: RuntimeWarning: divide by zero encountered in true_divide\n",
      "  return -2 * (y - y_pred) / self.unit_variance(y_pred)\n",
      "C:\\Users\\darkp\\anaconda3\\lib\\site-packages\\sklearn\\linear_model\\_glm\\glm.py:42: RuntimeWarning: invalid value encountered in multiply\n",
      "  temp = d1 * family.deviance_derivative(y, y_pred, weights)\n",
      "C:\\Users\\darkp\\anaconda3\\lib\\site-packages\\sklearn\\_loss\\glm_distribution.py:326: RuntimeWarning: divide by zero encountered in log\n",
      "  dev = 2 * (np.log(y_pred / y) + y / y_pred - 1)\n",
      "C:\\Users\\darkp\\anaconda3\\lib\\site-packages\\sklearn\\_loss\\glm_distribution.py:326: RuntimeWarning: divide by zero encountered in true_divide\n",
      "  dev = 2 * (np.log(y_pred / y) + y / y_pred - 1)\n",
      "C:\\Users\\darkp\\anaconda3\\lib\\site-packages\\sklearn\\_loss\\glm_distribution.py:326: RuntimeWarning: invalid value encountered in add\n",
      "  dev = 2 * (np.log(y_pred / y) + y / y_pred - 1)\n",
      "C:\\Users\\darkp\\anaconda3\\lib\\site-packages\\sklearn\\linear_model\\_glm\\glm.py:323: ConvergenceWarning: lbfgs failed to converge (status=2):\n",
      "ABNORMAL_TERMINATION_IN_LNSRCH.\n",
      "\n",
      "Increase the number of iterations (max_iter) or scale the data as shown in:\n",
      "    https://scikit-learn.org/stable/modules/preprocessing.html\n",
      "  self.n_iter_ = _check_optimize_result(\"lbfgs\", opt_res)\n"
     ]
    },
    {
     "name": "stdout",
     "output_type": "stream",
     "text": [
      "Model Number: 1027 with model GLS in generation 9 of 10\n",
      "Model Number: 1028 with model NVAR in generation 9 of 10\n",
      "Model Number: 1029 with model Theta in generation 9 of 10\n",
      "Model Number: 1030 with model UnobservedComponents in generation 9 of 10\n",
      "Model Number: 1031 with model ETS in generation 9 of 10\n",
      "Model Number: 1032 with model Theta in generation 9 of 10\n"
     ]
    },
    {
     "name": "stderr",
     "output_type": "stream",
     "text": [
      "C:\\Users\\darkp\\anaconda3\\lib\\site-packages\\sklearn\\_loss\\glm_distribution.py:132: RuntimeWarning: divide by zero encountered in true_divide\n",
      "  return -2 * (y - y_pred) / self.unit_variance(y_pred)\n",
      "C:\\Users\\darkp\\anaconda3\\lib\\site-packages\\sklearn\\linear_model\\_glm\\glm.py:42: RuntimeWarning: invalid value encountered in multiply\n",
      "  temp = d1 * family.deviance_derivative(y, y_pred, weights)\n",
      "C:\\Users\\darkp\\anaconda3\\lib\\site-packages\\sklearn\\_loss\\glm_distribution.py:326: RuntimeWarning: divide by zero encountered in log\n",
      "  dev = 2 * (np.log(y_pred / y) + y / y_pred - 1)\n",
      "C:\\Users\\darkp\\anaconda3\\lib\\site-packages\\sklearn\\_loss\\glm_distribution.py:326: RuntimeWarning: divide by zero encountered in true_divide\n",
      "  dev = 2 * (np.log(y_pred / y) + y / y_pred - 1)\n",
      "C:\\Users\\darkp\\anaconda3\\lib\\site-packages\\sklearn\\_loss\\glm_distribution.py:326: RuntimeWarning: invalid value encountered in add\n",
      "  dev = 2 * (np.log(y_pred / y) + y / y_pred - 1)\n",
      "C:\\Users\\darkp\\anaconda3\\lib\\site-packages\\sklearn\\linear_model\\_glm\\glm.py:323: ConvergenceWarning: lbfgs failed to converge (status=2):\n",
      "ABNORMAL_TERMINATION_IN_LNSRCH.\n",
      "\n",
      "Increase the number of iterations (max_iter) or scale the data as shown in:\n",
      "    https://scikit-learn.org/stable/modules/preprocessing.html\n",
      "  self.n_iter_ = _check_optimize_result(\"lbfgs\", opt_res)\n"
     ]
    },
    {
     "name": "stdout",
     "output_type": "stream",
     "text": [
      "Model Number: 1033 with model NVAR in generation 9 of 10\n",
      "Model Number: 1034 with model ConstantNaive in generation 9 of 10\n",
      "Model Number: 1035 with model AverageValueNaive in generation 9 of 10\n",
      "Model Number: 1036 with model UnivariateMotif in generation 9 of 10\n",
      "Model Number: 1037 with model GLS in generation 9 of 10\n",
      "Model Number: 1038 with model UnobservedComponents in generation 9 of 10\n",
      "Model Number: 1039 with model Theta in generation 9 of 10\n",
      "Model Number: 1040 with model Theta in generation 9 of 10\n",
      "Model Number: 1041 with model NVAR in generation 9 of 10\n",
      "Model Number: 1042 with model MultivariateMotif in generation 9 of 10\n",
      "Model Number: 1043 with model NVAR in generation 9 of 10\n",
      "Model Number: 1044 with model SectionalMotif in generation 9 of 10\n",
      "Model Number: 1045 with model SectionalMotif in generation 9 of 10\n",
      "Model Number: 1046 with model MultivariateMotif in generation 9 of 10\n",
      "Model Number: 1047 with model MultivariateRegression in generation 9 of 10\n"
     ]
    },
    {
     "name": "stderr",
     "output_type": "stream",
     "text": [
      "C:\\Users\\darkp\\anaconda3\\lib\\site-packages\\scipy\\interpolate\\polyint.py:545: RuntimeWarning: overflow encountered in multiply\n",
      "  self.wi[:j] *= (self.xi[j]-self.xi[:j])\n",
      "C:\\Users\\darkp\\anaconda3\\lib\\site-packages\\scipy\\interpolate\\polyint.py:546: RuntimeWarning: overflow encountered in reduce\n",
      "  self.wi[j] = np.multiply.reduce(self.xi[:j]-self.xi[j])\n",
      "C:\\Users\\darkp\\anaconda3\\lib\\site-packages\\scipy\\interpolate\\polyint.py:643: RuntimeWarning: invalid value encountered in true_divide\n",
      "  p = np.dot(c,self.yi)/np.sum(c,axis=-1)[...,np.newaxis]\n",
      "[Parallel(n_jobs=-2)]: Using backend ThreadingBackend with 7 concurrent workers.\n",
      "[Parallel(n_jobs=-2)]: Done  36 tasks      | elapsed:    0.0s\n",
      "[Parallel(n_jobs=-2)]: Done 186 tasks      | elapsed:    0.1s\n",
      "[Parallel(n_jobs=-2)]: Done 300 out of 300 | elapsed:    0.2s finished\n",
      "[Parallel(n_jobs=7)]: Using backend ThreadingBackend with 7 concurrent workers.\n",
      "[Parallel(n_jobs=7)]: Done  36 tasks      | elapsed:    0.0s\n",
      "[Parallel(n_jobs=7)]: Done 186 tasks      | elapsed:    0.0s\n",
      "[Parallel(n_jobs=7)]: Done 300 out of 300 | elapsed:    0.0s finished\n",
      "[Parallel(n_jobs=7)]: Using backend ThreadingBackend with 7 concurrent workers.\n",
      "[Parallel(n_jobs=7)]: Done  36 tasks      | elapsed:    0.0s\n",
      "[Parallel(n_jobs=7)]: Done 186 tasks      | elapsed:    0.0s\n",
      "[Parallel(n_jobs=7)]: Done 300 out of 300 | elapsed:    0.0s finished\n",
      "[Parallel(n_jobs=7)]: Using backend ThreadingBackend with 7 concurrent workers.\n",
      "[Parallel(n_jobs=7)]: Done  36 tasks      | elapsed:    0.0s\n",
      "[Parallel(n_jobs=7)]: Done 186 tasks      | elapsed:    0.0s\n",
      "[Parallel(n_jobs=7)]: Done 300 out of 300 | elapsed:    0.0s finished\n",
      "[Parallel(n_jobs=7)]: Using backend ThreadingBackend with 7 concurrent workers.\n",
      "[Parallel(n_jobs=7)]: Done  36 tasks      | elapsed:    0.0s\n",
      "[Parallel(n_jobs=7)]: Done 186 tasks      | elapsed:    0.0s\n",
      "[Parallel(n_jobs=7)]: Done 300 out of 300 | elapsed:    0.0s finished\n"
     ]
    },
    {
     "name": "stdout",
     "output_type": "stream",
     "text": [
      "Model Number: 1048 with model AverageValueNaive in generation 9 of 10\n",
      "Model Number: 1049 with model NVAR in generation 9 of 10\n"
     ]
    },
    {
     "name": "stderr",
     "output_type": "stream",
     "text": [
      "[Parallel(n_jobs=7)]: Using backend ThreadingBackend with 7 concurrent workers.\n",
      "[Parallel(n_jobs=7)]: Done  36 tasks      | elapsed:    0.0s\n",
      "[Parallel(n_jobs=7)]: Done 186 tasks      | elapsed:    0.0s\n",
      "[Parallel(n_jobs=7)]: Done 300 out of 300 | elapsed:    0.0s finished\n"
     ]
    },
    {
     "name": "stdout",
     "output_type": "stream",
     "text": [
      "New Generation: 10 of 10\n",
      "Model Number: 1050 with model MultivariateMotif in generation 10 of 10\n",
      "Model Number: 1051 with model LastValueNaive in generation 10 of 10\n",
      "Model Number: 1052 with model MultivariateRegression in generation 10 of 10\n",
      "Model Number: 1053 with model Theta in generation 10 of 10\n",
      "Model Number: 1054 with model AverageValueNaive in generation 10 of 10\n",
      "Model Number: 1055 with model MultivariateMotif in generation 10 of 10\n",
      "Model Number: 1056 with model LastValueNaive in generation 10 of 10\n",
      "Model Number: 1057 with model ETS in generation 10 of 10\n",
      "Model Number: 1058 with model UnivariateRegression in generation 10 of 10\n",
      "Model Number: 1059 with model ETS in generation 10 of 10\n",
      "Template Eval Error: Exception('Transformer Detrend failed on fit') in model 1059: ETS\n",
      "Model Number: 1060 with model LastValueNaive in generation 10 of 10\n",
      "Model Number: 1061 with model MultivariateMotif in generation 10 of 10\n"
     ]
    },
    {
     "name": "stderr",
     "output_type": "stream",
     "text": [
      "C:\\Users\\darkp\\anaconda3\\lib\\site-packages\\sklearn\\_loss\\glm_distribution.py:132: RuntimeWarning: divide by zero encountered in true_divide\n",
      "  return -2 * (y - y_pred) / self.unit_variance(y_pred)\n",
      "C:\\Users\\darkp\\anaconda3\\lib\\site-packages\\sklearn\\linear_model\\_glm\\glm.py:42: RuntimeWarning: invalid value encountered in multiply\n",
      "  temp = d1 * family.deviance_derivative(y, y_pred, weights)\n",
      "C:\\Users\\darkp\\anaconda3\\lib\\site-packages\\sklearn\\_loss\\glm_distribution.py:330: RuntimeWarning: divide by zero encountered in power\n",
      "  - y * np.power(y_pred, 1 - p) / (1 - p)\n"
     ]
    },
    {
     "name": "stdout",
     "output_type": "stream",
     "text": [
      "Model Number: 1062 with model LastValueNaive in generation 10 of 10\n",
      "Model Number: 1063 with model NVAR in generation 10 of 10\n",
      "Model Number: 1064 with model MultivariateMotif in generation 10 of 10\n",
      "Model Number: 1065 with model LastValueNaive in generation 10 of 10\n",
      "Model Number: 1066 with model Theta in generation 10 of 10\n"
     ]
    },
    {
     "name": "stderr",
     "output_type": "stream",
     "text": [
      "C:\\Users\\darkp\\anaconda3\\lib\\site-packages\\sklearn\\_loss\\glm_distribution.py:132: RuntimeWarning: divide by zero encountered in true_divide\n",
      "  return -2 * (y - y_pred) / self.unit_variance(y_pred)\n",
      "C:\\Users\\darkp\\anaconda3\\lib\\site-packages\\sklearn\\linear_model\\_glm\\glm.py:42: RuntimeWarning: invalid value encountered in multiply\n",
      "  temp = d1 * family.deviance_derivative(y, y_pred, weights)\n",
      "C:\\Users\\darkp\\anaconda3\\lib\\site-packages\\sklearn\\_loss\\glm_distribution.py:323: RuntimeWarning: divide by zero encountered in true_divide\n",
      "  dev = 2 * (xlogy(y, y / y_pred) - y + y_pred)\n"
     ]
    },
    {
     "name": "stdout",
     "output_type": "stream",
     "text": [
      "Model Number: 1067 with model UnivariateMotif in generation 10 of 10\n",
      "Model Number: 1068 with model NVAR in generation 10 of 10\n",
      "Model Number: 1069 with model NVAR in generation 10 of 10\n",
      "Model Number: 1070 with model UnobservedComponents in generation 10 of 10\n",
      "Template Eval Error: ValueError(\"regression_type='User' but no future_regressor supplied\") in model 1070: UnobservedComponents\n",
      "Model Number: 1071 with model ConstantNaive in generation 10 of 10\n",
      "Model Number: 1072 with model AverageValueNaive in generation 10 of 10\n",
      "Model Number: 1073 with model GLS in generation 10 of 10\n",
      "Model Number: 1074 with model NVAR in generation 10 of 10\n",
      "Model Number: 1075 with model Theta in generation 10 of 10\n",
      "Model Number: 1076 with model UnivariateMotif in generation 10 of 10\n",
      "Model Number: 1077 with model SectionalMotif in generation 10 of 10\n",
      "Model Number: 1078 with model GLS in generation 10 of 10\n",
      "Model Number: 1079 with model UnivariateMotif in generation 10 of 10\n",
      "Model Number: 1080 with model NVAR in generation 10 of 10\n"
     ]
    },
    {
     "name": "stderr",
     "output_type": "stream",
     "text": [
      "C:\\Users\\darkp\\anaconda3\\lib\\site-packages\\sklearn\\linear_model\\_glm\\link.py:90: RuntimeWarning: overflow encountered in exp\n",
      "  return np.exp(lin_pred)\n",
      "C:\\Users\\darkp\\anaconda3\\lib\\site-packages\\sklearn\\linear_model\\_glm\\link.py:93: RuntimeWarning: overflow encountered in exp\n",
      "  return np.exp(lin_pred)\n",
      "C:\\Users\\darkp\\anaconda3\\lib\\site-packages\\sklearn\\_loss\\glm_distribution.py:132: RuntimeWarning: invalid value encountered in true_divide\n",
      "  return -2 * (y - y_pred) / self.unit_variance(y_pred)\n",
      "C:\\Users\\darkp\\anaconda3\\lib\\site-packages\\sklearn\\_loss\\glm_distribution.py:132: RuntimeWarning: divide by zero encountered in true_divide\n",
      "  return -2 * (y - y_pred) / self.unit_variance(y_pred)\n",
      "C:\\Users\\darkp\\anaconda3\\lib\\site-packages\\sklearn\\linear_model\\_glm\\glm.py:42: RuntimeWarning: invalid value encountered in multiply\n",
      "  temp = d1 * family.deviance_derivative(y, y_pred, weights)\n",
      "C:\\Users\\darkp\\anaconda3\\lib\\site-packages\\sklearn\\_loss\\glm_distribution.py:323: RuntimeWarning: divide by zero encountered in true_divide\n",
      "  dev = 2 * (xlogy(y, y / y_pred) - y + y_pred)\n"
     ]
    },
    {
     "name": "stdout",
     "output_type": "stream",
     "text": [
      "Model Number: 1081 with model GLS in generation 10 of 10\n",
      "Model Number: 1082 with model MultivariateMotif in generation 10 of 10\n",
      "Model Number: 1083 with model UnivariateMotif in generation 10 of 10\n",
      "Model Number: 1084 with model UnobservedComponents in generation 10 of 10\n",
      "Model Number: 1085 with model LastValueNaive in generation 10 of 10\n"
     ]
    },
    {
     "name": "stderr",
     "output_type": "stream",
     "text": [
      "C:\\Users\\darkp\\anaconda3\\lib\\site-packages\\sklearn\\_loss\\glm_distribution.py:132: RuntimeWarning: divide by zero encountered in true_divide\n",
      "  return -2 * (y - y_pred) / self.unit_variance(y_pred)\n",
      "C:\\Users\\darkp\\anaconda3\\lib\\site-packages\\sklearn\\linear_model\\_glm\\glm.py:42: RuntimeWarning: invalid value encountered in multiply\n",
      "  temp = d1 * family.deviance_derivative(y, y_pred, weights)\n",
      "C:\\Users\\darkp\\anaconda3\\lib\\site-packages\\sklearn\\_loss\\glm_distribution.py:323: RuntimeWarning: divide by zero encountered in true_divide\n",
      "  dev = 2 * (xlogy(y, y / y_pred) - y + y_pred)\n"
     ]
    },
    {
     "name": "stdout",
     "output_type": "stream",
     "text": [
      "Model Number: 1086 with model NVAR in generation 10 of 10\n",
      "Model Number: 1087 with model GLS in generation 10 of 10\n",
      "Model Number: 1088 with model MultivariateRegression in generation 10 of 10\n"
     ]
    },
    {
     "name": "stderr",
     "output_type": "stream",
     "text": [
      "C:\\Users\\darkp\\anaconda3\\lib\\site-packages\\sklearn\\_loss\\glm_distribution.py:132: RuntimeWarning: divide by zero encountered in true_divide\n",
      "  return -2 * (y - y_pred) / self.unit_variance(y_pred)\n",
      "C:\\Users\\darkp\\anaconda3\\lib\\site-packages\\sklearn\\linear_model\\_glm\\glm.py:42: RuntimeWarning: invalid value encountered in multiply\n",
      "  temp = d1 * family.deviance_derivative(y, y_pred, weights)\n",
      "C:\\Users\\darkp\\anaconda3\\lib\\site-packages\\sklearn\\_loss\\glm_distribution.py:323: RuntimeWarning: divide by zero encountered in true_divide\n",
      "  dev = 2 * (xlogy(y, y / y_pred) - y + y_pred)\n",
      "C:\\Users\\darkp\\anaconda3\\lib\\site-packages\\sklearn\\_loss\\glm_distribution.py:132: RuntimeWarning: divide by zero encountered in true_divide\n",
      "  return -2 * (y - y_pred) / self.unit_variance(y_pred)\n",
      "C:\\Users\\darkp\\anaconda3\\lib\\site-packages\\sklearn\\linear_model\\_glm\\glm.py:42: RuntimeWarning: invalid value encountered in multiply\n",
      "  temp = d1 * family.deviance_derivative(y, y_pred, weights)\n",
      "C:\\Users\\darkp\\anaconda3\\lib\\site-packages\\sklearn\\_loss\\glm_distribution.py:330: RuntimeWarning: divide by zero encountered in power\n",
      "  - y * np.power(y_pred, 1 - p) / (1 - p)\n",
      "[Parallel(n_jobs=-2)]: Using backend ThreadingBackend with 7 concurrent workers.\n",
      "[Parallel(n_jobs=-2)]: Done  36 tasks      | elapsed:    0.0s\n",
      "[Parallel(n_jobs=-2)]: Done 186 tasks      | elapsed:    0.1s\n",
      "[Parallel(n_jobs=-2)]: Done 300 out of 300 | elapsed:    0.1s finished\n",
      "[Parallel(n_jobs=7)]: Using backend ThreadingBackend with 7 concurrent workers.\n",
      "[Parallel(n_jobs=7)]: Done  36 tasks      | elapsed:    0.0s\n",
      "[Parallel(n_jobs=7)]: Done 186 tasks      | elapsed:    0.0s\n",
      "[Parallel(n_jobs=7)]: Done 300 out of 300 | elapsed:    0.0s finished\n",
      "[Parallel(n_jobs=7)]: Using backend ThreadingBackend with 7 concurrent workers.\n",
      "[Parallel(n_jobs=7)]: Done  36 tasks      | elapsed:    0.0s\n",
      "[Parallel(n_jobs=7)]: Done 186 tasks      | elapsed:    0.0s\n",
      "[Parallel(n_jobs=7)]: Done 300 out of 300 | elapsed:    0.0s finished\n",
      "[Parallel(n_jobs=7)]: Using backend ThreadingBackend with 7 concurrent workers.\n",
      "[Parallel(n_jobs=7)]: Done  36 tasks      | elapsed:    0.0s\n",
      "[Parallel(n_jobs=7)]: Done 186 tasks      | elapsed:    0.0s\n",
      "[Parallel(n_jobs=7)]: Done 300 out of 300 | elapsed:    0.0s finished\n",
      "[Parallel(n_jobs=7)]: Using backend ThreadingBackend with 7 concurrent workers.\n",
      "[Parallel(n_jobs=7)]: Done  36 tasks      | elapsed:    0.0s\n",
      "[Parallel(n_jobs=7)]: Done 186 tasks      | elapsed:    0.0s\n",
      "[Parallel(n_jobs=7)]: Done 300 out of 300 | elapsed:    0.0s finished\n"
     ]
    },
    {
     "name": "stdout",
     "output_type": "stream",
     "text": [
      "Model Number: 1089 with model WindowRegression in generation 10 of 10\n",
      "Model Number: 1090 with model GLS in generation 10 of 10\n"
     ]
    },
    {
     "name": "stderr",
     "output_type": "stream",
     "text": [
      "[Parallel(n_jobs=7)]: Using backend ThreadingBackend with 7 concurrent workers.\n",
      "[Parallel(n_jobs=7)]: Done  36 tasks      | elapsed:    0.0s\n",
      "[Parallel(n_jobs=7)]: Done 186 tasks      | elapsed:    0.0s\n",
      "[Parallel(n_jobs=7)]: Done 300 out of 300 | elapsed:    0.0s finished\n",
      "C:\\Users\\darkp\\anaconda3\\lib\\site-packages\\sklearn\\_loss\\glm_distribution.py:132: RuntimeWarning: divide by zero encountered in true_divide\n",
      "  return -2 * (y - y_pred) / self.unit_variance(y_pred)\n",
      "C:\\Users\\darkp\\anaconda3\\lib\\site-packages\\sklearn\\linear_model\\_glm\\glm.py:42: RuntimeWarning: invalid value encountered in multiply\n",
      "  temp = d1 * family.deviance_derivative(y, y_pred, weights)\n",
      "C:\\Users\\darkp\\anaconda3\\lib\\site-packages\\sklearn\\_loss\\glm_distribution.py:323: RuntimeWarning: divide by zero encountered in true_divide\n",
      "  dev = 2 * (xlogy(y, y / y_pred) - y + y_pred)\n"
     ]
    },
    {
     "name": "stdout",
     "output_type": "stream",
     "text": [
      "Model Number: 1091 with model Theta in generation 10 of 10\n",
      "Model Number: 1092 with model NVAR in generation 10 of 10\n",
      "Model Number: 1093 with model NVAR in generation 10 of 10\n",
      "Model Number: 1094 with model GLS in generation 10 of 10\n",
      "Model Number: 1095 with model AverageValueNaive in generation 10 of 10\n",
      "Model Number: 1096 with model UnivariateRegression in generation 10 of 10\n",
      "Model Number: 1097 with model UnivariateMotif in generation 10 of 10\n",
      "Model Number: 1098 with model ConstantNaive in generation 10 of 10\n",
      "Model Number: 1099 with model WindowRegression in generation 10 of 10\n",
      "Template Eval Error: Exception('Transformer Detrend failed on fit') in model 1099: WindowRegression\n",
      "Model Number: 1100 with model Theta in generation 10 of 10\n",
      "Model Number: 1101 with model SeasonalNaive in generation 10 of 10\n",
      "Model Number: 1102 with model UnobservedComponents in generation 10 of 10\n",
      "Model Number: 1103 with model UnivariateMotif in generation 10 of 10\n",
      "Model Number: 1104 with model LastValueNaive in generation 10 of 10\n",
      "Model Number: 1105 with model UnivariateRegression in generation 10 of 10\n",
      "Model Number: 1106 with model ConstantNaive in generation 10 of 10\n",
      "Model Number: 1107 with model GLS in generation 10 of 10\n",
      "Model Number: 1108 with model AverageValueNaive in generation 10 of 10\n",
      "Model Number: 1109 with model UnivariateRegression in generation 10 of 10\n",
      "Template Eval Error: Exception('Transformer Cointegration failed on fit') in model 1109: UnivariateRegression\n",
      "Model Number: 1110 with model AverageValueNaive in generation 10 of 10\n",
      "Model Number: 1111 with model Theta in generation 10 of 10\n"
     ]
    },
    {
     "name": "stderr",
     "output_type": "stream",
     "text": [
      "C:\\Users\\darkp\\anaconda3\\lib\\site-packages\\autots\\tools\\probabilistic.py:67: RuntimeWarning: invalid value encountered in true_divide\n",
      "  (prior_mu / prior_sigma**2) + ((n * data_mu) / prior_sigma**2)\n",
      "C:\\Users\\darkp\\anaconda3\\lib\\site-packages\\autots\\tools\\probabilistic.py:68: RuntimeWarning: divide by zero encountered in true_divide\n",
      "  ) / ((1 / prior_sigma**2) + (n / prior_sigma**2))\n"
     ]
    },
    {
     "name": "stdout",
     "output_type": "stream",
     "text": [
      "Model Number: 1112 with model ConstantNaive in generation 10 of 10\n",
      "Model Number: 1113 with model UnivariateMotif in generation 10 of 10\n",
      "Model Number: 1114 with model MultivariateRegression in generation 10 of 10\n",
      "Template Eval Error: ValueError(\"regression_type='User' but not future_regressor supplied.\") in model 1114: MultivariateRegression\n",
      "Model Number: 1115 with model MultivariateMotif in generation 10 of 10\n"
     ]
    },
    {
     "name": "stderr",
     "output_type": "stream",
     "text": [
      "C:\\Users\\darkp\\anaconda3\\lib\\site-packages\\scipy\\interpolate\\polyint.py:545: RuntimeWarning: overflow encountered in multiply\n",
      "  self.wi[:j] *= (self.xi[j]-self.xi[:j])\n",
      "C:\\Users\\darkp\\anaconda3\\lib\\site-packages\\scipy\\interpolate\\polyint.py:546: RuntimeWarning: overflow encountered in reduce\n",
      "  self.wi[j] = np.multiply.reduce(self.xi[:j]-self.xi[j])\n",
      "C:\\Users\\darkp\\anaconda3\\lib\\site-packages\\scipy\\interpolate\\polyint.py:643: RuntimeWarning: invalid value encountered in true_divide\n",
      "  p = np.dot(c,self.yi)/np.sum(c,axis=-1)[...,np.newaxis]\n",
      "C:\\Users\\darkp\\anaconda3\\lib\\site-packages\\sklearn\\_loss\\glm_distribution.py:132: RuntimeWarning: divide by zero encountered in true_divide\n",
      "  return -2 * (y - y_pred) / self.unit_variance(y_pred)\n",
      "C:\\Users\\darkp\\anaconda3\\lib\\site-packages\\sklearn\\linear_model\\_glm\\glm.py:42: RuntimeWarning: invalid value encountered in multiply\n",
      "  temp = d1 * family.deviance_derivative(y, y_pred, weights)\n",
      "C:\\Users\\darkp\\anaconda3\\lib\\site-packages\\sklearn\\_loss\\glm_distribution.py:323: RuntimeWarning: divide by zero encountered in true_divide\n",
      "  dev = 2 * (xlogy(y, y / y_pred) - y + y_pred)\n",
      "C:\\Users\\darkp\\anaconda3\\lib\\site-packages\\sklearn\\_loss\\glm_distribution.py:132: RuntimeWarning: divide by zero encountered in true_divide\n",
      "  return -2 * (y - y_pred) / self.unit_variance(y_pred)\n",
      "C:\\Users\\darkp\\anaconda3\\lib\\site-packages\\sklearn\\linear_model\\_glm\\glm.py:42: RuntimeWarning: invalid value encountered in multiply\n",
      "  temp = d1 * family.deviance_derivative(y, y_pred, weights)\n",
      "C:\\Users\\darkp\\anaconda3\\lib\\site-packages\\sklearn\\_loss\\glm_distribution.py:323: RuntimeWarning: divide by zero encountered in true_divide\n",
      "  dev = 2 * (xlogy(y, y / y_pred) - y + y_pred)\n"
     ]
    },
    {
     "name": "stdout",
     "output_type": "stream",
     "text": [
      "Model Number: 1116 with model Ensemble in generation 11 of Ensembles\n",
      "Model Number: 1117 with model Ensemble in generation 11 of Ensembles\n",
      "Model Number: 1118 with model Ensemble in generation 11 of Ensembles\n"
     ]
    },
    {
     "name": "stderr",
     "output_type": "stream",
     "text": [
      "C:\\Users\\darkp\\anaconda3\\lib\\site-packages\\sklearn\\linear_model\\_glm\\link.py:90: RuntimeWarning: overflow encountered in exp\n",
      "  return np.exp(lin_pred)\n",
      "C:\\Users\\darkp\\anaconda3\\lib\\site-packages\\sklearn\\linear_model\\_glm\\link.py:93: RuntimeWarning: overflow encountered in exp\n",
      "  return np.exp(lin_pred)\n",
      "C:\\Users\\darkp\\anaconda3\\lib\\site-packages\\sklearn\\_loss\\glm_distribution.py:132: RuntimeWarning: invalid value encountered in true_divide\n",
      "  return -2 * (y - y_pred) / self.unit_variance(y_pred)\n"
     ]
    },
    {
     "name": "stdout",
     "output_type": "stream",
     "text": [
      "Model Number: 1119 with model Ensemble in generation 11 of Ensembles\n",
      "Model Number: 1120 with model Ensemble in generation 11 of Ensembles\n",
      "Model Number: 1121 with model Ensemble in generation 11 of Ensembles\n",
      "Model Number: 1122 with model Ensemble in generation 11 of Ensembles\n",
      "Model Number: 1123 with model Ensemble in generation 11 of Ensembles\n",
      "Validation Round: 1\n",
      "Model Number: 1 of 161 with model Ensemble for Validation 1\n",
      "📈 1 - Ensemble with avg smape 7.75: \n",
      "Model Number: 2 of 161 with model Ensemble for Validation 1\n"
     ]
    },
    {
     "name": "stderr",
     "output_type": "stream",
     "text": [
      "C:\\Users\\darkp\\anaconda3\\lib\\site-packages\\sklearn\\linear_model\\_glm\\link.py:90: RuntimeWarning: overflow encountered in exp\n",
      "  return np.exp(lin_pred)\n",
      "C:\\Users\\darkp\\anaconda3\\lib\\site-packages\\sklearn\\linear_model\\_glm\\link.py:93: RuntimeWarning: overflow encountered in exp\n",
      "  return np.exp(lin_pred)\n",
      "C:\\Users\\darkp\\anaconda3\\lib\\site-packages\\sklearn\\_loss\\glm_distribution.py:132: RuntimeWarning: invalid value encountered in true_divide\n",
      "  return -2 * (y - y_pred) / self.unit_variance(y_pred)\n"
     ]
    },
    {
     "name": "stdout",
     "output_type": "stream",
     "text": [
      "📈 2 - Ensemble with avg smape 7.68: \n",
      "Model Number: 3 of 161 with model UnivariateMotif for Validation 1\n",
      "3 - UnivariateMotif with avg smape 7.84: \n",
      "Model Number: 4 of 161 with model Ensemble for Validation 1\n",
      "4 - Ensemble with avg smape 8.21: \n",
      "Model Number: 5 of 161 with model UnivariateMotif for Validation 1\n",
      "5 - UnivariateMotif with avg smape 7.81: \n",
      "Model Number: 6 of 161 with model UnivariateMotif for Validation 1\n",
      "6 - UnivariateMotif with avg smape 8.97: \n",
      "Model Number: 7 of 161 with model UnivariateMotif for Validation 1\n",
      "7 - UnivariateMotif with avg smape 9.05: \n",
      "Model Number: 8 of 161 with model UnivariateMotif for Validation 1\n",
      "📈 8 - UnivariateMotif with avg smape 7.45: \n",
      "Model Number: 9 of 161 with model Ensemble for Validation 1\n"
     ]
    },
    {
     "name": "stderr",
     "output_type": "stream",
     "text": [
      "C:\\Users\\darkp\\anaconda3\\lib\\site-packages\\sklearn\\linear_model\\_glm\\link.py:90: RuntimeWarning: overflow encountered in exp\n",
      "  return np.exp(lin_pred)\n",
      "C:\\Users\\darkp\\anaconda3\\lib\\site-packages\\sklearn\\linear_model\\_glm\\link.py:93: RuntimeWarning: overflow encountered in exp\n",
      "  return np.exp(lin_pred)\n",
      "C:\\Users\\darkp\\anaconda3\\lib\\site-packages\\sklearn\\_loss\\glm_distribution.py:132: RuntimeWarning: invalid value encountered in true_divide\n",
      "  return -2 * (y - y_pred) / self.unit_variance(y_pred)\n"
     ]
    },
    {
     "name": "stdout",
     "output_type": "stream",
     "text": [
      "📈 9 - Ensemble with avg smape 3.37: \n",
      "Model Number: 10 of 161 with model Ensemble for Validation 1\n",
      "📈 10 - Ensemble with avg smape 3.25: \n",
      "Model Number: 11 of 161 with model Ensemble for Validation 1\n",
      "11 - Ensemble with avg smape 3.25: \n",
      "Model Number: 12 of 161 with model Ensemble for Validation 1\n",
      "📈 12 - Ensemble with avg smape 1.66: \n",
      "Model Number: 13 of 161 with model UnobservedComponents for Validation 1\n",
      "13 - UnobservedComponents with avg smape 1.8: \n",
      "Model Number: 14 of 161 with model GLS for Validation 1\n",
      "14 - GLS with avg smape 1.83: \n",
      "Model Number: 15 of 161 with model GLS for Validation 1\n",
      "15 - GLS with avg smape 2.22: \n",
      "Model Number: 16 of 161 with model GLS for Validation 1\n",
      "16 - GLS with avg smape 1.84: \n",
      "Model Number: 17 of 161 with model Theta for Validation 1\n",
      "17 - Theta with avg smape 1.89: \n",
      "Model Number: 18 of 161 with model Theta for Validation 1\n",
      "18 - Theta with avg smape 1.89: \n",
      "Model Number: 19 of 161 with model GLS for Validation 1\n",
      "19 - GLS with avg smape 1.83: \n",
      "Model Number: 20 of 161 with model GLS for Validation 1\n",
      "20 - GLS with avg smape 1.83: \n",
      "Model Number: 21 of 161 with model Ensemble for Validation 1\n",
      "21 - Ensemble with avg smape 4.44: \n",
      "Model Number: 22 of 161 with model NVAR for Validation 1\n",
      "📈 22 - NVAR with avg smape 1.55: \n",
      "Model Number: 23 of 161 with model NVAR for Validation 1\n",
      "23 - NVAR with avg smape 1.6: \n",
      "Model Number: 24 of 161 with model Theta for Validation 1\n",
      "24 - Theta with avg smape 1.9: \n",
      "Model Number: 25 of 161 with model Theta for Validation 1\n",
      "25 - Theta with avg smape 1.9: \n",
      "Model Number: 26 of 161 with model Theta for Validation 1\n",
      "26 - Theta with avg smape 1.9: \n",
      "Model Number: 27 of 161 with model NVAR for Validation 1\n",
      "27 - NVAR with avg smape 1.58: \n",
      "Model Number: 28 of 161 with model NVAR for Validation 1\n",
      "28 - NVAR with avg smape 1.59: \n",
      "Model Number: 29 of 161 with model Theta for Validation 1\n",
      "29 - Theta with avg smape 1.9: \n",
      "Model Number: 30 of 161 with model Theta for Validation 1\n",
      "30 - Theta with avg smape 1.88: \n",
      "Model Number: 31 of 161 with model NVAR for Validation 1\n",
      "31 - NVAR with avg smape 1.55: \n",
      "Model Number: 32 of 161 with model NVAR for Validation 1\n",
      "32 - NVAR with avg smape 1.55: \n",
      "Model Number: 33 of 161 with model Theta for Validation 1\n",
      "33 - Theta with avg smape 1.87: \n",
      "Model Number: 34 of 161 with model NVAR for Validation 1\n",
      "34 - NVAR with avg smape 1.56: \n",
      "Model Number: 35 of 161 with model NVAR for Validation 1\n",
      "35 - NVAR with avg smape 1.56: \n",
      "Model Number: 36 of 161 with model GLS for Validation 1\n",
      "36 - GLS with avg smape 1.88: \n",
      "Model Number: 37 of 161 with model NVAR for Validation 1\n",
      "37 - NVAR with avg smape 1.55: \n",
      "Model Number: 38 of 161 with model Theta for Validation 1\n",
      "38 - Theta with avg smape 1.86: \n",
      "Model Number: 39 of 161 with model GLS for Validation 1\n",
      "39 - GLS with avg smape 1.71: \n",
      "Model Number: 40 of 161 with model GLS for Validation 1\n",
      "40 - GLS with avg smape 1.71: \n",
      "Model Number: 41 of 161 with model GLS for Validation 1\n",
      "41 - GLS with avg smape 1.83: \n",
      "Model Number: 42 of 161 with model LastValueNaive for Validation 1\n",
      "42 - LastValueNaive with avg smape 1.78: \n",
      "Model Number: 43 of 161 with model LastValueNaive for Validation 1\n",
      "43 - LastValueNaive with avg smape 1.78: \n",
      "Model Number: 44 of 161 with model MultivariateMotif for Validation 1\n",
      "44 - MultivariateMotif with avg smape 5.27: \n",
      "Model Number: 45 of 161 with model AverageValueNaive for Validation 1\n",
      "45 - AverageValueNaive with avg smape 1.77: \n",
      "Model Number: 46 of 161 with model LastValueNaive for Validation 1\n",
      "46 - LastValueNaive with avg smape 1.72: \n",
      "Model Number: 47 of 161 with model LastValueNaive for Validation 1\n",
      "47 - LastValueNaive with avg smape 1.71: \n",
      "Model Number: 48 of 161 with model LastValueNaive for Validation 1\n",
      "48 - LastValueNaive with avg smape 1.73: \n",
      "Model Number: 49 of 161 with model LastValueNaive for Validation 1\n"
     ]
    },
    {
     "name": "stderr",
     "output_type": "stream",
     "text": [
      "C:\\Users\\darkp\\anaconda3\\lib\\site-packages\\sklearn\\_loss\\glm_distribution.py:132: RuntimeWarning: divide by zero encountered in true_divide\n",
      "  return -2 * (y - y_pred) / self.unit_variance(y_pred)\n",
      "C:\\Users\\darkp\\anaconda3\\lib\\site-packages\\sklearn\\linear_model\\_glm\\glm.py:42: RuntimeWarning: invalid value encountered in multiply\n",
      "  temp = d1 * family.deviance_derivative(y, y_pred, weights)\n",
      "C:\\Users\\darkp\\anaconda3\\lib\\site-packages\\sklearn\\_loss\\glm_distribution.py:330: RuntimeWarning: divide by zero encountered in power\n",
      "  - y * np.power(y_pred, 1 - p) / (1 - p)\n"
     ]
    },
    {
     "name": "stdout",
     "output_type": "stream",
     "text": [
      "49 - LastValueNaive with avg smape 1.72: \n",
      "Model Number: 50 of 161 with model LastValueNaive for Validation 1\n",
      "50 - LastValueNaive with avg smape 1.72: \n",
      "Model Number: 51 of 161 with model LastValueNaive for Validation 1\n",
      "51 - LastValueNaive with avg smape 1.72: \n",
      "Model Number: 52 of 161 with model LastValueNaive for Validation 1\n",
      "52 - LastValueNaive with avg smape 1.7: \n",
      "Model Number: 53 of 161 with model MultivariateMotif for Validation 1\n",
      "53 - MultivariateMotif with avg smape 1.82: \n",
      "Model Number: 54 of 161 with model MultivariateMotif for Validation 1\n",
      "54 - MultivariateMotif with avg smape 1.82: \n",
      "Model Number: 55 of 161 with model UnivariateMotif for Validation 1\n",
      "55 - UnivariateMotif with avg smape 2.06: \n",
      "Model Number: 56 of 161 with model UnivariateMotif for Validation 1\n",
      "56 - UnivariateMotif with avg smape 2.05: \n",
      "Model Number: 57 of 161 with model AverageValueNaive for Validation 1\n"
     ]
    },
    {
     "name": "stderr",
     "output_type": "stream",
     "text": [
      "C:\\Users\\darkp\\anaconda3\\lib\\site-packages\\sklearn\\_loss\\glm_distribution.py:132: RuntimeWarning: divide by zero encountered in true_divide\n",
      "  return -2 * (y - y_pred) / self.unit_variance(y_pred)\n",
      "C:\\Users\\darkp\\anaconda3\\lib\\site-packages\\sklearn\\linear_model\\_glm\\glm.py:42: RuntimeWarning: invalid value encountered in multiply\n",
      "  temp = d1 * family.deviance_derivative(y, y_pred, weights)\n",
      "C:\\Users\\darkp\\anaconda3\\lib\\site-packages\\sklearn\\_loss\\glm_distribution.py:330: RuntimeWarning: divide by zero encountered in power\n",
      "  - y * np.power(y_pred, 1 - p) / (1 - p)\n"
     ]
    },
    {
     "name": "stdout",
     "output_type": "stream",
     "text": [
      "57 - AverageValueNaive with avg smape 1.78: \n",
      "Model Number: 58 of 161 with model UnivariateMotif for Validation 1\n",
      "58 - UnivariateMotif with avg smape 8.7: \n",
      "Model Number: 59 of 161 with model AverageValueNaive for Validation 1\n",
      "59 - AverageValueNaive with avg smape 2.09: \n",
      "Model Number: 60 of 161 with model MultivariateMotif for Validation 1\n",
      "60 - MultivariateMotif with avg smape 3.59: \n",
      "Model Number: 61 of 161 with model MultivariateMotif for Validation 1\n",
      "61 - MultivariateMotif with avg smape 2.81: \n",
      "Model Number: 62 of 161 with model UnivariateRegression for Validation 1\n"
     ]
    },
    {
     "name": "stderr",
     "output_type": "stream",
     "text": [
      "C:\\Users\\darkp\\anaconda3\\lib\\site-packages\\sklearn\\_loss\\glm_distribution.py:132: RuntimeWarning: divide by zero encountered in true_divide\n",
      "  return -2 * (y - y_pred) / self.unit_variance(y_pred)\n",
      "C:\\Users\\darkp\\anaconda3\\lib\\site-packages\\sklearn\\linear_model\\_glm\\glm.py:42: RuntimeWarning: invalid value encountered in multiply\n",
      "  temp = d1 * family.deviance_derivative(y, y_pred, weights)\n",
      "C:\\Users\\darkp\\anaconda3\\lib\\site-packages\\sklearn\\_loss\\glm_distribution.py:323: RuntimeWarning: divide by zero encountered in true_divide\n",
      "  dev = 2 * (xlogy(y, y / y_pred) - y + y_pred)\n"
     ]
    },
    {
     "name": "stdout",
     "output_type": "stream",
     "text": [
      "62 - UnivariateRegression with avg smape 1.55: \n",
      "Model Number: 63 of 161 with model UnivariateMotif for Validation 1\n",
      "📈 63 - UnivariateMotif with avg smape 1.34: \n",
      "Model Number: 64 of 161 with model UnobservedComponents for Validation 1\n",
      "64 - UnobservedComponents with avg smape 1.78: \n",
      "Model Number: 65 of 161 with model UnivariateRegression for Validation 1\n",
      "65 - UnivariateRegression with avg smape 2.07: \n",
      "Model Number: 66 of 161 with model MultivariateMotif for Validation 1\n",
      "66 - MultivariateMotif with avg smape 1.85: \n",
      "Model Number: 67 of 161 with model UnobservedComponents for Validation 1\n",
      "67 - UnobservedComponents with avg smape 1.83: \n",
      "Model Number: 68 of 161 with model UnobservedComponents for Validation 1\n",
      "68 - UnobservedComponents with avg smape 1.83: \n",
      "Model Number: 69 of 161 with model MultivariateMotif for Validation 1\n",
      "69 - MultivariateMotif with avg smape 3.32: \n",
      "Model Number: 70 of 161 with model UnobservedComponents for Validation 1\n",
      "70 - UnobservedComponents with avg smape 1.61: \n",
      "Model Number: 71 of 161 with model UnobservedComponents for Validation 1\n",
      "71 - UnobservedComponents with avg smape 1.59: \n",
      "Model Number: 72 of 161 with model UnobservedComponents for Validation 1\n",
      "72 - UnobservedComponents with avg smape 1.83: \n",
      "Model Number: 73 of 161 with model ConstantNaive for Validation 1\n",
      "73 - ConstantNaive with avg smape 2.83: \n",
      "Model Number: 74 of 161 with model ConstantNaive for Validation 1\n",
      "74 - ConstantNaive with avg smape 1.89: \n",
      "Model Number: 75 of 161 with model UnobservedComponents for Validation 1\n",
      "75 - UnobservedComponents with avg smape 2.19: \n",
      "Model Number: 76 of 161 with model AverageValueNaive for Validation 1\n",
      "76 - AverageValueNaive with avg smape 1.52: \n",
      "Model Number: 77 of 161 with model UnobservedComponents for Validation 1\n",
      "77 - UnobservedComponents with avg smape 1.83: \n",
      "Model Number: 78 of 161 with model AverageValueNaive for Validation 1\n",
      "78 - AverageValueNaive with avg smape 1.55: \n",
      "Model Number: 79 of 161 with model AverageValueNaive for Validation 1\n",
      "79 - AverageValueNaive with avg smape 1.61: \n",
      "Model Number: 80 of 161 with model MultivariateMotif for Validation 1\n",
      "80 - MultivariateMotif with avg smape 1.49: \n",
      "Model Number: 81 of 161 with model ConstantNaive for Validation 1\n",
      "81 - ConstantNaive with avg smape 2.73: \n",
      "Model Number: 82 of 161 with model AverageValueNaive for Validation 1\n",
      "82 - AverageValueNaive with avg smape 1.47: \n",
      "Model Number: 83 of 161 with model SectionalMotif for Validation 1\n"
     ]
    },
    {
     "name": "stderr",
     "output_type": "stream",
     "text": [
      "C:\\Users\\darkp\\anaconda3\\lib\\site-packages\\sklearn\\_loss\\glm_distribution.py:132: RuntimeWarning: divide by zero encountered in true_divide\n",
      "  return -2 * (y - y_pred) / self.unit_variance(y_pred)\n",
      "C:\\Users\\darkp\\anaconda3\\lib\\site-packages\\sklearn\\linear_model\\_glm\\glm.py:42: RuntimeWarning: invalid value encountered in multiply\n",
      "  temp = d1 * family.deviance_derivative(y, y_pred, weights)\n",
      "C:\\Users\\darkp\\anaconda3\\lib\\site-packages\\sklearn\\_loss\\glm_distribution.py:323: RuntimeWarning: divide by zero encountered in true_divide\n",
      "  dev = 2 * (xlogy(y, y / y_pred) - y + y_pred)\n"
     ]
    },
    {
     "name": "stdout",
     "output_type": "stream",
     "text": [
      "83 - SectionalMotif with avg smape 3.12: \n",
      "Model Number: 84 of 161 with model WindowRegression for Validation 1\n",
      "84 - WindowRegression with avg smape 1.6: \n",
      "Model Number: 85 of 161 with model AverageValueNaive for Validation 1\n",
      "85 - AverageValueNaive with avg smape 1.54: \n",
      "Model Number: 86 of 161 with model MultivariateMotif for Validation 1\n",
      "86 - MultivariateMotif with avg smape 2.57: \n",
      "Model Number: 87 of 161 with model AverageValueNaive for Validation 1\n",
      "87 - AverageValueNaive with avg smape 1.8: \n",
      "Model Number: 88 of 161 with model MultivariateRegression for Validation 1\n"
     ]
    },
    {
     "name": "stderr",
     "output_type": "stream",
     "text": [
      "[Parallel(n_jobs=-2)]: Using backend ThreadingBackend with 7 concurrent workers.\n",
      "[Parallel(n_jobs=-2)]: Done  36 tasks      | elapsed:    0.0s\n",
      "[Parallel(n_jobs=-2)]: Done 186 tasks      | elapsed:    0.1s\n",
      "[Parallel(n_jobs=-2)]: Done 300 out of 300 | elapsed:    0.2s finished\n",
      "[Parallel(n_jobs=7)]: Using backend ThreadingBackend with 7 concurrent workers.\n",
      "[Parallel(n_jobs=7)]: Done  36 tasks      | elapsed:    0.0s\n",
      "[Parallel(n_jobs=7)]: Done 186 tasks      | elapsed:    0.0s\n",
      "[Parallel(n_jobs=7)]: Done 300 out of 300 | elapsed:    0.0s finished\n",
      "[Parallel(n_jobs=7)]: Using backend ThreadingBackend with 7 concurrent workers.\n",
      "[Parallel(n_jobs=7)]: Done  36 tasks      | elapsed:    0.0s\n",
      "[Parallel(n_jobs=7)]: Done 186 tasks      | elapsed:    0.0s\n",
      "[Parallel(n_jobs=7)]: Done 300 out of 300 | elapsed:    0.0s finished\n",
      "[Parallel(n_jobs=7)]: Using backend ThreadingBackend with 7 concurrent workers.\n",
      "[Parallel(n_jobs=7)]: Done  36 tasks      | elapsed:    0.0s\n",
      "[Parallel(n_jobs=7)]: Done 186 tasks      | elapsed:    0.0s\n",
      "[Parallel(n_jobs=7)]: Done 300 out of 300 | elapsed:    0.0s finished\n",
      "[Parallel(n_jobs=7)]: Using backend ThreadingBackend with 7 concurrent workers.\n",
      "[Parallel(n_jobs=7)]: Done  36 tasks      | elapsed:    0.0s\n",
      "[Parallel(n_jobs=7)]: Done 186 tasks      | elapsed:    0.0s\n",
      "[Parallel(n_jobs=7)]: Done 300 out of 300 | elapsed:    0.0s finished\n"
     ]
    },
    {
     "name": "stdout",
     "output_type": "stream",
     "text": [
      "88 - MultivariateRegression with avg smape 4.12: \n",
      "Model Number: 89 of 161 with model SectionalMotif for Validation 1\n",
      "89 - SectionalMotif with avg smape 10.58: \n",
      "Model Number: 90 of 161 with model ETS for Validation 1\n",
      "90 - ETS with avg smape 1.89: \n",
      "Model Number: 91 of 161 with model ETS for Validation 1\n"
     ]
    },
    {
     "name": "stderr",
     "output_type": "stream",
     "text": [
      "[Parallel(n_jobs=7)]: Using backend ThreadingBackend with 7 concurrent workers.\n",
      "[Parallel(n_jobs=7)]: Done  36 tasks      | elapsed:    0.0s\n",
      "[Parallel(n_jobs=7)]: Done 186 tasks      | elapsed:    0.0s\n",
      "[Parallel(n_jobs=7)]: Done 300 out of 300 | elapsed:    0.0s finished\n"
     ]
    },
    {
     "name": "stdout",
     "output_type": "stream",
     "text": [
      "91 - ETS with avg smape 1.88: \n",
      "Model Number: 92 of 161 with model ETS for Validation 1\n",
      "ETS error ValueError('endog must be strictly positive when usingmultiplicative trend or seasonal components.')\n",
      "ETS failed on Close with ValueError('endog must be strictly positive when usingmultiplicative trend or seasonal components.')\n",
      "92 - ETS with avg smape 4.53: \n",
      "Model Number: 93 of 161 with model MultivariateRegression for Validation 1\n",
      "93 - MultivariateRegression with avg smape 1.87: \n",
      "Model Number: 94 of 161 with model SectionalMotif for Validation 1\n",
      "94 - SectionalMotif with avg smape 3.36: \n",
      "Model Number: 95 of 161 with model SeasonalNaive for Validation 1\n",
      "95 - SeasonalNaive with avg smape 2.42: \n",
      "Model Number: 96 of 161 with model MultivariateRegression for Validation 1\n"
     ]
    },
    {
     "name": "stderr",
     "output_type": "stream",
     "text": [
      "C:\\Users\\darkp\\anaconda3\\lib\\site-packages\\sklearn\\linear_model\\_glm\\link.py:90: RuntimeWarning: overflow encountered in exp\n",
      "  return np.exp(lin_pred)\n",
      "C:\\Users\\darkp\\anaconda3\\lib\\site-packages\\sklearn\\linear_model\\_glm\\link.py:93: RuntimeWarning: overflow encountered in exp\n",
      "  return np.exp(lin_pred)\n",
      "C:\\Users\\darkp\\anaconda3\\lib\\site-packages\\sklearn\\_loss\\glm_distribution.py:132: RuntimeWarning: invalid value encountered in true_divide\n",
      "  return -2 * (y - y_pred) / self.unit_variance(y_pred)\n",
      "C:\\Users\\darkp\\anaconda3\\lib\\site-packages\\sklearn\\_loss\\glm_distribution.py:323: RuntimeWarning: invalid value encountered in add\n",
      "  dev = 2 * (xlogy(y, y / y_pred) - y + y_pred)\n",
      "C:\\Users\\darkp\\anaconda3\\lib\\site-packages\\sklearn\\linear_model\\_glm\\glm.py:323: ConvergenceWarning: lbfgs failed to converge (status=2):\n",
      "ABNORMAL_TERMINATION_IN_LNSRCH.\n",
      "\n",
      "Increase the number of iterations (max_iter) or scale the data as shown in:\n",
      "    https://scikit-learn.org/stable/modules/preprocessing.html\n",
      "  self.n_iter_ = _check_optimize_result(\"lbfgs\", opt_res)\n"
     ]
    },
    {
     "name": "stdout",
     "output_type": "stream",
     "text": [
      "96 - MultivariateRegression with avg smape 2.31: \n",
      "Model Number: 97 of 161 with model ETS for Validation 1\n",
      "97 - ETS with avg smape 1.62: \n",
      "Model Number: 98 of 161 with model ETS for Validation 1\n",
      "98 - ETS with avg smape 1.59: \n",
      "Model Number: 99 of 161 with model ETS for Validation 1\n",
      "99 - ETS with avg smape 1.61: \n",
      "Model Number: 100 of 161 with model WindowRegression for Validation 1\n",
      "100 - WindowRegression with avg smape 2.97: \n",
      "Model Number: 101 of 161 with model UnivariateRegression for Validation 1\n",
      "101 - UnivariateRegression with avg smape 2.13: \n",
      "Model Number: 102 of 161 with model MultivariateRegression for Validation 1\n",
      "102 - MultivariateRegression with avg smape 2.54: \n",
      "Model Number: 103 of 161 with model ETS for Validation 1\n",
      "103 - ETS with avg smape 1.59: \n",
      "Model Number: 104 of 161 with model SectionalMotif for Validation 1\n",
      "104 - SectionalMotif with avg smape 3.55: \n",
      "Model Number: 105 of 161 with model MultivariateRegression for Validation 1\n"
     ]
    },
    {
     "name": "stderr",
     "output_type": "stream",
     "text": [
      "C:\\Users\\darkp\\anaconda3\\lib\\site-packages\\scipy\\interpolate\\polyint.py:545: RuntimeWarning: overflow encountered in multiply\n",
      "  self.wi[:j] *= (self.xi[j]-self.xi[:j])\n",
      "C:\\Users\\darkp\\anaconda3\\lib\\site-packages\\scipy\\interpolate\\polyint.py:546: RuntimeWarning: overflow encountered in reduce\n",
      "  self.wi[j] = np.multiply.reduce(self.xi[:j]-self.xi[j])\n",
      "C:\\Users\\darkp\\anaconda3\\lib\\site-packages\\scipy\\interpolate\\polyint.py:643: RuntimeWarning: invalid value encountered in true_divide\n",
      "  p = np.dot(c,self.yi)/np.sum(c,axis=-1)[...,np.newaxis]\n",
      "[Parallel(n_jobs=-2)]: Using backend ThreadingBackend with 7 concurrent workers.\n",
      "[Parallel(n_jobs=-2)]: Done  36 tasks      | elapsed:    0.0s\n",
      "[Parallel(n_jobs=-2)]: Done 186 tasks      | elapsed:    0.1s\n",
      "[Parallel(n_jobs=-2)]: Done 300 out of 300 | elapsed:    0.2s finished\n",
      "[Parallel(n_jobs=7)]: Using backend ThreadingBackend with 7 concurrent workers.\n",
      "[Parallel(n_jobs=7)]: Done  36 tasks      | elapsed:    0.0s\n",
      "[Parallel(n_jobs=7)]: Done 186 tasks      | elapsed:    0.0s\n",
      "[Parallel(n_jobs=7)]: Done 300 out of 300 | elapsed:    0.0s finished\n",
      "[Parallel(n_jobs=7)]: Using backend ThreadingBackend with 7 concurrent workers.\n",
      "[Parallel(n_jobs=7)]: Done  36 tasks      | elapsed:    0.0s\n",
      "[Parallel(n_jobs=7)]: Done 186 tasks      | elapsed:    0.0s\n",
      "[Parallel(n_jobs=7)]: Done 300 out of 300 | elapsed:    0.0s finished\n",
      "[Parallel(n_jobs=7)]: Using backend ThreadingBackend with 7 concurrent workers.\n",
      "[Parallel(n_jobs=7)]: Done  36 tasks      | elapsed:    0.0s\n",
      "[Parallel(n_jobs=7)]: Done 186 tasks      | elapsed:    0.0s\n",
      "[Parallel(n_jobs=7)]: Done 300 out of 300 | elapsed:    0.0s finished\n",
      "[Parallel(n_jobs=7)]: Using backend ThreadingBackend with 7 concurrent workers.\n",
      "[Parallel(n_jobs=7)]: Done  36 tasks      | elapsed:    0.0s\n",
      "[Parallel(n_jobs=7)]: Done 186 tasks      | elapsed:    0.0s\n",
      "[Parallel(n_jobs=7)]: Done 300 out of 300 | elapsed:    0.0s finished\n",
      "[Parallel(n_jobs=7)]: Using backend ThreadingBackend with 7 concurrent workers.\n",
      "[Parallel(n_jobs=7)]: Done  36 tasks      | elapsed:    0.0s\n",
      "[Parallel(n_jobs=7)]: Done 186 tasks      | elapsed:    0.0s\n",
      "[Parallel(n_jobs=7)]: Done 300 out of 300 | elapsed:    0.0s finished\n"
     ]
    },
    {
     "name": "stdout",
     "output_type": "stream",
     "text": [
      "105 - MultivariateRegression with avg smape 2.33: \n",
      "Model Number: 106 of 161 with model UnivariateRegression for Validation 1\n",
      "106 - UnivariateRegression with avg smape 2.68: \n",
      "Model Number: 107 of 161 with model ETS for Validation 1\n",
      "107 - ETS with avg smape 1.5: \n",
      "Model Number: 108 of 161 with model UnivariateRegression for Validation 1\n",
      "📈 108 - UnivariateRegression with avg smape 1.33: \n",
      "Model Number: 109 of 161 with model SectionalMotif for Validation 1\n",
      "109 - SectionalMotif with avg smape 9.24: \n",
      "Model Number: 110 of 161 with model WindowRegression for Validation 1\n",
      "110 - WindowRegression with avg smape 21.21: \n",
      "Model Number: 111 of 161 with model ETS for Validation 1\n",
      "111 - ETS with avg smape 1.78: \n",
      "Model Number: 112 of 161 with model GLM for Validation 1\n",
      "112 - GLM with avg smape 1.78: \n",
      "Model Number: 113 of 161 with model MultivariateRegression for Validation 1\n"
     ]
    },
    {
     "name": "stderr",
     "output_type": "stream",
     "text": [
      "[Parallel(n_jobs=-2)]: Using backend ThreadingBackend with 7 concurrent workers.\n",
      "[Parallel(n_jobs=-2)]: Done  36 tasks      | elapsed:    0.0s\n",
      "[Parallel(n_jobs=-2)]: Done 186 tasks      | elapsed:    0.1s\n",
      "[Parallel(n_jobs=-2)]: Done 300 out of 300 | elapsed:    0.2s finished\n",
      "[Parallel(n_jobs=7)]: Using backend ThreadingBackend with 7 concurrent workers.\n",
      "[Parallel(n_jobs=7)]: Done  36 tasks      | elapsed:    0.0s\n",
      "[Parallel(n_jobs=7)]: Done 186 tasks      | elapsed:    0.0s\n",
      "[Parallel(n_jobs=7)]: Done 300 out of 300 | elapsed:    0.0s finished\n",
      "[Parallel(n_jobs=7)]: Using backend ThreadingBackend with 7 concurrent workers.\n",
      "[Parallel(n_jobs=7)]: Done  36 tasks      | elapsed:    0.0s\n",
      "[Parallel(n_jobs=7)]: Done 186 tasks      | elapsed:    0.0s\n",
      "[Parallel(n_jobs=7)]: Done 300 out of 300 | elapsed:    0.0s finished\n",
      "[Parallel(n_jobs=7)]: Using backend ThreadingBackend with 7 concurrent workers.\n",
      "[Parallel(n_jobs=7)]: Done  36 tasks      | elapsed:    0.0s\n",
      "[Parallel(n_jobs=7)]: Done 186 tasks      | elapsed:    0.0s\n",
      "[Parallel(n_jobs=7)]: Done 300 out of 300 | elapsed:    0.0s finished\n",
      "[Parallel(n_jobs=7)]: Using backend ThreadingBackend with 7 concurrent workers.\n",
      "[Parallel(n_jobs=7)]: Done  36 tasks      | elapsed:    0.0s\n",
      "[Parallel(n_jobs=7)]: Done 186 tasks      | elapsed:    0.0s\n",
      "[Parallel(n_jobs=7)]: Done 300 out of 300 | elapsed:    0.0s finished\n",
      "[Parallel(n_jobs=7)]: Using backend ThreadingBackend with 7 concurrent workers.\n",
      "[Parallel(n_jobs=7)]: Done  36 tasks      | elapsed:    0.0s\n"
     ]
    },
    {
     "name": "stdout",
     "output_type": "stream",
     "text": [
      "113 - MultivariateRegression with avg smape 3.55: \n",
      "Model Number: 114 of 161 with model WindowRegression for Validation 1\n"
     ]
    },
    {
     "name": "stderr",
     "output_type": "stream",
     "text": [
      "[Parallel(n_jobs=7)]: Done 186 tasks      | elapsed:    0.0s\n",
      "[Parallel(n_jobs=7)]: Done 300 out of 300 | elapsed:    0.0s finished\n"
     ]
    },
    {
     "name": "stdout",
     "output_type": "stream",
     "text": [
      "114 - WindowRegression with avg smape 3.64: \n",
      "Model Number: 115 of 161 with model MultivariateRegression for Validation 1\n",
      "115 - MultivariateRegression with avg smape 1.77: \n",
      "Model Number: 116 of 161 with model GLM for Validation 1\n",
      "116 - GLM with avg smape 1.79: \n",
      "Model Number: 117 of 161 with model MultivariateRegression for Validation 1\n"
     ]
    },
    {
     "name": "stderr",
     "output_type": "stream",
     "text": [
      "C:\\Users\\darkp\\anaconda3\\lib\\site-packages\\sklearn\\_loss\\glm_distribution.py:132: RuntimeWarning: divide by zero encountered in true_divide\n",
      "  return -2 * (y - y_pred) / self.unit_variance(y_pred)\n",
      "C:\\Users\\darkp\\anaconda3\\lib\\site-packages\\sklearn\\linear_model\\_glm\\glm.py:42: RuntimeWarning: invalid value encountered in multiply\n",
      "  temp = d1 * family.deviance_derivative(y, y_pred, weights)\n",
      "C:\\Users\\darkp\\anaconda3\\lib\\site-packages\\sklearn\\_loss\\glm_distribution.py:330: RuntimeWarning: divide by zero encountered in power\n",
      "  - y * np.power(y_pred, 1 - p) / (1 - p)\n",
      "C:\\Users\\darkp\\anaconda3\\lib\\site-packages\\sklearn\\linear_model\\_glm\\link.py:90: RuntimeWarning: overflow encountered in exp\n",
      "  return np.exp(lin_pred)\n",
      "C:\\Users\\darkp\\anaconda3\\lib\\site-packages\\sklearn\\linear_model\\_glm\\link.py:93: RuntimeWarning: overflow encountered in exp\n",
      "  return np.exp(lin_pred)\n",
      "C:\\Users\\darkp\\anaconda3\\lib\\site-packages\\sklearn\\_loss\\glm_distribution.py:132: RuntimeWarning: invalid value encountered in true_divide\n",
      "  return -2 * (y - y_pred) / self.unit_variance(y_pred)\n"
     ]
    },
    {
     "name": "stdout",
     "output_type": "stream",
     "text": [
      "117 - MultivariateRegression with avg smape 4.43: \n",
      "Model Number: 118 of 161 with model MultivariateRegression for Validation 1\n",
      "118 - MultivariateRegression with avg smape 2.76: \n",
      "Model Number: 119 of 161 with model WindowRegression for Validation 1\n",
      "119 - WindowRegression with avg smape 1.82: \n",
      "Model Number: 120 of 161 with model WindowRegression for Validation 1\n",
      "120 - WindowRegression with avg smape 1.78: \n",
      "Model Number: 121 of 161 with model GLM for Validation 1\n",
      "121 - GLM with avg smape 1.84: \n",
      "Model Number: 122 of 161 with model WindowRegression for Validation 1\n",
      "122 - WindowRegression with avg smape 1.74: \n",
      "Model Number: 123 of 161 with model WindowRegression for Validation 1\n",
      "123 - WindowRegression with avg smape 1.81: \n",
      "Model Number: 124 of 161 with model WindowRegression for Validation 1\n",
      "124 - WindowRegression with avg smape 14.82: \n",
      "Model Number: 125 of 161 with model UnivariateRegression for Validation 1\n",
      "125 - UnivariateRegression with avg smape 1.55: \n",
      "Model Number: 126 of 161 with model ConstantNaive for Validation 1\n",
      "126 - ConstantNaive with avg smape 2.04: \n",
      "Model Number: 127 of 161 with model ConstantNaive for Validation 1\n",
      "127 - ConstantNaive with avg smape 2.04: \n",
      "Model Number: 128 of 161 with model ConstantNaive for Validation 1\n",
      "128 - ConstantNaive with avg smape 2.03: \n",
      "Model Number: 129 of 161 with model UnivariateRegression for Validation 1\n",
      "129 - UnivariateRegression with avg smape 2.59: \n",
      "Model Number: 130 of 161 with model GLM for Validation 1\n",
      "130 - GLM with avg smape 1.71: \n",
      "Model Number: 131 of 161 with model GLM for Validation 1\n",
      "131 - GLM with avg smape 1.71: \n",
      "Model Number: 132 of 161 with model ConstantNaive for Validation 1\n",
      "132 - ConstantNaive with avg smape 2.01: \n",
      "Model Number: 133 of 161 with model ConstantNaive for Validation 1\n",
      "133 - ConstantNaive with avg smape 2.01: \n",
      "Model Number: 134 of 161 with model SectionalMotif for Validation 1\n",
      "134 - SectionalMotif with avg smape 1.38: \n",
      "Model Number: 135 of 161 with model SectionalMotif for Validation 1\n",
      "135 - SectionalMotif with avg smape 8.03: \n",
      "Model Number: 136 of 161 with model ConstantNaive for Validation 1\n",
      "136 - ConstantNaive with avg smape 1.95: \n",
      "Model Number: 137 of 161 with model GLM for Validation 1\n",
      "137 - GLM with avg smape 2.03: \n",
      "Model Number: 138 of 161 with model SectionalMotif for Validation 1\n",
      "138 - SectionalMotif with avg smape 2.04: \n",
      "Model Number: 139 of 161 with model UnivariateRegression for Validation 1\n",
      "139 - UnivariateRegression with avg smape 1.65: \n",
      "Model Number: 140 of 161 with model SeasonalNaive for Validation 1\n",
      "140 - SeasonalNaive with avg smape 5.48: \n",
      "Model Number: 141 of 161 with model DatepartRegression for Validation 1\n",
      "141 - DatepartRegression with avg smape 7.2: \n",
      "Model Number: 142 of 161 with model UnivariateRegression for Validation 1\n",
      "142 - UnivariateRegression with avg smape 4.31: \n",
      "Model Number: 143 of 161 with model DatepartRegression for Validation 1\n",
      "143 - DatepartRegression with avg smape 6.66: \n",
      "Model Number: 144 of 161 with model SectionalMotif for Validation 1\n",
      "144 - SectionalMotif with avg smape 2.95: \n",
      "Model Number: 145 of 161 with model DatepartRegression for Validation 1\n",
      "145 - DatepartRegression with avg smape 6.7: \n",
      "Model Number: 146 of 161 with model DatepartRegression for Validation 1\n",
      "146 - DatepartRegression with avg smape 6.7: \n",
      "Model Number: 147 of 161 with model SeasonalNaive for Validation 1\n",
      "147 - SeasonalNaive with avg smape 2.0: \n",
      "Model Number: 148 of 161 with model SeasonalNaive for Validation 1\n",
      "148 - SeasonalNaive with avg smape 1.85: \n",
      "Model Number: 149 of 161 with model DatepartRegression for Validation 1\n",
      "149 - DatepartRegression with avg smape 5.16: \n",
      "Model Number: 150 of 161 with model DatepartRegression for Validation 1\n",
      "150 - DatepartRegression with avg smape 5.15: \n",
      "Model Number: 151 of 161 with model DatepartRegression for Validation 1\n",
      "151 - DatepartRegression with avg smape 8.59: \n",
      "Model Number: 152 of 161 with model SeasonalNaive for Validation 1\n",
      "152 - SeasonalNaive with avg smape 5.03: \n",
      "Model Number: 153 of 161 with model SeasonalNaive for Validation 1\n",
      "153 - SeasonalNaive with avg smape 1.67: \n",
      "Model Number: 154 of 161 with model SeasonalNaive for Validation 1\n",
      "154 - SeasonalNaive with avg smape 2.54: \n",
      "Model Number: 155 of 161 with model SeasonalNaive for Validation 1\n",
      "155 - SeasonalNaive with avg smape 4.8: \n",
      "Model Number: 156 of 161 with model SeasonalNaive for Validation 1\n",
      "156 - SeasonalNaive with avg smape 1.95: \n",
      "Model Number: 157 of 161 with model GLM for Validation 1\n",
      "157 - GLM with avg smape 1.79: \n",
      "Model Number: 158 of 161 with model DatepartRegression for Validation 1\n"
     ]
    },
    {
     "name": "stderr",
     "output_type": "stream",
     "text": [
      "C:\\Users\\darkp\\anaconda3\\lib\\site-packages\\sklearn\\_loss\\glm_distribution.py:132: RuntimeWarning: divide by zero encountered in true_divide\n",
      "  return -2 * (y - y_pred) / self.unit_variance(y_pred)\n",
      "C:\\Users\\darkp\\anaconda3\\lib\\site-packages\\sklearn\\linear_model\\_glm\\glm.py:42: RuntimeWarning: invalid value encountered in multiply\n",
      "  temp = d1 * family.deviance_derivative(y, y_pred, weights)\n",
      "C:\\Users\\darkp\\anaconda3\\lib\\site-packages\\sklearn\\_loss\\glm_distribution.py:330: RuntimeWarning: divide by zero encountered in power\n",
      "  - y * np.power(y_pred, 1 - p) / (1 - p)\n",
      "[Parallel(n_jobs=-2)]: Using backend ThreadingBackend with 7 concurrent workers.\n",
      "[Parallel(n_jobs=-2)]: Done  36 tasks      | elapsed:    0.0s\n",
      "[Parallel(n_jobs=-2)]: Done 100 out of 100 | elapsed:    0.0s finished\n",
      "[Parallel(n_jobs=7)]: Using backend ThreadingBackend with 7 concurrent workers.\n",
      "[Parallel(n_jobs=7)]: Done  36 tasks      | elapsed:    0.0s\n",
      "[Parallel(n_jobs=7)]: Done 100 out of 100 | elapsed:    0.0s finished\n"
     ]
    },
    {
     "name": "stdout",
     "output_type": "stream",
     "text": [
      "158 - DatepartRegression with avg smape 2.84: \n",
      "Model Number: 159 of 161 with model DatepartRegression for Validation 1\n",
      "159 - DatepartRegression with avg smape 2.47: \n",
      "Model Number: 160 of 161 with model GLM for Validation 1\n"
     ]
    },
    {
     "name": "stderr",
     "output_type": "stream",
     "text": [
      "[Parallel(n_jobs=-2)]: Using backend ThreadingBackend with 7 concurrent workers.\n",
      "[Parallel(n_jobs=-2)]: Done  36 tasks      | elapsed:    0.0s\n",
      "[Parallel(n_jobs=-2)]: Done 100 out of 100 | elapsed:    0.0s finished\n",
      "[Parallel(n_jobs=7)]: Using backend ThreadingBackend with 7 concurrent workers.\n",
      "[Parallel(n_jobs=7)]: Done  36 tasks      | elapsed:    0.0s\n",
      "[Parallel(n_jobs=7)]: Done 100 out of 100 | elapsed:    0.0s finished\n"
     ]
    },
    {
     "name": "stdout",
     "output_type": "stream",
     "text": [
      "160 - GLM with avg smape 1.74: \n",
      "Model Number: 161 of 161 with model GLM for Validation 1\n",
      "161 - GLM with avg smape 1.74: \n",
      "Validation Round: 2\n",
      "Model Number: 1 of 161 with model Ensemble for Validation 2\n",
      "📈 1 - Ensemble with avg smape 10.1: \n",
      "Model Number: 2 of 161 with model Ensemble for Validation 2\n"
     ]
    },
    {
     "name": "stderr",
     "output_type": "stream",
     "text": [
      "C:\\Users\\darkp\\anaconda3\\lib\\site-packages\\sklearn\\linear_model\\_glm\\link.py:90: RuntimeWarning: overflow encountered in exp\n",
      "  return np.exp(lin_pred)\n",
      "C:\\Users\\darkp\\anaconda3\\lib\\site-packages\\sklearn\\linear_model\\_glm\\link.py:93: RuntimeWarning: overflow encountered in exp\n",
      "  return np.exp(lin_pred)\n",
      "C:\\Users\\darkp\\anaconda3\\lib\\site-packages\\sklearn\\_loss\\glm_distribution.py:132: RuntimeWarning: invalid value encountered in true_divide\n",
      "  return -2 * (y - y_pred) / self.unit_variance(y_pred)\n"
     ]
    },
    {
     "name": "stdout",
     "output_type": "stream",
     "text": [
      "📈 2 - Ensemble with avg smape 9.89: \n",
      "Model Number: 3 of 161 with model UnivariateMotif for Validation 2\n",
      "3 - UnivariateMotif with avg smape 15.23: \n",
      "Model Number: 4 of 161 with model Ensemble for Validation 2\n",
      "4 - Ensemble with avg smape 13.52: \n",
      "Model Number: 5 of 161 with model UnivariateMotif for Validation 2\n",
      "5 - UnivariateMotif with avg smape 15.55: \n",
      "Model Number: 6 of 161 with model UnivariateMotif for Validation 2\n",
      "6 - UnivariateMotif with avg smape 9.89: \n",
      "Model Number: 7 of 161 with model UnivariateMotif for Validation 2\n",
      "7 - UnivariateMotif with avg smape 10.08: \n",
      "Model Number: 8 of 161 with model UnivariateMotif for Validation 2\n",
      "📈 8 - UnivariateMotif with avg smape 7.06: \n",
      "Model Number: 9 of 161 with model Ensemble for Validation 2\n",
      "9 - Ensemble with avg smape 11.85: \n",
      "Model Number: 10 of 161 with model Ensemble for Validation 2\n"
     ]
    },
    {
     "name": "stderr",
     "output_type": "stream",
     "text": [
      "C:\\Users\\darkp\\anaconda3\\lib\\site-packages\\sklearn\\linear_model\\_glm\\link.py:90: RuntimeWarning: overflow encountered in exp\n",
      "  return np.exp(lin_pred)\n",
      "C:\\Users\\darkp\\anaconda3\\lib\\site-packages\\sklearn\\linear_model\\_glm\\link.py:93: RuntimeWarning: overflow encountered in exp\n",
      "  return np.exp(lin_pred)\n",
      "C:\\Users\\darkp\\anaconda3\\lib\\site-packages\\sklearn\\_loss\\glm_distribution.py:132: RuntimeWarning: invalid value encountered in true_divide\n",
      "  return -2 * (y - y_pred) / self.unit_variance(y_pred)\n"
     ]
    },
    {
     "name": "stdout",
     "output_type": "stream",
     "text": [
      "10 - Ensemble with avg smape 11.53: \n",
      "Model Number: 11 of 161 with model Ensemble for Validation 2\n",
      "11 - Ensemble with avg smape 11.53: \n",
      "Model Number: 12 of 161 with model Ensemble for Validation 2\n",
      "12 - Ensemble with avg smape 7.76: \n",
      "Model Number: 13 of 161 with model UnobservedComponents for Validation 2\n",
      "📈 13 - UnobservedComponents with avg smape 2.25: \n",
      "Model Number: 14 of 161 with model GLS for Validation 2\n",
      "14 - GLS with avg smape 19.28: \n",
      "Model Number: 15 of 161 with model GLS for Validation 2\n",
      "15 - GLS with avg smape 19.19: \n",
      "Model Number: 16 of 161 with model GLS for Validation 2\n",
      "16 - GLS with avg smape 19.37: \n",
      "Model Number: 17 of 161 with model Theta for Validation 2\n",
      "17 - Theta with avg smape 3.13: \n",
      "Model Number: 18 of 161 with model Theta for Validation 2\n",
      "18 - Theta with avg smape 3.13: \n",
      "Model Number: 19 of 161 with model GLS for Validation 2\n",
      "19 - GLS with avg smape 19.6: \n",
      "Model Number: 20 of 161 with model GLS for Validation 2\n",
      "20 - GLS with avg smape 19.6: \n",
      "Model Number: 21 of 161 with model Ensemble for Validation 2\n",
      "21 - Ensemble with avg smape 3.77: \n",
      "Model Number: 22 of 161 with model NVAR for Validation 2\n",
      "📈 22 - NVAR with avg smape 2.05: \n",
      "Model Number: 23 of 161 with model NVAR for Validation 2\n",
      "📈 23 - NVAR with avg smape 1.96: \n",
      "Model Number: 24 of 161 with model Theta for Validation 2\n",
      "24 - Theta with avg smape 3.15: \n",
      "Model Number: 25 of 161 with model Theta for Validation 2\n",
      "25 - Theta with avg smape 3.15: \n",
      "Model Number: 26 of 161 with model Theta for Validation 2\n",
      "26 - Theta with avg smape 3.15: \n",
      "Model Number: 27 of 161 with model NVAR for Validation 2\n",
      "27 - NVAR with avg smape 1.97: \n",
      "Model Number: 28 of 161 with model NVAR for Validation 2\n",
      "28 - NVAR with avg smape 2.04: \n",
      "Model Number: 29 of 161 with model Theta for Validation 2\n",
      "29 - Theta with avg smape 3.16: \n",
      "Model Number: 30 of 161 with model Theta for Validation 2\n",
      "30 - Theta with avg smape 3.17: \n",
      "Model Number: 31 of 161 with model NVAR for Validation 2\n",
      "📈 31 - NVAR with avg smape 1.91: \n",
      "Model Number: 32 of 161 with model NVAR for Validation 2\n",
      "32 - NVAR with avg smape 1.91: \n",
      "Model Number: 33 of 161 with model Theta for Validation 2\n",
      "33 - Theta with avg smape 3.07: \n",
      "Model Number: 34 of 161 with model NVAR for Validation 2\n",
      "34 - NVAR with avg smape 1.92: \n",
      "Model Number: 35 of 161 with model NVAR for Validation 2\n",
      "35 - NVAR with avg smape 1.92: \n",
      "Model Number: 36 of 161 with model GLS for Validation 2\n",
      "36 - GLS with avg smape 19.32: \n",
      "Model Number: 37 of 161 with model NVAR for Validation 2\n",
      "37 - NVAR with avg smape 1.91: \n",
      "Model Number: 38 of 161 with model Theta for Validation 2\n",
      "38 - Theta with avg smape 3.08: \n",
      "Model Number: 39 of 161 with model GLS for Validation 2\n",
      "39 - GLS with avg smape 2.32: \n",
      "Model Number: 40 of 161 with model GLS for Validation 2\n",
      "40 - GLS with avg smape 2.32: \n",
      "Model Number: 41 of 161 with model GLS for Validation 2\n",
      "41 - GLS with avg smape 2.29: \n",
      "Model Number: 42 of 161 with model LastValueNaive for Validation 2\n",
      "42 - LastValueNaive with avg smape 6.17: \n",
      "Model Number: 43 of 161 with model LastValueNaive for Validation 2\n",
      "43 - LastValueNaive with avg smape 6.17: \n",
      "Model Number: 44 of 161 with model MultivariateMotif for Validation 2\n",
      "44 - MultivariateMotif with avg smape 2.41: \n",
      "Model Number: 45 of 161 with model AverageValueNaive for Validation 2\n",
      "45 - AverageValueNaive with avg smape 2.21: \n",
      "Model Number: 46 of 161 with model LastValueNaive for Validation 2\n",
      "46 - LastValueNaive with avg smape 4.63: \n",
      "Model Number: 47 of 161 with model LastValueNaive for Validation 2\n",
      "47 - LastValueNaive with avg smape 4.57: \n",
      "Model Number: 48 of 161 with model LastValueNaive for Validation 2\n",
      "48 - LastValueNaive with avg smape 5.31: \n",
      "Model Number: 49 of 161 with model LastValueNaive for Validation 2\n"
     ]
    },
    {
     "name": "stderr",
     "output_type": "stream",
     "text": [
      "C:\\Users\\darkp\\anaconda3\\lib\\site-packages\\sklearn\\_loss\\glm_distribution.py:132: RuntimeWarning: divide by zero encountered in true_divide\n",
      "  return -2 * (y - y_pred) / self.unit_variance(y_pred)\n",
      "C:\\Users\\darkp\\anaconda3\\lib\\site-packages\\sklearn\\linear_model\\_glm\\glm.py:42: RuntimeWarning: invalid value encountered in multiply\n",
      "  temp = d1 * family.deviance_derivative(y, y_pred, weights)\n",
      "C:\\Users\\darkp\\anaconda3\\lib\\site-packages\\sklearn\\_loss\\glm_distribution.py:330: RuntimeWarning: divide by zero encountered in power\n",
      "  - y * np.power(y_pred, 1 - p) / (1 - p)\n"
     ]
    },
    {
     "name": "stdout",
     "output_type": "stream",
     "text": [
      "49 - LastValueNaive with avg smape 6.16: \n",
      "Model Number: 50 of 161 with model LastValueNaive for Validation 2\n",
      "50 - LastValueNaive with avg smape 6.16: \n",
      "Model Number: 51 of 161 with model LastValueNaive for Validation 2\n",
      "51 - LastValueNaive with avg smape 6.16: \n",
      "Model Number: 52 of 161 with model LastValueNaive for Validation 2\n",
      "52 - LastValueNaive with avg smape 6.16: \n",
      "Model Number: 53 of 161 with model MultivariateMotif for Validation 2\n",
      "📈 53 - MultivariateMotif with avg smape 1.82: \n",
      "Model Number: 54 of 161 with model MultivariateMotif for Validation 2\n",
      "📈 54 - MultivariateMotif with avg smape 1.77: \n",
      "Model Number: 55 of 161 with model UnivariateMotif for Validation 2\n",
      "55 - UnivariateMotif with avg smape 6.22: \n",
      "Model Number: 56 of 161 with model UnivariateMotif for Validation 2\n",
      "56 - UnivariateMotif with avg smape 6.22: \n",
      "Model Number: 57 of 161 with model AverageValueNaive for Validation 2\n",
      "57 - AverageValueNaive with avg smape 2.21: \n",
      "Model Number: 58 of 161 with model UnivariateMotif for Validation 2\n"
     ]
    },
    {
     "name": "stderr",
     "output_type": "stream",
     "text": [
      "C:\\Users\\darkp\\anaconda3\\lib\\site-packages\\sklearn\\_loss\\glm_distribution.py:132: RuntimeWarning: divide by zero encountered in true_divide\n",
      "  return -2 * (y - y_pred) / self.unit_variance(y_pred)\n",
      "C:\\Users\\darkp\\anaconda3\\lib\\site-packages\\sklearn\\linear_model\\_glm\\glm.py:42: RuntimeWarning: invalid value encountered in multiply\n",
      "  temp = d1 * family.deviance_derivative(y, y_pred, weights)\n",
      "C:\\Users\\darkp\\anaconda3\\lib\\site-packages\\sklearn\\_loss\\glm_distribution.py:330: RuntimeWarning: divide by zero encountered in power\n",
      "  - y * np.power(y_pred, 1 - p) / (1 - p)\n"
     ]
    },
    {
     "name": "stdout",
     "output_type": "stream",
     "text": [
      "58 - UnivariateMotif with avg smape 10.04: \n",
      "Model Number: 59 of 161 with model AverageValueNaive for Validation 2\n",
      "59 - AverageValueNaive with avg smape 3.36: \n",
      "Model Number: 60 of 161 with model MultivariateMotif for Validation 2\n",
      "60 - MultivariateMotif with avg smape 3.44: \n",
      "Model Number: 61 of 161 with model MultivariateMotif for Validation 2\n",
      "61 - MultivariateMotif with avg smape 1.81: \n",
      "Model Number: 62 of 161 with model UnivariateRegression for Validation 2\n",
      "62 - UnivariateRegression with avg smape 2.27: \n",
      "Model Number: 63 of 161 with model UnivariateMotif for Validation 2\n"
     ]
    },
    {
     "name": "stderr",
     "output_type": "stream",
     "text": [
      "C:\\Users\\darkp\\anaconda3\\lib\\site-packages\\sklearn\\_loss\\glm_distribution.py:132: RuntimeWarning: divide by zero encountered in true_divide\n",
      "  return -2 * (y - y_pred) / self.unit_variance(y_pred)\n",
      "C:\\Users\\darkp\\anaconda3\\lib\\site-packages\\sklearn\\linear_model\\_glm\\glm.py:42: RuntimeWarning: invalid value encountered in multiply\n",
      "  temp = d1 * family.deviance_derivative(y, y_pred, weights)\n",
      "C:\\Users\\darkp\\anaconda3\\lib\\site-packages\\sklearn\\_loss\\glm_distribution.py:323: RuntimeWarning: divide by zero encountered in true_divide\n",
      "  dev = 2 * (xlogy(y, y / y_pred) - y + y_pred)\n"
     ]
    },
    {
     "name": "stdout",
     "output_type": "stream",
     "text": [
      "63 - UnivariateMotif with avg smape 7.8: \n",
      "Model Number: 64 of 161 with model UnobservedComponents for Validation 2\n",
      "64 - UnobservedComponents with avg smape 2.21: \n",
      "Model Number: 65 of 161 with model UnivariateRegression for Validation 2\n",
      "65 - UnivariateRegression with avg smape 4.24: \n",
      "Model Number: 66 of 161 with model MultivariateMotif for Validation 2\n",
      "66 - MultivariateMotif with avg smape 10.16: \n",
      "Model Number: 67 of 161 with model UnobservedComponents for Validation 2\n",
      "67 - UnobservedComponents with avg smape 2.29: \n",
      "Model Number: 68 of 161 with model UnobservedComponents for Validation 2\n",
      "68 - UnobservedComponents with avg smape 2.29: \n",
      "Model Number: 69 of 161 with model MultivariateMotif for Validation 2\n",
      "69 - MultivariateMotif with avg smape 2.04: \n",
      "Model Number: 70 of 161 with model UnobservedComponents for Validation 2\n",
      "70 - UnobservedComponents with avg smape 2.18: \n",
      "Model Number: 71 of 161 with model UnobservedComponents for Validation 2\n",
      "71 - UnobservedComponents with avg smape 2.14: \n",
      "Model Number: 72 of 161 with model UnobservedComponents for Validation 2\n",
      "72 - UnobservedComponents with avg smape 2.29: \n",
      "Model Number: 73 of 161 with model ConstantNaive for Validation 2\n",
      "73 - ConstantNaive with avg smape 2.17: \n",
      "Model Number: 74 of 161 with model ConstantNaive for Validation 2\n",
      "74 - ConstantNaive with avg smape 2.32: \n",
      "Model Number: 75 of 161 with model UnobservedComponents for Validation 2\n",
      "75 - UnobservedComponents with avg smape 2.51: \n",
      "Model Number: 76 of 161 with model AverageValueNaive for Validation 2\n",
      "76 - AverageValueNaive with avg smape 2.4: \n",
      "Model Number: 77 of 161 with model UnobservedComponents for Validation 2\n",
      "77 - UnobservedComponents with avg smape 2.29: \n",
      "Model Number: 78 of 161 with model AverageValueNaive for Validation 2\n",
      "78 - AverageValueNaive with avg smape 1.97: \n",
      "Model Number: 79 of 161 with model AverageValueNaive for Validation 2\n",
      "79 - AverageValueNaive with avg smape 2.08: \n",
      "Model Number: 80 of 161 with model MultivariateMotif for Validation 2\n",
      "80 - MultivariateMotif with avg smape 1.97: \n",
      "Model Number: 81 of 161 with model ConstantNaive for Validation 2\n",
      "81 - ConstantNaive with avg smape 5.9: \n",
      "Model Number: 82 of 161 with model AverageValueNaive for Validation 2\n",
      "82 - AverageValueNaive with avg smape 2.61: \n",
      "Model Number: 83 of 161 with model SectionalMotif for Validation 2\n"
     ]
    },
    {
     "name": "stderr",
     "output_type": "stream",
     "text": [
      "C:\\Users\\darkp\\anaconda3\\lib\\site-packages\\sklearn\\_loss\\glm_distribution.py:132: RuntimeWarning: divide by zero encountered in true_divide\n",
      "  return -2 * (y - y_pred) / self.unit_variance(y_pred)\n",
      "C:\\Users\\darkp\\anaconda3\\lib\\site-packages\\sklearn\\linear_model\\_glm\\glm.py:42: RuntimeWarning: invalid value encountered in multiply\n",
      "  temp = d1 * family.deviance_derivative(y, y_pred, weights)\n",
      "C:\\Users\\darkp\\anaconda3\\lib\\site-packages\\sklearn\\_loss\\glm_distribution.py:323: RuntimeWarning: divide by zero encountered in true_divide\n",
      "  dev = 2 * (xlogy(y, y / y_pred) - y + y_pred)\n"
     ]
    },
    {
     "name": "stdout",
     "output_type": "stream",
     "text": [
      "83 - SectionalMotif with avg smape 9.62: \n",
      "Model Number: 84 of 161 with model WindowRegression for Validation 2\n",
      "📈 84 - WindowRegression with avg smape 1.64: \n",
      "Model Number: 85 of 161 with model AverageValueNaive for Validation 2\n",
      "85 - AverageValueNaive with avg smape 2.02: \n",
      "Model Number: 86 of 161 with model MultivariateMotif for Validation 2\n",
      "86 - MultivariateMotif with avg smape 10.92: \n",
      "Model Number: 87 of 161 with model AverageValueNaive for Validation 2\n",
      "87 - AverageValueNaive with avg smape 2.21: \n",
      "Model Number: 88 of 161 with model MultivariateRegression for Validation 2\n"
     ]
    },
    {
     "name": "stderr",
     "output_type": "stream",
     "text": [
      "[Parallel(n_jobs=-2)]: Using backend ThreadingBackend with 7 concurrent workers.\n",
      "[Parallel(n_jobs=-2)]: Done  36 tasks      | elapsed:    0.0s\n",
      "[Parallel(n_jobs=-2)]: Done 186 tasks      | elapsed:    0.1s\n",
      "[Parallel(n_jobs=-2)]: Done 300 out of 300 | elapsed:    0.2s finished\n",
      "[Parallel(n_jobs=7)]: Using backend ThreadingBackend with 7 concurrent workers.\n",
      "[Parallel(n_jobs=7)]: Done  36 tasks      | elapsed:    0.0s\n",
      "[Parallel(n_jobs=7)]: Done 186 tasks      | elapsed:    0.0s\n",
      "[Parallel(n_jobs=7)]: Done 300 out of 300 | elapsed:    0.0s finished\n",
      "[Parallel(n_jobs=7)]: Using backend ThreadingBackend with 7 concurrent workers.\n",
      "[Parallel(n_jobs=7)]: Done  36 tasks      | elapsed:    0.0s\n",
      "[Parallel(n_jobs=7)]: Done 186 tasks      | elapsed:    0.0s\n",
      "[Parallel(n_jobs=7)]: Done 300 out of 300 | elapsed:    0.0s finished\n",
      "[Parallel(n_jobs=7)]: Using backend ThreadingBackend with 7 concurrent workers.\n",
      "[Parallel(n_jobs=7)]: Done  36 tasks      | elapsed:    0.0s\n",
      "[Parallel(n_jobs=7)]: Done 186 tasks      | elapsed:    0.0s\n",
      "[Parallel(n_jobs=7)]: Done 300 out of 300 | elapsed:    0.0s finished\n",
      "[Parallel(n_jobs=7)]: Using backend ThreadingBackend with 7 concurrent workers.\n",
      "[Parallel(n_jobs=7)]: Done  36 tasks      | elapsed:    0.0s\n",
      "[Parallel(n_jobs=7)]: Done 186 tasks      | elapsed:    0.0s\n",
      "[Parallel(n_jobs=7)]: Done 300 out of 300 | elapsed:    0.0s finished\n"
     ]
    },
    {
     "name": "stdout",
     "output_type": "stream",
     "text": [
      "88 - MultivariateRegression with avg smape 3.66: \n",
      "Model Number: 89 of 161 with model SectionalMotif for Validation 2\n",
      "89 - SectionalMotif with avg smape 10.75: \n",
      "Model Number: 90 of 161 with model ETS for Validation 2\n",
      "90 - ETS with avg smape 2.68: \n",
      "Model Number: 91 of 161 with model ETS for Validation 2\n"
     ]
    },
    {
     "name": "stderr",
     "output_type": "stream",
     "text": [
      "[Parallel(n_jobs=7)]: Using backend ThreadingBackend with 7 concurrent workers.\n",
      "[Parallel(n_jobs=7)]: Done  36 tasks      | elapsed:    0.0s\n",
      "[Parallel(n_jobs=7)]: Done 186 tasks      | elapsed:    0.0s\n",
      "[Parallel(n_jobs=7)]: Done 300 out of 300 | elapsed:    0.0s finished\n"
     ]
    },
    {
     "name": "stdout",
     "output_type": "stream",
     "text": [
      "91 - ETS with avg smape 2.66: \n",
      "Model Number: 92 of 161 with model ETS for Validation 2\n",
      "ETS error ValueError('endog must be strictly positive when usingmultiplicative trend or seasonal components.')\n",
      "ETS failed on Close with ValueError('endog must be strictly positive when usingmultiplicative trend or seasonal components.')\n",
      "92 - ETS with avg smape 5.95: \n",
      "Model Number: 93 of 161 with model MultivariateRegression for Validation 2\n",
      "93 - MultivariateRegression with avg smape 2.27: \n",
      "Model Number: 94 of 161 with model SectionalMotif for Validation 2\n",
      "94 - SectionalMotif with avg smape 1.66: \n",
      "Model Number: 95 of 161 with model SeasonalNaive for Validation 2\n",
      "95 - SeasonalNaive with avg smape 5.06: \n",
      "Model Number: 96 of 161 with model MultivariateRegression for Validation 2\n"
     ]
    },
    {
     "name": "stderr",
     "output_type": "stream",
     "text": [
      "C:\\Users\\darkp\\anaconda3\\lib\\site-packages\\sklearn\\linear_model\\_glm\\link.py:90: RuntimeWarning: overflow encountered in exp\n",
      "  return np.exp(lin_pred)\n",
      "C:\\Users\\darkp\\anaconda3\\lib\\site-packages\\sklearn\\linear_model\\_glm\\link.py:93: RuntimeWarning: overflow encountered in exp\n",
      "  return np.exp(lin_pred)\n",
      "C:\\Users\\darkp\\anaconda3\\lib\\site-packages\\sklearn\\_loss\\glm_distribution.py:132: RuntimeWarning: invalid value encountered in true_divide\n",
      "  return -2 * (y - y_pred) / self.unit_variance(y_pred)\n",
      "C:\\Users\\darkp\\anaconda3\\lib\\site-packages\\sklearn\\_loss\\glm_distribution.py:323: RuntimeWarning: invalid value encountered in add\n",
      "  dev = 2 * (xlogy(y, y / y_pred) - y + y_pred)\n",
      "C:\\Users\\darkp\\anaconda3\\lib\\site-packages\\sklearn\\linear_model\\_glm\\glm.py:323: ConvergenceWarning: lbfgs failed to converge (status=2):\n",
      "ABNORMAL_TERMINATION_IN_LNSRCH.\n",
      "\n",
      "Increase the number of iterations (max_iter) or scale the data as shown in:\n",
      "    https://scikit-learn.org/stable/modules/preprocessing.html\n",
      "  self.n_iter_ = _check_optimize_result(\"lbfgs\", opt_res)\n"
     ]
    },
    {
     "name": "stdout",
     "output_type": "stream",
     "text": [
      "96 - MultivariateRegression with avg smape 16.07: \n",
      "Model Number: 97 of 161 with model ETS for Validation 2\n",
      "97 - ETS with avg smape 2.19: \n",
      "Model Number: 98 of 161 with model ETS for Validation 2\n",
      "98 - ETS with avg smape 2.16: \n",
      "Model Number: 99 of 161 with model ETS for Validation 2\n",
      "99 - ETS with avg smape 2.15: \n",
      "Model Number: 100 of 161 with model WindowRegression for Validation 2\n",
      "100 - WindowRegression with avg smape 2.36: \n",
      "Model Number: 101 of 161 with model UnivariateRegression for Validation 2\n",
      "101 - UnivariateRegression with avg smape 2.12: \n",
      "Model Number: 102 of 161 with model MultivariateRegression for Validation 2\n",
      "102 - MultivariateRegression with avg smape 2.81: \n",
      "Model Number: 103 of 161 with model ETS for Validation 2\n",
      "103 - ETS with avg smape 2.11: \n",
      "Model Number: 104 of 161 with model SectionalMotif for Validation 2\n",
      "📈 104 - SectionalMotif with avg smape 1.57: \n",
      "Model Number: 105 of 161 with model MultivariateRegression for Validation 2\n"
     ]
    },
    {
     "name": "stderr",
     "output_type": "stream",
     "text": [
      "C:\\Users\\darkp\\anaconda3\\lib\\site-packages\\scipy\\interpolate\\polyint.py:545: RuntimeWarning: overflow encountered in multiply\n",
      "  self.wi[:j] *= (self.xi[j]-self.xi[:j])\n",
      "C:\\Users\\darkp\\anaconda3\\lib\\site-packages\\scipy\\interpolate\\polyint.py:546: RuntimeWarning: overflow encountered in reduce\n",
      "  self.wi[j] = np.multiply.reduce(self.xi[:j]-self.xi[j])\n",
      "C:\\Users\\darkp\\anaconda3\\lib\\site-packages\\scipy\\interpolate\\polyint.py:643: RuntimeWarning: invalid value encountered in true_divide\n",
      "  p = np.dot(c,self.yi)/np.sum(c,axis=-1)[...,np.newaxis]\n",
      "[Parallel(n_jobs=-2)]: Using backend ThreadingBackend with 7 concurrent workers.\n",
      "[Parallel(n_jobs=-2)]: Done  36 tasks      | elapsed:    0.0s\n",
      "[Parallel(n_jobs=-2)]: Done 186 tasks      | elapsed:    0.1s\n",
      "[Parallel(n_jobs=-2)]: Done 300 out of 300 | elapsed:    0.2s finished\n",
      "[Parallel(n_jobs=7)]: Using backend ThreadingBackend with 7 concurrent workers.\n",
      "[Parallel(n_jobs=7)]: Done  36 tasks      | elapsed:    0.0s\n",
      "[Parallel(n_jobs=7)]: Done 186 tasks      | elapsed:    0.0s\n",
      "[Parallel(n_jobs=7)]: Done 300 out of 300 | elapsed:    0.0s finished\n",
      "[Parallel(n_jobs=7)]: Using backend ThreadingBackend with 7 concurrent workers.\n",
      "[Parallel(n_jobs=7)]: Done  36 tasks      | elapsed:    0.0s\n",
      "[Parallel(n_jobs=7)]: Done 186 tasks      | elapsed:    0.0s\n",
      "[Parallel(n_jobs=7)]: Done 300 out of 300 | elapsed:    0.0s finished\n",
      "[Parallel(n_jobs=7)]: Using backend ThreadingBackend with 7 concurrent workers.\n",
      "[Parallel(n_jobs=7)]: Done  36 tasks      | elapsed:    0.0s\n",
      "[Parallel(n_jobs=7)]: Done 186 tasks      | elapsed:    0.0s\n",
      "[Parallel(n_jobs=7)]: Done 300 out of 300 | elapsed:    0.0s finished\n",
      "[Parallel(n_jobs=7)]: Using backend ThreadingBackend with 7 concurrent workers.\n",
      "[Parallel(n_jobs=7)]: Done  36 tasks      | elapsed:    0.0s\n",
      "[Parallel(n_jobs=7)]: Done 186 tasks      | elapsed:    0.0s\n",
      "[Parallel(n_jobs=7)]: Done 300 out of 300 | elapsed:    0.0s finished\n",
      "[Parallel(n_jobs=7)]: Using backend ThreadingBackend with 7 concurrent workers.\n",
      "[Parallel(n_jobs=7)]: Done  36 tasks      | elapsed:    0.0s\n",
      "[Parallel(n_jobs=7)]: Done 186 tasks      | elapsed:    0.0s\n",
      "[Parallel(n_jobs=7)]: Done 300 out of 300 | elapsed:    0.0s finished\n"
     ]
    },
    {
     "name": "stdout",
     "output_type": "stream",
     "text": [
      "105 - MultivariateRegression with avg smape 6.91: \n",
      "Model Number: 106 of 161 with model UnivariateRegression for Validation 2\n",
      "106 - UnivariateRegression with avg smape 3.36: \n",
      "Model Number: 107 of 161 with model ETS for Validation 2\n",
      "107 - ETS with avg smape 2.34: \n",
      "Model Number: 108 of 161 with model UnivariateRegression for Validation 2\n",
      "108 - UnivariateRegression with avg smape 2.31: \n",
      "Model Number: 109 of 161 with model SectionalMotif for Validation 2\n",
      "109 - SectionalMotif with avg smape 5.5: \n",
      "Model Number: 110 of 161 with model WindowRegression for Validation 2\n",
      "110 - WindowRegression with avg smape 13.96: \n",
      "Model Number: 111 of 161 with model ETS for Validation 2\n",
      "111 - ETS with avg smape 2.21: \n",
      "Model Number: 112 of 161 with model GLM for Validation 2\n",
      "112 - GLM with avg smape 2.21: \n",
      "Model Number: 113 of 161 with model MultivariateRegression for Validation 2\n"
     ]
    },
    {
     "name": "stderr",
     "output_type": "stream",
     "text": [
      "[Parallel(n_jobs=-2)]: Using backend ThreadingBackend with 7 concurrent workers.\n",
      "[Parallel(n_jobs=-2)]: Done  36 tasks      | elapsed:    0.0s\n",
      "[Parallel(n_jobs=-2)]: Done 186 tasks      | elapsed:    0.1s\n",
      "[Parallel(n_jobs=-2)]: Done 300 out of 300 | elapsed:    0.2s finished\n",
      "[Parallel(n_jobs=7)]: Using backend ThreadingBackend with 7 concurrent workers.\n",
      "[Parallel(n_jobs=7)]: Done  36 tasks      | elapsed:    0.0s\n",
      "[Parallel(n_jobs=7)]: Done 186 tasks      | elapsed:    0.0s\n",
      "[Parallel(n_jobs=7)]: Done 300 out of 300 | elapsed:    0.0s finished\n",
      "[Parallel(n_jobs=7)]: Using backend ThreadingBackend with 7 concurrent workers.\n",
      "[Parallel(n_jobs=7)]: Done  36 tasks      | elapsed:    0.0s\n",
      "[Parallel(n_jobs=7)]: Done 186 tasks      | elapsed:    0.0s\n",
      "[Parallel(n_jobs=7)]: Done 300 out of 300 | elapsed:    0.0s finished\n",
      "[Parallel(n_jobs=7)]: Using backend ThreadingBackend with 7 concurrent workers.\n",
      "[Parallel(n_jobs=7)]: Done  36 tasks      | elapsed:    0.0s\n",
      "[Parallel(n_jobs=7)]: Done 186 tasks      | elapsed:    0.0s\n",
      "[Parallel(n_jobs=7)]: Done 300 out of 300 | elapsed:    0.0s finished\n",
      "[Parallel(n_jobs=7)]: Using backend ThreadingBackend with 7 concurrent workers.\n",
      "[Parallel(n_jobs=7)]: Done  36 tasks      | elapsed:    0.0s\n",
      "[Parallel(n_jobs=7)]: Done 186 tasks      | elapsed:    0.0s\n",
      "[Parallel(n_jobs=7)]: Done 300 out of 300 | elapsed:    0.0s finished\n",
      "[Parallel(n_jobs=7)]: Using backend ThreadingBackend with 7 concurrent workers.\n",
      "[Parallel(n_jobs=7)]: Done  36 tasks      | elapsed:    0.0s\n",
      "[Parallel(n_jobs=7)]: Done 186 tasks      | elapsed:    0.0s\n"
     ]
    },
    {
     "name": "stdout",
     "output_type": "stream",
     "text": [
      "113 - MultivariateRegression with avg smape 9.33: \n",
      "Model Number: 114 of 161 with model WindowRegression for Validation 2\n"
     ]
    },
    {
     "name": "stderr",
     "output_type": "stream",
     "text": [
      "[Parallel(n_jobs=7)]: Done 300 out of 300 | elapsed:    0.0s finished\n"
     ]
    },
    {
     "name": "stdout",
     "output_type": "stream",
     "text": [
      "114 - WindowRegression with avg smape 6.13: \n",
      "Model Number: 115 of 161 with model MultivariateRegression for Validation 2\n",
      "115 - MultivariateRegression with avg smape 2.59: \n",
      "Model Number: 116 of 161 with model GLM for Validation 2\n",
      "116 - GLM with avg smape 2.15: \n",
      "Model Number: 117 of 161 with model MultivariateRegression for Validation 2\n"
     ]
    },
    {
     "name": "stderr",
     "output_type": "stream",
     "text": [
      "C:\\Users\\darkp\\anaconda3\\lib\\site-packages\\sklearn\\_loss\\glm_distribution.py:132: RuntimeWarning: divide by zero encountered in true_divide\n",
      "  return -2 * (y - y_pred) / self.unit_variance(y_pred)\n",
      "C:\\Users\\darkp\\anaconda3\\lib\\site-packages\\sklearn\\linear_model\\_glm\\glm.py:42: RuntimeWarning: invalid value encountered in multiply\n",
      "  temp = d1 * family.deviance_derivative(y, y_pred, weights)\n",
      "C:\\Users\\darkp\\anaconda3\\lib\\site-packages\\sklearn\\_loss\\glm_distribution.py:330: RuntimeWarning: divide by zero encountered in power\n",
      "  - y * np.power(y_pred, 1 - p) / (1 - p)\n",
      "C:\\Users\\darkp\\anaconda3\\lib\\site-packages\\sklearn\\linear_model\\_glm\\link.py:90: RuntimeWarning: overflow encountered in exp\n",
      "  return np.exp(lin_pred)\n",
      "C:\\Users\\darkp\\anaconda3\\lib\\site-packages\\sklearn\\linear_model\\_glm\\link.py:93: RuntimeWarning: overflow encountered in exp\n",
      "  return np.exp(lin_pred)\n",
      "C:\\Users\\darkp\\anaconda3\\lib\\site-packages\\sklearn\\_loss\\glm_distribution.py:132: RuntimeWarning: invalid value encountered in true_divide\n",
      "  return -2 * (y - y_pred) / self.unit_variance(y_pred)\n"
     ]
    },
    {
     "name": "stdout",
     "output_type": "stream",
     "text": [
      "117 - MultivariateRegression with avg smape 5.36: \n",
      "Model Number: 118 of 161 with model MultivariateRegression for Validation 2\n",
      "118 - MultivariateRegression with avg smape 6.3: \n",
      "Model Number: 119 of 161 with model WindowRegression for Validation 2\n",
      "119 - WindowRegression with avg smape 2.08: \n",
      "Model Number: 120 of 161 with model WindowRegression for Validation 2\n",
      "120 - WindowRegression with avg smape 2.05: \n",
      "Model Number: 121 of 161 with model GLM for Validation 2\n",
      "121 - GLM with avg smape 2.37: \n",
      "Model Number: 122 of 161 with model WindowRegression for Validation 2\n",
      "122 - WindowRegression with avg smape 2.06: \n",
      "Model Number: 123 of 161 with model WindowRegression for Validation 2\n",
      "123 - WindowRegression with avg smape 2.01: \n",
      "Model Number: 124 of 161 with model WindowRegression for Validation 2\n",
      "124 - WindowRegression with avg smape 25.49: \n",
      "Model Number: 125 of 161 with model UnivariateRegression for Validation 2\n",
      "125 - UnivariateRegression with avg smape 2.49: \n",
      "Model Number: 126 of 161 with model ConstantNaive for Validation 2\n",
      "126 - ConstantNaive with avg smape 2.79: \n",
      "Model Number: 127 of 161 with model ConstantNaive for Validation 2\n",
      "127 - ConstantNaive with avg smape 2.79: \n",
      "Model Number: 128 of 161 with model ConstantNaive for Validation 2\n",
      "128 - ConstantNaive with avg smape 2.79: \n",
      "Model Number: 129 of 161 with model UnivariateRegression for Validation 2\n",
      "129 - UnivariateRegression with avg smape 7.97: \n",
      "Model Number: 130 of 161 with model GLM for Validation 2\n",
      "130 - GLM with avg smape 2.15: \n",
      "Model Number: 131 of 161 with model GLM for Validation 2\n",
      "131 - GLM with avg smape 2.15: \n",
      "Model Number: 132 of 161 with model ConstantNaive for Validation 2\n",
      "132 - ConstantNaive with avg smape 2.81: \n",
      "Model Number: 133 of 161 with model ConstantNaive for Validation 2\n",
      "133 - ConstantNaive with avg smape 2.81: \n",
      "Model Number: 134 of 161 with model SectionalMotif for Validation 2\n",
      "134 - SectionalMotif with avg smape 10.07: \n",
      "Model Number: 135 of 161 with model SectionalMotif for Validation 2\n",
      "135 - SectionalMotif with avg smape 2.49: \n",
      "Model Number: 136 of 161 with model ConstantNaive for Validation 2\n",
      "136 - ConstantNaive with avg smape 2.92: \n",
      "Model Number: 137 of 161 with model GLM for Validation 2\n",
      "137 - GLM with avg smape 2.94: \n",
      "Model Number: 138 of 161 with model SectionalMotif for Validation 2\n",
      "138 - SectionalMotif with avg smape 3.31: \n",
      "Model Number: 139 of 161 with model UnivariateRegression for Validation 2\n",
      "139 - UnivariateRegression with avg smape 2.07: \n",
      "Model Number: 140 of 161 with model SeasonalNaive for Validation 2\n",
      "140 - SeasonalNaive with avg smape 1.61: \n",
      "Model Number: 141 of 161 with model DatepartRegression for Validation 2\n",
      "141 - DatepartRegression with avg smape 8.9: \n",
      "Model Number: 142 of 161 with model UnivariateRegression for Validation 2\n",
      "142 - UnivariateRegression with avg smape 1.85: \n",
      "Model Number: 143 of 161 with model DatepartRegression for Validation 2\n",
      "143 - DatepartRegression with avg smape 8.36: \n",
      "Model Number: 144 of 161 with model SectionalMotif for Validation 2\n",
      "144 - SectionalMotif with avg smape 2.44: \n",
      "Model Number: 145 of 161 with model DatepartRegression for Validation 2\n",
      "145 - DatepartRegression with avg smape 8.62: \n",
      "Model Number: 146 of 161 with model DatepartRegression for Validation 2\n",
      "146 - DatepartRegression with avg smape 8.64: \n",
      "Model Number: 147 of 161 with model SeasonalNaive for Validation 2\n",
      "147 - SeasonalNaive with avg smape 2.84: \n",
      "Model Number: 148 of 161 with model SeasonalNaive for Validation 2\n",
      "148 - SeasonalNaive with avg smape 5.88: \n",
      "Model Number: 149 of 161 with model DatepartRegression for Validation 2\n",
      "149 - DatepartRegression with avg smape 5.76: \n",
      "Model Number: 150 of 161 with model DatepartRegression for Validation 2\n",
      "150 - DatepartRegression with avg smape 5.77: \n",
      "Model Number: 151 of 161 with model DatepartRegression for Validation 2\n",
      "151 - DatepartRegression with avg smape 5.74: \n",
      "Model Number: 152 of 161 with model SeasonalNaive for Validation 2\n",
      "152 - SeasonalNaive with avg smape 1.69: \n",
      "Model Number: 153 of 161 with model SeasonalNaive for Validation 2\n",
      "153 - SeasonalNaive with avg smape 2.77: \n",
      "Model Number: 154 of 161 with model SeasonalNaive for Validation 2\n",
      "154 - SeasonalNaive with avg smape 9.9: \n",
      "Model Number: 155 of 161 with model SeasonalNaive for Validation 2\n",
      "155 - SeasonalNaive with avg smape 2.13: \n",
      "Model Number: 156 of 161 with model SeasonalNaive for Validation 2\n",
      "156 - SeasonalNaive with avg smape 2.2: \n",
      "Model Number: 157 of 161 with model GLM for Validation 2\n",
      "157 - GLM with avg smape 3.53: \n",
      "Model Number: 158 of 161 with model DatepartRegression for Validation 2\n"
     ]
    },
    {
     "name": "stderr",
     "output_type": "stream",
     "text": [
      "C:\\Users\\darkp\\anaconda3\\lib\\site-packages\\sklearn\\_loss\\glm_distribution.py:132: RuntimeWarning: divide by zero encountered in true_divide\n",
      "  return -2 * (y - y_pred) / self.unit_variance(y_pred)\n",
      "C:\\Users\\darkp\\anaconda3\\lib\\site-packages\\sklearn\\linear_model\\_glm\\glm.py:42: RuntimeWarning: invalid value encountered in multiply\n",
      "  temp = d1 * family.deviance_derivative(y, y_pred, weights)\n",
      "C:\\Users\\darkp\\anaconda3\\lib\\site-packages\\sklearn\\_loss\\glm_distribution.py:330: RuntimeWarning: divide by zero encountered in power\n",
      "  - y * np.power(y_pred, 1 - p) / (1 - p)\n",
      "[Parallel(n_jobs=-2)]: Using backend ThreadingBackend with 7 concurrent workers.\n",
      "[Parallel(n_jobs=-2)]: Done  36 tasks      | elapsed:    0.0s\n",
      "[Parallel(n_jobs=-2)]: Done 100 out of 100 | elapsed:    0.0s finished\n",
      "[Parallel(n_jobs=7)]: Using backend ThreadingBackend with 7 concurrent workers.\n",
      "[Parallel(n_jobs=7)]: Done  36 tasks      | elapsed:    0.0s\n",
      "[Parallel(n_jobs=7)]: Done 100 out of 100 | elapsed:    0.0s finished\n"
     ]
    },
    {
     "name": "stdout",
     "output_type": "stream",
     "text": [
      "158 - DatepartRegression with avg smape 8.01: \n",
      "Model Number: 159 of 161 with model DatepartRegression for Validation 2\n"
     ]
    },
    {
     "name": "stderr",
     "output_type": "stream",
     "text": [
      "[Parallel(n_jobs=-2)]: Using backend ThreadingBackend with 7 concurrent workers.\n",
      "[Parallel(n_jobs=-2)]: Done  36 tasks      | elapsed:    0.0s\n",
      "[Parallel(n_jobs=-2)]: Done 100 out of 100 | elapsed:    0.0s finished\n",
      "[Parallel(n_jobs=7)]: Using backend ThreadingBackend with 7 concurrent workers.\n",
      "[Parallel(n_jobs=7)]: Done  36 tasks      | elapsed:    0.0s\n",
      "[Parallel(n_jobs=7)]: Done 100 out of 100 | elapsed:    0.0s finished\n"
     ]
    },
    {
     "name": "stdout",
     "output_type": "stream",
     "text": [
      "159 - DatepartRegression with avg smape 12.31: \n",
      "Model Number: 160 of 161 with model GLM for Validation 2\n",
      "160 - GLM with avg smape 4.07: \n",
      "Model Number: 161 of 161 with model GLM for Validation 2\n",
      "161 - GLM with avg smape 4.07: \n",
      "Validation Round: 3\n",
      "Model Number: 1 of 161 with model Ensemble for Validation 3\n"
     ]
    },
    {
     "name": "stderr",
     "output_type": "stream",
     "text": [
      "C:\\Users\\darkp\\anaconda3\\lib\\site-packages\\sklearn\\_loss\\glm_distribution.py:132: RuntimeWarning: divide by zero encountered in true_divide\n",
      "  return -2 * (y - y_pred) / self.unit_variance(y_pred)\n",
      "C:\\Users\\darkp\\anaconda3\\lib\\site-packages\\sklearn\\linear_model\\_glm\\glm.py:42: RuntimeWarning: invalid value encountered in multiply\n",
      "  temp = d1 * family.deviance_derivative(y, y_pred, weights)\n",
      "C:\\Users\\darkp\\anaconda3\\lib\\site-packages\\sklearn\\_loss\\glm_distribution.py:326: RuntimeWarning: divide by zero encountered in log\n",
      "  dev = 2 * (np.log(y_pred / y) + y / y_pred - 1)\n",
      "C:\\Users\\darkp\\anaconda3\\lib\\site-packages\\sklearn\\_loss\\glm_distribution.py:326: RuntimeWarning: divide by zero encountered in true_divide\n",
      "  dev = 2 * (np.log(y_pred / y) + y / y_pred - 1)\n",
      "C:\\Users\\darkp\\anaconda3\\lib\\site-packages\\sklearn\\_loss\\glm_distribution.py:326: RuntimeWarning: invalid value encountered in add\n",
      "  dev = 2 * (np.log(y_pred / y) + y / y_pred - 1)\n",
      "C:\\Users\\darkp\\anaconda3\\lib\\site-packages\\sklearn\\linear_model\\_glm\\glm.py:323: ConvergenceWarning: lbfgs failed to converge (status=2):\n",
      "ABNORMAL_TERMINATION_IN_LNSRCH.\n",
      "\n",
      "Increase the number of iterations (max_iter) or scale the data as shown in:\n",
      "    https://scikit-learn.org/stable/modules/preprocessing.html\n",
      "  self.n_iter_ = _check_optimize_result(\"lbfgs\", opt_res)\n"
     ]
    },
    {
     "name": "stdout",
     "output_type": "stream",
     "text": [
      "📈 1 - Ensemble with avg smape 16.5: \n",
      "Model Number: 2 of 161 with model Ensemble for Validation 3\n",
      "📈 2 - Ensemble with avg smape 15.96: \n",
      "Model Number: 3 of 161 with model UnivariateMotif for Validation 3\n",
      "3 - UnivariateMotif with avg smape 17.04: \n",
      "Model Number: 4 of 161 with model Ensemble for Validation 3\n",
      "4 - Ensemble with avg smape 17.2: \n",
      "Model Number: 5 of 161 with model UnivariateMotif for Validation 3\n",
      "5 - UnivariateMotif with avg smape 16.42: \n",
      "Model Number: 6 of 161 with model UnivariateMotif for Validation 3\n",
      "6 - UnivariateMotif with avg smape 18.14: \n",
      "Model Number: 7 of 161 with model UnivariateMotif for Validation 3\n",
      "7 - UnivariateMotif with avg smape 17.24: \n",
      "Model Number: 8 of 161 with model UnivariateMotif for Validation 3\n",
      "📈 8 - UnivariateMotif with avg smape 6.98: \n",
      "Model Number: 9 of 161 with model Ensemble for Validation 3\n",
      "📈 9 - Ensemble with avg smape 6.53: \n",
      "Model Number: 10 of 161 with model Ensemble for Validation 3\n"
     ]
    },
    {
     "name": "stderr",
     "output_type": "stream",
     "text": [
      "C:\\Users\\darkp\\anaconda3\\lib\\site-packages\\sklearn\\_loss\\glm_distribution.py:132: RuntimeWarning: divide by zero encountered in true_divide\n",
      "  return -2 * (y - y_pred) / self.unit_variance(y_pred)\n",
      "C:\\Users\\darkp\\anaconda3\\lib\\site-packages\\sklearn\\linear_model\\_glm\\glm.py:42: RuntimeWarning: invalid value encountered in multiply\n",
      "  temp = d1 * family.deviance_derivative(y, y_pred, weights)\n",
      "C:\\Users\\darkp\\anaconda3\\lib\\site-packages\\sklearn\\_loss\\glm_distribution.py:326: RuntimeWarning: divide by zero encountered in log\n",
      "  dev = 2 * (np.log(y_pred / y) + y / y_pred - 1)\n",
      "C:\\Users\\darkp\\anaconda3\\lib\\site-packages\\sklearn\\_loss\\glm_distribution.py:326: RuntimeWarning: divide by zero encountered in true_divide\n",
      "  dev = 2 * (np.log(y_pred / y) + y / y_pred - 1)\n",
      "C:\\Users\\darkp\\anaconda3\\lib\\site-packages\\sklearn\\_loss\\glm_distribution.py:326: RuntimeWarning: invalid value encountered in add\n",
      "  dev = 2 * (np.log(y_pred / y) + y / y_pred - 1)\n",
      "C:\\Users\\darkp\\anaconda3\\lib\\site-packages\\sklearn\\linear_model\\_glm\\glm.py:323: ConvergenceWarning: lbfgs failed to converge (status=2):\n",
      "ABNORMAL_TERMINATION_IN_LNSRCH.\n",
      "\n",
      "Increase the number of iterations (max_iter) or scale the data as shown in:\n",
      "    https://scikit-learn.org/stable/modules/preprocessing.html\n",
      "  self.n_iter_ = _check_optimize_result(\"lbfgs\", opt_res)\n"
     ]
    },
    {
     "name": "stdout",
     "output_type": "stream",
     "text": [
      "📈 10 - Ensemble with avg smape 6.18: \n",
      "Model Number: 11 of 161 with model Ensemble for Validation 3\n",
      "11 - Ensemble with avg smape 6.18: \n",
      "Model Number: 12 of 161 with model Ensemble for Validation 3\n",
      "📈 12 - Ensemble with avg smape 3.76: \n",
      "Model Number: 13 of 161 with model UnobservedComponents for Validation 3\n",
      "13 - UnobservedComponents with avg smape 3.83: \n",
      "Model Number: 14 of 161 with model GLS for Validation 3\n",
      "14 - GLS with avg smape 3.85: \n",
      "Model Number: 15 of 161 with model GLS for Validation 3\n",
      "15 - GLS with avg smape 4.1: \n",
      "Model Number: 16 of 161 with model GLS for Validation 3\n",
      "16 - GLS with avg smape 3.87: \n",
      "Model Number: 17 of 161 with model Theta for Validation 3\n",
      "📈 17 - Theta with avg smape 3.59: \n",
      "Model Number: 18 of 161 with model Theta for Validation 3\n",
      "18 - Theta with avg smape 3.59: \n",
      "Model Number: 19 of 161 with model GLS for Validation 3\n",
      "19 - GLS with avg smape 6.99: \n",
      "Model Number: 20 of 161 with model GLS for Validation 3\n",
      "20 - GLS with avg smape 6.99: \n",
      "Model Number: 21 of 161 with model Ensemble for Validation 3\n",
      "21 - Ensemble with avg smape 6.06: \n",
      "Model Number: 22 of 161 with model NVAR for Validation 3\n",
      "📈 22 - NVAR with avg smape 3.18: \n",
      "Model Number: 23 of 161 with model NVAR for Validation 3\n",
      "23 - NVAR with avg smape 3.34: \n",
      "Model Number: 24 of 161 with model Theta for Validation 3\n",
      "24 - Theta with avg smape 3.63: \n",
      "Model Number: 25 of 161 with model Theta for Validation 3\n",
      "25 - Theta with avg smape 3.63: \n",
      "Model Number: 26 of 161 with model Theta for Validation 3\n",
      "26 - Theta with avg smape 3.63: \n",
      "Model Number: 27 of 161 with model NVAR for Validation 3\n",
      "27 - NVAR with avg smape 3.24: \n",
      "Model Number: 28 of 161 with model NVAR for Validation 3\n",
      "📈 28 - NVAR with avg smape 3.17: \n",
      "Model Number: 29 of 161 with model Theta for Validation 3\n",
      "29 - Theta with avg smape 3.65: \n",
      "Model Number: 30 of 161 with model Theta for Validation 3\n",
      "30 - Theta with avg smape 3.63: \n",
      "Model Number: 31 of 161 with model NVAR for Validation 3\n",
      "31 - NVAR with avg smape 3.27: \n",
      "Model Number: 32 of 161 with model NVAR for Validation 3\n",
      "32 - NVAR with avg smape 3.27: \n",
      "Model Number: 33 of 161 with model Theta for Validation 3\n",
      "33 - Theta with avg smape 3.57: \n",
      "Model Number: 34 of 161 with model NVAR for Validation 3\n",
      "34 - NVAR with avg smape 3.29: \n",
      "Model Number: 35 of 161 with model NVAR for Validation 3\n",
      "35 - NVAR with avg smape 3.29: \n",
      "Model Number: 36 of 161 with model GLS for Validation 3\n",
      "36 - GLS with avg smape 4.0: \n",
      "Model Number: 37 of 161 with model NVAR for Validation 3\n",
      "37 - NVAR with avg smape 3.29: \n",
      "Model Number: 38 of 161 with model Theta for Validation 3\n",
      "38 - Theta with avg smape 3.6: \n",
      "Model Number: 39 of 161 with model GLS for Validation 3\n",
      "39 - GLS with avg smape 4.11: \n",
      "Model Number: 40 of 161 with model GLS for Validation 3\n",
      "40 - GLS with avg smape 4.11: \n",
      "Model Number: 41 of 161 with model GLS for Validation 3\n",
      "41 - GLS with avg smape 3.85: \n",
      "Model Number: 42 of 161 with model LastValueNaive for Validation 3\n",
      "42 - LastValueNaive with avg smape 5.78: \n",
      "Model Number: 43 of 161 with model LastValueNaive for Validation 3\n",
      "43 - LastValueNaive with avg smape 5.78: \n",
      "Model Number: 44 of 161 with model MultivariateMotif for Validation 3\n",
      "📈 44 - MultivariateMotif with avg smape 3.02: \n",
      "Model Number: 45 of 161 with model AverageValueNaive for Validation 3\n",
      "45 - AverageValueNaive with avg smape 3.64: \n",
      "Model Number: 46 of 161 with model LastValueNaive for Validation 3\n",
      "46 - LastValueNaive with avg smape 4.44: \n",
      "Model Number: 47 of 161 with model LastValueNaive for Validation 3\n",
      "47 - LastValueNaive with avg smape 4.01: \n",
      "Model Number: 48 of 161 with model LastValueNaive for Validation 3\n",
      "48 - LastValueNaive with avg smape 4.85: \n",
      "Model Number: 49 of 161 with model LastValueNaive for Validation 3\n"
     ]
    },
    {
     "name": "stderr",
     "output_type": "stream",
     "text": [
      "C:\\Users\\darkp\\anaconda3\\lib\\site-packages\\sklearn\\_loss\\glm_distribution.py:132: RuntimeWarning: divide by zero encountered in true_divide\n",
      "  return -2 * (y - y_pred) / self.unit_variance(y_pred)\n",
      "C:\\Users\\darkp\\anaconda3\\lib\\site-packages\\sklearn\\linear_model\\_glm\\glm.py:42: RuntimeWarning: invalid value encountered in multiply\n",
      "  temp = d1 * family.deviance_derivative(y, y_pred, weights)\n",
      "C:\\Users\\darkp\\anaconda3\\lib\\site-packages\\sklearn\\_loss\\glm_distribution.py:330: RuntimeWarning: divide by zero encountered in power\n",
      "  - y * np.power(y_pred, 1 - p) / (1 - p)\n"
     ]
    },
    {
     "name": "stdout",
     "output_type": "stream",
     "text": [
      "49 - LastValueNaive with avg smape 4.76: \n",
      "Model Number: 50 of 161 with model LastValueNaive for Validation 3\n",
      "50 - LastValueNaive with avg smape 4.76: \n",
      "Model Number: 51 of 161 with model LastValueNaive for Validation 3\n",
      "51 - LastValueNaive with avg smape 4.76: \n",
      "Model Number: 52 of 161 with model LastValueNaive for Validation 3\n",
      "52 - LastValueNaive with avg smape 4.5: \n",
      "Model Number: 53 of 161 with model MultivariateMotif for Validation 3\n",
      "📈 53 - MultivariateMotif with avg smape 2.36: \n",
      "Model Number: 54 of 161 with model MultivariateMotif for Validation 3\n",
      "54 - MultivariateMotif with avg smape 2.5: \n",
      "Model Number: 55 of 161 with model UnivariateMotif for Validation 3\n",
      "55 - UnivariateMotif with avg smape 13.77: \n",
      "Model Number: 56 of 161 with model UnivariateMotif for Validation 3\n",
      "56 - UnivariateMotif with avg smape 13.76: \n",
      "Model Number: 57 of 161 with model AverageValueNaive for Validation 3\n",
      "57 - AverageValueNaive with avg smape 3.7: \n",
      "Model Number: 58 of 161 with model UnivariateMotif for Validation 3\n"
     ]
    },
    {
     "name": "stderr",
     "output_type": "stream",
     "text": [
      "C:\\Users\\darkp\\anaconda3\\lib\\site-packages\\sklearn\\_loss\\glm_distribution.py:132: RuntimeWarning: divide by zero encountered in true_divide\n",
      "  return -2 * (y - y_pred) / self.unit_variance(y_pred)\n",
      "C:\\Users\\darkp\\anaconda3\\lib\\site-packages\\sklearn\\linear_model\\_glm\\glm.py:42: RuntimeWarning: invalid value encountered in multiply\n",
      "  temp = d1 * family.deviance_derivative(y, y_pred, weights)\n",
      "C:\\Users\\darkp\\anaconda3\\lib\\site-packages\\sklearn\\_loss\\glm_distribution.py:330: RuntimeWarning: divide by zero encountered in power\n",
      "  - y * np.power(y_pred, 1 - p) / (1 - p)\n"
     ]
    },
    {
     "name": "stdout",
     "output_type": "stream",
     "text": [
      "58 - UnivariateMotif with avg smape 17.75: \n",
      "Model Number: 59 of 161 with model AverageValueNaive for Validation 3\n",
      "59 - AverageValueNaive with avg smape 4.19: \n",
      "Model Number: 60 of 161 with model MultivariateMotif for Validation 3\n",
      "60 - MultivariateMotif with avg smape 5.12: \n",
      "Model Number: 61 of 161 with model MultivariateMotif for Validation 3\n",
      "61 - MultivariateMotif with avg smape 2.98: \n",
      "Model Number: 62 of 161 with model UnivariateRegression for Validation 3\n",
      "62 - UnivariateRegression with avg smape 3.56: \n",
      "Model Number: 63 of 161 with model UnivariateMotif for Validation 3\n"
     ]
    },
    {
     "name": "stderr",
     "output_type": "stream",
     "text": [
      "C:\\Users\\darkp\\anaconda3\\lib\\site-packages\\sklearn\\_loss\\glm_distribution.py:132: RuntimeWarning: divide by zero encountered in true_divide\n",
      "  return -2 * (y - y_pred) / self.unit_variance(y_pred)\n",
      "C:\\Users\\darkp\\anaconda3\\lib\\site-packages\\sklearn\\linear_model\\_glm\\glm.py:42: RuntimeWarning: invalid value encountered in multiply\n",
      "  temp = d1 * family.deviance_derivative(y, y_pred, weights)\n",
      "C:\\Users\\darkp\\anaconda3\\lib\\site-packages\\sklearn\\_loss\\glm_distribution.py:323: RuntimeWarning: divide by zero encountered in true_divide\n",
      "  dev = 2 * (xlogy(y, y / y_pred) - y + y_pred)\n"
     ]
    },
    {
     "name": "stdout",
     "output_type": "stream",
     "text": [
      "63 - UnivariateMotif with avg smape 8.0: \n",
      "Model Number: 64 of 161 with model UnobservedComponents for Validation 3\n",
      "64 - UnobservedComponents with avg smape 3.72: \n",
      "Model Number: 65 of 161 with model UnivariateRegression for Validation 3\n",
      "65 - UnivariateRegression with avg smape 9.5: \n",
      "Model Number: 66 of 161 with model MultivariateMotif for Validation 3\n",
      "66 - MultivariateMotif with avg smape 4.92: \n",
      "Model Number: 67 of 161 with model UnobservedComponents for Validation 3\n",
      "67 - UnobservedComponents with avg smape 3.85: \n",
      "Model Number: 68 of 161 with model UnobservedComponents for Validation 3\n",
      "68 - UnobservedComponents with avg smape 3.85: \n",
      "Model Number: 69 of 161 with model MultivariateMotif for Validation 3\n",
      "69 - MultivariateMotif with avg smape 4.39: \n",
      "Model Number: 70 of 161 with model UnobservedComponents for Validation 3\n",
      "70 - UnobservedComponents with avg smape 3.87: \n",
      "Model Number: 71 of 161 with model UnobservedComponents for Validation 3\n",
      "71 - UnobservedComponents with avg smape 3.87: \n",
      "Model Number: 72 of 161 with model UnobservedComponents for Validation 3\n",
      "72 - UnobservedComponents with avg smape 3.85: \n",
      "Model Number: 73 of 161 with model ConstantNaive for Validation 3\n",
      "73 - ConstantNaive with avg smape 8.07: \n",
      "Model Number: 74 of 161 with model ConstantNaive for Validation 3\n",
      "74 - ConstantNaive with avg smape 4.37: \n",
      "Model Number: 75 of 161 with model UnobservedComponents for Validation 3\n",
      "75 - UnobservedComponents with avg smape 4.52: \n",
      "Model Number: 76 of 161 with model AverageValueNaive for Validation 3\n",
      "76 - AverageValueNaive with avg smape 4.06: \n",
      "Model Number: 77 of 161 with model UnobservedComponents for Validation 3\n",
      "77 - UnobservedComponents with avg smape 3.85: \n",
      "Model Number: 78 of 161 with model AverageValueNaive for Validation 3\n",
      "78 - AverageValueNaive with avg smape 3.36: \n",
      "Model Number: 79 of 161 with model AverageValueNaive for Validation 3\n",
      "79 - AverageValueNaive with avg smape 3.63: \n",
      "Model Number: 80 of 161 with model MultivariateMotif for Validation 3\n",
      "80 - MultivariateMotif with avg smape 3.38: \n",
      "Model Number: 81 of 161 with model ConstantNaive for Validation 3\n",
      "81 - ConstantNaive with avg smape 5.46: \n",
      "Model Number: 82 of 161 with model AverageValueNaive for Validation 3\n",
      "82 - AverageValueNaive with avg smape 4.02: \n",
      "Model Number: 83 of 161 with model SectionalMotif for Validation 3\n",
      "83 - SectionalMotif with avg smape 10.42: \n",
      "Model Number: 84 of 161 with model WindowRegression for Validation 3\n"
     ]
    },
    {
     "name": "stderr",
     "output_type": "stream",
     "text": [
      "C:\\Users\\darkp\\anaconda3\\lib\\site-packages\\sklearn\\_loss\\glm_distribution.py:132: RuntimeWarning: divide by zero encountered in true_divide\n",
      "  return -2 * (y - y_pred) / self.unit_variance(y_pred)\n",
      "C:\\Users\\darkp\\anaconda3\\lib\\site-packages\\sklearn\\linear_model\\_glm\\glm.py:42: RuntimeWarning: invalid value encountered in multiply\n",
      "  temp = d1 * family.deviance_derivative(y, y_pred, weights)\n",
      "C:\\Users\\darkp\\anaconda3\\lib\\site-packages\\sklearn\\_loss\\glm_distribution.py:323: RuntimeWarning: divide by zero encountered in true_divide\n",
      "  dev = 2 * (xlogy(y, y / y_pred) - y + y_pred)\n"
     ]
    },
    {
     "name": "stdout",
     "output_type": "stream",
     "text": [
      "84 - WindowRegression with avg smape 3.34: \n",
      "Model Number: 85 of 161 with model AverageValueNaive for Validation 3\n",
      "85 - AverageValueNaive with avg smape 3.52: \n",
      "Model Number: 86 of 161 with model MultivariateMotif for Validation 3\n",
      "86 - MultivariateMotif with avg smape 3.76: \n",
      "Model Number: 87 of 161 with model AverageValueNaive for Validation 3\n",
      "87 - AverageValueNaive with avg smape 3.7: \n",
      "Model Number: 88 of 161 with model MultivariateRegression for Validation 3\n"
     ]
    },
    {
     "name": "stderr",
     "output_type": "stream",
     "text": [
      "[Parallel(n_jobs=-2)]: Using backend ThreadingBackend with 7 concurrent workers.\n",
      "[Parallel(n_jobs=-2)]: Done  36 tasks      | elapsed:    0.0s\n",
      "[Parallel(n_jobs=-2)]: Done 186 tasks      | elapsed:    0.4s\n",
      "[Parallel(n_jobs=-2)]: Done 300 out of 300 | elapsed:    0.7s finished\n",
      "[Parallel(n_jobs=7)]: Using backend ThreadingBackend with 7 concurrent workers.\n",
      "[Parallel(n_jobs=7)]: Done  36 tasks      | elapsed:    0.0s\n",
      "[Parallel(n_jobs=7)]: Done 186 tasks      | elapsed:    0.0s\n",
      "[Parallel(n_jobs=7)]: Done 300 out of 300 | elapsed:    0.0s finished\n",
      "[Parallel(n_jobs=7)]: Using backend ThreadingBackend with 7 concurrent workers.\n",
      "[Parallel(n_jobs=7)]: Done  36 tasks      | elapsed:    0.0s\n",
      "[Parallel(n_jobs=7)]: Done 186 tasks      | elapsed:    0.0s\n",
      "[Parallel(n_jobs=7)]: Done 300 out of 300 | elapsed:    0.0s finished\n",
      "[Parallel(n_jobs=7)]: Using backend ThreadingBackend with 7 concurrent workers.\n",
      "[Parallel(n_jobs=7)]: Done  36 tasks      | elapsed:    0.0s\n",
      "[Parallel(n_jobs=7)]: Done 186 tasks      | elapsed:    0.0s\n",
      "[Parallel(n_jobs=7)]: Done 300 out of 300 | elapsed:    0.0s finished\n",
      "[Parallel(n_jobs=7)]: Using backend ThreadingBackend with 7 concurrent workers.\n",
      "[Parallel(n_jobs=7)]: Done  36 tasks      | elapsed:    0.0s\n",
      "[Parallel(n_jobs=7)]: Done 186 tasks      | elapsed:    0.0s\n",
      "[Parallel(n_jobs=7)]: Done 300 out of 300 | elapsed:    0.0s finished\n"
     ]
    },
    {
     "name": "stdout",
     "output_type": "stream",
     "text": [
      "88 - MultivariateRegression with avg smape 5.21: \n",
      "Model Number: 89 of 161 with model SectionalMotif for Validation 3\n",
      "89 - SectionalMotif with avg smape 20.05: \n",
      "Model Number: 90 of 161 with model ETS for Validation 3\n"
     ]
    },
    {
     "name": "stderr",
     "output_type": "stream",
     "text": [
      "[Parallel(n_jobs=7)]: Using backend ThreadingBackend with 7 concurrent workers.\n",
      "[Parallel(n_jobs=7)]: Done  36 tasks      | elapsed:    0.0s\n",
      "[Parallel(n_jobs=7)]: Done 186 tasks      | elapsed:    0.0s\n",
      "[Parallel(n_jobs=7)]: Done 300 out of 300 | elapsed:    0.0s finished\n"
     ]
    },
    {
     "name": "stdout",
     "output_type": "stream",
     "text": [
      "90 - ETS with avg smape 3.56: \n",
      "Model Number: 91 of 161 with model ETS for Validation 3\n",
      "91 - ETS with avg smape 3.51: \n",
      "Model Number: 92 of 161 with model ETS for Validation 3\n",
      "ETS error ValueError('endog must be strictly positive when usingmultiplicative trend or seasonal components.')\n",
      "ETS failed on Close with ValueError('endog must be strictly positive when usingmultiplicative trend or seasonal components.')\n",
      "92 - ETS with avg smape 3.96: \n",
      "Model Number: 93 of 161 with model MultivariateRegression for Validation 3\n",
      "93 - MultivariateRegression with avg smape 2.64: \n",
      "Model Number: 94 of 161 with model SectionalMotif for Validation 3\n",
      "94 - SectionalMotif with avg smape 4.85: \n",
      "Model Number: 95 of 161 with model SeasonalNaive for Validation 3\n",
      "95 - SeasonalNaive with avg smape 7.08: \n",
      "Model Number: 96 of 161 with model MultivariateRegression for Validation 3\n"
     ]
    },
    {
     "name": "stderr",
     "output_type": "stream",
     "text": [
      "C:\\Users\\darkp\\anaconda3\\lib\\site-packages\\sklearn\\linear_model\\_glm\\link.py:90: RuntimeWarning: overflow encountered in exp\n",
      "  return np.exp(lin_pred)\n",
      "C:\\Users\\darkp\\anaconda3\\lib\\site-packages\\sklearn\\linear_model\\_glm\\link.py:93: RuntimeWarning: overflow encountered in exp\n",
      "  return np.exp(lin_pred)\n",
      "C:\\Users\\darkp\\anaconda3\\lib\\site-packages\\sklearn\\_loss\\glm_distribution.py:132: RuntimeWarning: invalid value encountered in true_divide\n",
      "  return -2 * (y - y_pred) / self.unit_variance(y_pred)\n",
      "C:\\Users\\darkp\\anaconda3\\lib\\site-packages\\sklearn\\_loss\\glm_distribution.py:323: RuntimeWarning: invalid value encountered in add\n",
      "  dev = 2 * (xlogy(y, y / y_pred) - y + y_pred)\n",
      "C:\\Users\\darkp\\anaconda3\\lib\\site-packages\\sklearn\\linear_model\\_glm\\glm.py:323: ConvergenceWarning: lbfgs failed to converge (status=2):\n",
      "ABNORMAL_TERMINATION_IN_LNSRCH.\n",
      "\n",
      "Increase the number of iterations (max_iter) or scale the data as shown in:\n",
      "    https://scikit-learn.org/stable/modules/preprocessing.html\n",
      "  self.n_iter_ = _check_optimize_result(\"lbfgs\", opt_res)\n"
     ]
    },
    {
     "name": "stdout",
     "output_type": "stream",
     "text": [
      "96 - MultivariateRegression with avg smape 12.12: \n",
      "Model Number: 97 of 161 with model ETS for Validation 3\n",
      "97 - ETS with avg smape 3.88: \n",
      "Model Number: 98 of 161 with model ETS for Validation 3\n",
      "98 - ETS with avg smape 3.85: \n",
      "Model Number: 99 of 161 with model ETS for Validation 3\n",
      "99 - ETS with avg smape 3.57: \n",
      "Model Number: 100 of 161 with model WindowRegression for Validation 3\n",
      "100 - WindowRegression with avg smape 4.42: \n",
      "Model Number: 101 of 161 with model UnivariateRegression for Validation 3\n",
      "101 - UnivariateRegression with avg smape 5.03: \n",
      "Model Number: 102 of 161 with model MultivariateRegression for Validation 3\n",
      "102 - MultivariateRegression with avg smape 5.33: \n",
      "Model Number: 103 of 161 with model ETS for Validation 3\n",
      "103 - ETS with avg smape 3.68: \n",
      "Model Number: 104 of 161 with model SectionalMotif for Validation 3\n",
      "104 - SectionalMotif with avg smape 4.6: \n",
      "Model Number: 105 of 161 with model MultivariateRegression for Validation 3\n"
     ]
    },
    {
     "name": "stderr",
     "output_type": "stream",
     "text": [
      "C:\\Users\\darkp\\anaconda3\\lib\\site-packages\\scipy\\interpolate\\polyint.py:545: RuntimeWarning: overflow encountered in multiply\n",
      "  self.wi[:j] *= (self.xi[j]-self.xi[:j])\n",
      "C:\\Users\\darkp\\anaconda3\\lib\\site-packages\\scipy\\interpolate\\polyint.py:546: RuntimeWarning: overflow encountered in reduce\n",
      "  self.wi[j] = np.multiply.reduce(self.xi[:j]-self.xi[j])\n",
      "C:\\Users\\darkp\\anaconda3\\lib\\site-packages\\scipy\\interpolate\\polyint.py:643: RuntimeWarning: invalid value encountered in true_divide\n",
      "  p = np.dot(c,self.yi)/np.sum(c,axis=-1)[...,np.newaxis]\n",
      "[Parallel(n_jobs=-2)]: Using backend ThreadingBackend with 7 concurrent workers.\n",
      "[Parallel(n_jobs=-2)]: Done  36 tasks      | elapsed:    0.0s\n",
      "[Parallel(n_jobs=-2)]: Done 186 tasks      | elapsed:    0.1s\n",
      "[Parallel(n_jobs=-2)]: Done 300 out of 300 | elapsed:    0.1s finished\n",
      "[Parallel(n_jobs=7)]: Using backend ThreadingBackend with 7 concurrent workers.\n",
      "[Parallel(n_jobs=7)]: Done  36 tasks      | elapsed:    0.0s\n",
      "[Parallel(n_jobs=7)]: Done 186 tasks      | elapsed:    0.0s\n",
      "[Parallel(n_jobs=7)]: Done 300 out of 300 | elapsed:    0.0s finished\n",
      "[Parallel(n_jobs=7)]: Using backend ThreadingBackend with 7 concurrent workers.\n",
      "[Parallel(n_jobs=7)]: Done  36 tasks      | elapsed:    0.0s\n",
      "[Parallel(n_jobs=7)]: Done 186 tasks      | elapsed:    0.0s\n",
      "[Parallel(n_jobs=7)]: Done 300 out of 300 | elapsed:    0.0s finished\n",
      "[Parallel(n_jobs=7)]: Using backend ThreadingBackend with 7 concurrent workers.\n",
      "[Parallel(n_jobs=7)]: Done  36 tasks      | elapsed:    0.0s\n",
      "[Parallel(n_jobs=7)]: Done 186 tasks      | elapsed:    0.0s\n",
      "[Parallel(n_jobs=7)]: Done 300 out of 300 | elapsed:    0.0s finished\n",
      "[Parallel(n_jobs=7)]: Using backend ThreadingBackend with 7 concurrent workers.\n",
      "[Parallel(n_jobs=7)]: Done  36 tasks      | elapsed:    0.0s\n",
      "[Parallel(n_jobs=7)]: Done 186 tasks      | elapsed:    0.0s\n",
      "[Parallel(n_jobs=7)]: Done 300 out of 300 | elapsed:    0.0s finished\n",
      "[Parallel(n_jobs=7)]: Using backend ThreadingBackend with 7 concurrent workers.\n",
      "[Parallel(n_jobs=7)]: Done  36 tasks      | elapsed:    0.0s\n",
      "[Parallel(n_jobs=7)]: Done 186 tasks      | elapsed:    0.0s\n",
      "[Parallel(n_jobs=7)]: Done 300 out of 300 | elapsed:    0.0s finished\n"
     ]
    },
    {
     "name": "stdout",
     "output_type": "stream",
     "text": [
      "105 - MultivariateRegression with avg smape 7.35: \n",
      "Model Number: 106 of 161 with model UnivariateRegression for Validation 3\n",
      "106 - UnivariateRegression with avg smape 5.34: \n",
      "Model Number: 107 of 161 with model ETS for Validation 3\n",
      "107 - ETS with avg smape 3.81: \n",
      "Model Number: 108 of 161 with model UnivariateRegression for Validation 3\n",
      "108 - UnivariateRegression with avg smape 3.69: \n",
      "Model Number: 109 of 161 with model SectionalMotif for Validation 3\n",
      "109 - SectionalMotif with avg smape 8.44: \n",
      "Model Number: 110 of 161 with model WindowRegression for Validation 3\n",
      "110 - WindowRegression with avg smape 28.04: \n",
      "Model Number: 111 of 161 with model ETS for Validation 3\n",
      "111 - ETS with avg smape 3.72: \n",
      "Model Number: 112 of 161 with model GLM for Validation 3\n",
      "112 - GLM with avg smape 3.72: \n",
      "Model Number: 113 of 161 with model MultivariateRegression for Validation 3\n"
     ]
    },
    {
     "name": "stderr",
     "output_type": "stream",
     "text": [
      "[Parallel(n_jobs=-2)]: Using backend ThreadingBackend with 7 concurrent workers.\n",
      "[Parallel(n_jobs=-2)]: Done  36 tasks      | elapsed:    0.0s\n",
      "[Parallel(n_jobs=-2)]: Done 186 tasks      | elapsed:    0.1s\n",
      "[Parallel(n_jobs=-2)]: Done 300 out of 300 | elapsed:    0.2s finished\n",
      "[Parallel(n_jobs=7)]: Using backend ThreadingBackend with 7 concurrent workers.\n",
      "[Parallel(n_jobs=7)]: Done  36 tasks      | elapsed:    0.0s\n",
      "[Parallel(n_jobs=7)]: Done 186 tasks      | elapsed:    0.0s\n",
      "[Parallel(n_jobs=7)]: Done 300 out of 300 | elapsed:    0.0s finished\n",
      "[Parallel(n_jobs=7)]: Using backend ThreadingBackend with 7 concurrent workers.\n",
      "[Parallel(n_jobs=7)]: Done  36 tasks      | elapsed:    0.0s\n",
      "[Parallel(n_jobs=7)]: Done 186 tasks      | elapsed:    0.0s\n",
      "[Parallel(n_jobs=7)]: Done 300 out of 300 | elapsed:    0.0s finished\n",
      "[Parallel(n_jobs=7)]: Using backend ThreadingBackend with 7 concurrent workers.\n",
      "[Parallel(n_jobs=7)]: Done  36 tasks      | elapsed:    0.0s\n",
      "[Parallel(n_jobs=7)]: Done 186 tasks      | elapsed:    0.0s\n"
     ]
    },
    {
     "name": "stdout",
     "output_type": "stream",
     "text": [
      "113 - MultivariateRegression with avg smape 10.82: \n",
      "Model Number: 114 of 161 with model WindowRegression for Validation 3\n"
     ]
    },
    {
     "name": "stderr",
     "output_type": "stream",
     "text": [
      "[Parallel(n_jobs=7)]: Done 300 out of 300 | elapsed:    0.0s finished\n",
      "[Parallel(n_jobs=7)]: Using backend ThreadingBackend with 7 concurrent workers.\n",
      "[Parallel(n_jobs=7)]: Done  36 tasks      | elapsed:    0.0s\n",
      "[Parallel(n_jobs=7)]: Done 186 tasks      | elapsed:    0.0s\n",
      "[Parallel(n_jobs=7)]: Done 300 out of 300 | elapsed:    0.0s finished\n",
      "[Parallel(n_jobs=7)]: Using backend ThreadingBackend with 7 concurrent workers.\n",
      "[Parallel(n_jobs=7)]: Done  36 tasks      | elapsed:    0.0s\n",
      "[Parallel(n_jobs=7)]: Done 186 tasks      | elapsed:    0.0s\n",
      "[Parallel(n_jobs=7)]: Done 300 out of 300 | elapsed:    0.0s finished\n"
     ]
    },
    {
     "name": "stdout",
     "output_type": "stream",
     "text": [
      "114 - WindowRegression with avg smape 6.06: \n",
      "Model Number: 115 of 161 with model MultivariateRegression for Validation 3\n",
      "115 - MultivariateRegression with avg smape 4.97: \n",
      "Model Number: 116 of 161 with model GLM for Validation 3\n",
      "116 - GLM with avg smape 3.67: \n",
      "Model Number: 117 of 161 with model MultivariateRegression for Validation 3\n"
     ]
    },
    {
     "name": "stderr",
     "output_type": "stream",
     "text": [
      "C:\\Users\\darkp\\anaconda3\\lib\\site-packages\\sklearn\\_loss\\glm_distribution.py:132: RuntimeWarning: divide by zero encountered in true_divide\n",
      "  return -2 * (y - y_pred) / self.unit_variance(y_pred)\n",
      "C:\\Users\\darkp\\anaconda3\\lib\\site-packages\\sklearn\\linear_model\\_glm\\glm.py:42: RuntimeWarning: invalid value encountered in multiply\n",
      "  temp = d1 * family.deviance_derivative(y, y_pred, weights)\n",
      "C:\\Users\\darkp\\anaconda3\\lib\\site-packages\\sklearn\\_loss\\glm_distribution.py:330: RuntimeWarning: divide by zero encountered in power\n",
      "  - y * np.power(y_pred, 1 - p) / (1 - p)\n",
      "C:\\Users\\darkp\\anaconda3\\lib\\site-packages\\sklearn\\linear_model\\_glm\\link.py:90: RuntimeWarning: overflow encountered in exp\n",
      "  return np.exp(lin_pred)\n",
      "C:\\Users\\darkp\\anaconda3\\lib\\site-packages\\sklearn\\linear_model\\_glm\\link.py:93: RuntimeWarning: overflow encountered in exp\n",
      "  return np.exp(lin_pred)\n",
      "C:\\Users\\darkp\\anaconda3\\lib\\site-packages\\sklearn\\_loss\\glm_distribution.py:132: RuntimeWarning: invalid value encountered in true_divide\n",
      "  return -2 * (y - y_pred) / self.unit_variance(y_pred)\n"
     ]
    },
    {
     "name": "stdout",
     "output_type": "stream",
     "text": [
      "117 - MultivariateRegression with avg smape 5.08: \n",
      "Model Number: 118 of 161 with model MultivariateRegression for Validation 3\n",
      "118 - MultivariateRegression with avg smape 6.16: \n",
      "Model Number: 119 of 161 with model WindowRegression for Validation 3\n",
      "119 - WindowRegression with avg smape 3.17: \n",
      "Model Number: 120 of 161 with model WindowRegression for Validation 3\n",
      "120 - WindowRegression with avg smape 3.17: \n",
      "Model Number: 121 of 161 with model GLM for Validation 3\n",
      "121 - GLM with avg smape 3.78: \n",
      "Model Number: 122 of 161 with model WindowRegression for Validation 3\n",
      "122 - WindowRegression with avg smape 3.21: \n",
      "Model Number: 123 of 161 with model WindowRegression for Validation 3\n",
      "123 - WindowRegression with avg smape 3.25: \n",
      "Model Number: 124 of 161 with model WindowRegression for Validation 3\n",
      "124 - WindowRegression with avg smape 30.6: \n",
      "Model Number: 125 of 161 with model UnivariateRegression for Validation 3\n",
      "125 - UnivariateRegression with avg smape 4.31: \n",
      "Model Number: 126 of 161 with model ConstantNaive for Validation 3\n",
      "126 - ConstantNaive with avg smape 7.05: \n",
      "Model Number: 127 of 161 with model ConstantNaive for Validation 3\n",
      "127 - ConstantNaive with avg smape 7.05: \n",
      "Model Number: 128 of 161 with model ConstantNaive for Validation 3\n",
      "128 - ConstantNaive with avg smape 7.05: \n",
      "Model Number: 129 of 161 with model UnivariateRegression for Validation 3\n",
      "129 - UnivariateRegression with avg smape 5.93: \n",
      "Model Number: 130 of 161 with model GLM for Validation 3\n",
      "130 - GLM with avg smape 3.51: \n",
      "Model Number: 131 of 161 with model GLM for Validation 3\n",
      "131 - GLM with avg smape 3.51: \n",
      "Model Number: 132 of 161 with model ConstantNaive for Validation 3\n",
      "132 - ConstantNaive with avg smape 7.03: \n",
      "Model Number: 133 of 161 with model ConstantNaive for Validation 3\n",
      "133 - ConstantNaive with avg smape 7.03: \n",
      "Model Number: 134 of 161 with model SectionalMotif for Validation 3\n",
      "134 - SectionalMotif with avg smape 15.51: \n",
      "Model Number: 135 of 161 with model SectionalMotif for Validation 3\n",
      "135 - SectionalMotif with avg smape 6.56: \n",
      "Model Number: 136 of 161 with model ConstantNaive for Validation 3\n",
      "136 - ConstantNaive with avg smape 6.75: \n",
      "Model Number: 137 of 161 with model GLM for Validation 3\n",
      "137 - GLM with avg smape 7.05: \n",
      "Model Number: 138 of 161 with model SectionalMotif for Validation 3\n",
      "138 - SectionalMotif with avg smape 6.58: \n",
      "Model Number: 139 of 161 with model UnivariateRegression for Validation 3\n",
      "139 - UnivariateRegression with avg smape 4.05: \n",
      "Model Number: 140 of 161 with model SeasonalNaive for Validation 3\n",
      "140 - SeasonalNaive with avg smape 4.63: \n",
      "Model Number: 141 of 161 with model DatepartRegression for Validation 3\n",
      "141 - DatepartRegression with avg smape 6.84: \n",
      "Model Number: 142 of 161 with model UnivariateRegression for Validation 3\n",
      "142 - UnivariateRegression with avg smape 4.9: \n",
      "Model Number: 143 of 161 with model DatepartRegression for Validation 3\n",
      "143 - DatepartRegression with avg smape 6.36: \n",
      "Model Number: 144 of 161 with model SectionalMotif for Validation 3\n",
      "144 - SectionalMotif with avg smape 10.02: \n",
      "Model Number: 145 of 161 with model DatepartRegression for Validation 3\n",
      "145 - DatepartRegression with avg smape 6.4: \n",
      "Model Number: 146 of 161 with model DatepartRegression for Validation 3\n",
      "146 - DatepartRegression with avg smape 6.4: \n",
      "Model Number: 147 of 161 with model SeasonalNaive for Validation 3\n",
      "147 - SeasonalNaive with avg smape 4.57: \n",
      "Model Number: 148 of 161 with model SeasonalNaive for Validation 3\n",
      "148 - SeasonalNaive with avg smape 6.91: \n",
      "Model Number: 149 of 161 with model DatepartRegression for Validation 3\n",
      "149 - DatepartRegression with avg smape 5.88: \n",
      "Model Number: 150 of 161 with model DatepartRegression for Validation 3\n",
      "150 - DatepartRegression with avg smape 5.87: \n",
      "Model Number: 151 of 161 with model DatepartRegression for Validation 3\n",
      "151 - DatepartRegression with avg smape 2.48: \n",
      "Model Number: 152 of 161 with model SeasonalNaive for Validation 3\n",
      "152 - SeasonalNaive with avg smape 5.51: \n",
      "Model Number: 153 of 161 with model SeasonalNaive for Validation 3\n",
      "153 - SeasonalNaive with avg smape 4.41: \n",
      "Model Number: 154 of 161 with model SeasonalNaive for Validation 3\n",
      "154 - SeasonalNaive with avg smape 12.92: \n",
      "Model Number: 155 of 161 with model SeasonalNaive for Validation 3\n",
      "155 - SeasonalNaive with avg smape 3.39: \n",
      "Model Number: 156 of 161 with model SeasonalNaive for Validation 3\n",
      "156 - SeasonalNaive with avg smape 7.18: \n",
      "Model Number: 157 of 161 with model GLM for Validation 3\n",
      "157 - GLM with avg smape 6.43: \n",
      "Model Number: 158 of 161 with model DatepartRegression for Validation 3\n"
     ]
    },
    {
     "name": "stderr",
     "output_type": "stream",
     "text": [
      "C:\\Users\\darkp\\anaconda3\\lib\\site-packages\\sklearn\\_loss\\glm_distribution.py:132: RuntimeWarning: divide by zero encountered in true_divide\n",
      "  return -2 * (y - y_pred) / self.unit_variance(y_pred)\n",
      "C:\\Users\\darkp\\anaconda3\\lib\\site-packages\\sklearn\\linear_model\\_glm\\glm.py:42: RuntimeWarning: invalid value encountered in multiply\n",
      "  temp = d1 * family.deviance_derivative(y, y_pred, weights)\n",
      "C:\\Users\\darkp\\anaconda3\\lib\\site-packages\\sklearn\\_loss\\glm_distribution.py:330: RuntimeWarning: divide by zero encountered in power\n",
      "  - y * np.power(y_pred, 1 - p) / (1 - p)\n",
      "[Parallel(n_jobs=-2)]: Using backend ThreadingBackend with 7 concurrent workers.\n",
      "[Parallel(n_jobs=-2)]: Done  36 tasks      | elapsed:    0.0s\n",
      "[Parallel(n_jobs=-2)]: Done 100 out of 100 | elapsed:    0.0s finished\n",
      "[Parallel(n_jobs=7)]: Using backend ThreadingBackend with 7 concurrent workers.\n",
      "[Parallel(n_jobs=7)]: Done  36 tasks      | elapsed:    0.0s\n",
      "[Parallel(n_jobs=7)]: Done 100 out of 100 | elapsed:    0.0s finished\n"
     ]
    },
    {
     "name": "stdout",
     "output_type": "stream",
     "text": [
      "158 - DatepartRegression with avg smape 5.88: \n",
      "Model Number: 159 of 161 with model DatepartRegression for Validation 3\n",
      "159 - DatepartRegression with avg smape 10.04: \n",
      "Model Number: 160 of 161 with model GLM for Validation 3\n"
     ]
    },
    {
     "name": "stderr",
     "output_type": "stream",
     "text": [
      "[Parallel(n_jobs=-2)]: Using backend ThreadingBackend with 7 concurrent workers.\n",
      "[Parallel(n_jobs=-2)]: Done  36 tasks      | elapsed:    0.0s\n",
      "[Parallel(n_jobs=-2)]: Done 100 out of 100 | elapsed:    0.0s finished\n",
      "[Parallel(n_jobs=7)]: Using backend ThreadingBackend with 7 concurrent workers.\n",
      "[Parallel(n_jobs=7)]: Done  36 tasks      | elapsed:    0.0s\n",
      "[Parallel(n_jobs=7)]: Done 100 out of 100 | elapsed:    0.0s finished\n"
     ]
    },
    {
     "name": "stdout",
     "output_type": "stream",
     "text": [
      "160 - GLM with avg smape 5.94: \n",
      "Model Number: 161 of 161 with model GLM for Validation 3\n",
      "161 - GLM with avg smape 5.94: \n"
     ]
    }
   ],
   "source": [
    "model = AutoTS(forecast_length=5, frequency='infer', ensemble='simple')\n",
    "model = model.fit(data, date_col='Date', value_col='Close', id_col=None)"
   ]
  },
  {
   "cell_type": "code",
   "execution_count": 7,
   "id": "b7d80666",
   "metadata": {},
   "outputs": [],
   "source": [
    "prediction = model.predict()\n",
    "forecast = prediction.forecast"
   ]
  },
  {
   "cell_type": "code",
   "execution_count": 8,
   "id": "487ef2ca",
   "metadata": {},
   "outputs": [
    {
     "name": "stdout",
     "output_type": "stream",
     "text": [
      "                 Close\n",
      "2022-08-22  889.594162\n",
      "2022-08-23  898.404748\n",
      "2022-08-24  900.658162\n",
      "2022-08-25  892.362040\n",
      "2022-08-26  927.342937\n"
     ]
    }
   ],
   "source": [
    "print(forecast)"
   ]
  }
 ],
 "metadata": {
  "kernelspec": {
   "display_name": "Python 3 (ipykernel)",
   "language": "python",
   "name": "python3"
  },
  "language_info": {
   "codemirror_mode": {
    "name": "ipython",
    "version": 3
   },
   "file_extension": ".py",
   "mimetype": "text/x-python",
   "name": "python",
   "nbconvert_exporter": "python",
   "pygments_lexer": "ipython3",
   "version": "3.9.7"
  }
 },
 "nbformat": 4,
 "nbformat_minor": 5
}
